{
 "cells": [
  {
   "cell_type": "code",
   "execution_count": 1,
   "metadata": {},
   "outputs": [],
   "source": [
    "%config InlineBackend.figure_format = 'retina'\n",
    "%matplotlib inline\n",
    "from IPython.core.interactiveshell import InteractiveShell\n",
    "InteractiveShell.ast_node_interactivity = \"all\""
   ]
  },
  {
   "cell_type": "code",
   "execution_count": 2,
   "metadata": {},
   "outputs": [],
   "source": [
    "import sys\n",
    "import os\n",
    "import random\n",
    "import gc\n",
    "import subprocess\n",
    "from pprint import pprint\n",
    "\n",
    "import numpy as np\n",
    "import pandas as pd\n",
    "import matplotlib.pyplot as plt\n",
    "import seaborn as sns\n",
    "from sklearn.model_selection import train_test_split\n",
    "plt.style.use('./stylelib/custom.mplstyle')\n",
    "\n",
    "%reload_ext autoreload\n",
    "%autoreload 2\n",
    "import preprocessing\n",
    "import plotter"
   ]
  },
  {
   "cell_type": "markdown",
   "metadata": {},
   "source": [
    "---\n",
    "\n",
    "## 1. Data Preprocessing\n",
    "### 1.1 Downsample training data\n",
    "Only 1% of the all training records is used for exploratory data analysis"
   ]
  },
  {
   "cell_type": "code",
   "execution_count": 3,
   "metadata": {},
   "outputs": [
    {
     "name": "stdout",
     "output_type": "stream",
     "text": [
      "CPU times: user 10 µs, sys: 1e+03 ns, total: 11 µs\n",
      "Wall time: 14.1 µs\n"
     ]
    }
   ],
   "source": [
    "%%time\n",
    "\n",
    "dir_data = './data'\n",
    "from_scratch = False\n",
    "\n",
    "csv_raw = os.path.join(dir_data, 'train.csv')\n",
    "csv_reduced = os.path.join(dir_data, 'train_sample.csv')\n",
    "if from_scratch:\n",
    "    nlines_raw, nlines_reduced = preprocessing.csv_randomized_downsamp(\n",
    "        csv_in=csv_raw, csv_out=csv_reduced, fraction=0.005\n",
    "    )"
   ]
  },
  {
   "cell_type": "code",
   "execution_count": 4,
   "metadata": {},
   "outputs": [
    {
     "name": "stdout",
     "output_type": "stream",
     "text": [
      "ip,app,device,os,channel,click_time,attributed_time,is_attributed\n",
      "106284,15,1,41,277,2017-11-06 22:57:46,,0\n"
     ]
    }
   ],
   "source": [
    "!head -2 ./data/train_sample.csv"
   ]
  },
  {
   "cell_type": "markdown",
   "metadata": {},
   "source": [
    "### 1.2 Load into data frame and inspect raw features"
   ]
  },
  {
   "cell_type": "code",
   "execution_count": 45,
   "metadata": {},
   "outputs": [
    {
     "data": {
      "text/html": [
       "<div>\n",
       "<style scoped>\n",
       "    .dataframe tbody tr th:only-of-type {\n",
       "        vertical-align: middle;\n",
       "    }\n",
       "\n",
       "    .dataframe tbody tr th {\n",
       "        vertical-align: top;\n",
       "    }\n",
       "\n",
       "    .dataframe thead th {\n",
       "        text-align: right;\n",
       "    }\n",
       "</style>\n",
       "<table border=\"1\" class=\"dataframe\">\n",
       "  <thead>\n",
       "    <tr style=\"text-align: right;\">\n",
       "      <th></th>\n",
       "      <th>ip</th>\n",
       "      <th>app</th>\n",
       "      <th>device</th>\n",
       "      <th>os</th>\n",
       "      <th>channel</th>\n",
       "      <th>click_time</th>\n",
       "      <th>is_attributed</th>\n",
       "    </tr>\n",
       "  </thead>\n",
       "  <tbody>\n",
       "    <tr>\n",
       "      <th>0</th>\n",
       "      <td>86946</td>\n",
       "      <td>3</td>\n",
       "      <td>1</td>\n",
       "      <td>19</td>\n",
       "      <td>379</td>\n",
       "      <td>2017-11-06 23:46:14+08:00</td>\n",
       "      <td>0</td>\n",
       "    </tr>\n",
       "    <tr>\n",
       "      <th>1</th>\n",
       "      <td>119349</td>\n",
       "      <td>3</td>\n",
       "      <td>1</td>\n",
       "      <td>17</td>\n",
       "      <td>379</td>\n",
       "      <td>2017-11-06 23:57:47+08:00</td>\n",
       "      <td>0</td>\n",
       "    </tr>\n",
       "    <tr>\n",
       "      <th>2</th>\n",
       "      <td>73516</td>\n",
       "      <td>18</td>\n",
       "      <td>1</td>\n",
       "      <td>22</td>\n",
       "      <td>107</td>\n",
       "      <td>2017-11-07 00:00:00+08:00</td>\n",
       "      <td>0</td>\n",
       "    </tr>\n",
       "  </tbody>\n",
       "</table>\n",
       "</div>"
      ],
      "text/plain": [
       "       ip  app  device  os  channel                click_time  is_attributed\n",
       "0   86946    3       1  19      379 2017-11-06 23:46:14+08:00              0\n",
       "1  119349    3       1  17      379 2017-11-06 23:57:47+08:00              0\n",
       "2   73516   18       1  22      107 2017-11-07 00:00:00+08:00              0"
      ]
     },
     "metadata": {},
     "output_type": "display_data"
    }
   ],
   "source": [
    "# Load sampled csv into pandas dataframe, sort by click time (and reset index)\n",
    "df_train = pd.read_csv(\n",
    "    csv_reduced,\n",
    "    usecols=['ip', 'app', 'device', 'os', 'channel', 'click_time', 'is_attributed'],\n",
    "    parse_dates=['click_time'],\n",
    ").sort_values(by='click_time').reset_index(drop=True)\n",
    "\n",
    "# Convert click time to local time\n",
    "df_train['click_time'] = (\n",
    "    pd.DatetimeIndex(df_train['click_time']).tz_localize('utc').tz_convert('Asia/Shanghai')\n",
    ")\n",
    "\n",
    "# Inspect first few lines\n",
    "display(df_train.head(3))"
   ]
  },
  {
   "cell_type": "markdown",
   "metadata": {},
   "source": [
    "### 1.3 Time feature construction\n",
    "* Convert UTC time to Asia/Shanghai time\n",
    "* Extract hour of the day from `click_time` as a separate feature `click_hour` "
   ]
  },
  {
   "cell_type": "code",
   "execution_count": 46,
   "metadata": {},
   "outputs": [],
   "source": [
    "# Extract hour of the day\n",
    "df_train['click_hour'] = df_train['click_time'].dt.hour\n",
    "df_train.drop(columns=['click_time'], inplace=True)"
   ]
  },
  {
   "cell_type": "code",
   "execution_count": 47,
   "metadata": {},
   "outputs": [
    {
     "data": {
      "text/html": [
       "<div>\n",
       "<style scoped>\n",
       "    .dataframe tbody tr th:only-of-type {\n",
       "        vertical-align: middle;\n",
       "    }\n",
       "\n",
       "    .dataframe tbody tr th {\n",
       "        vertical-align: top;\n",
       "    }\n",
       "\n",
       "    .dataframe thead th {\n",
       "        text-align: right;\n",
       "    }\n",
       "</style>\n",
       "<table border=\"1\" class=\"dataframe\">\n",
       "  <thead>\n",
       "    <tr style=\"text-align: right;\">\n",
       "      <th></th>\n",
       "      <th>ip</th>\n",
       "      <th>app</th>\n",
       "      <th>device</th>\n",
       "      <th>os</th>\n",
       "      <th>channel</th>\n",
       "      <th>is_attributed</th>\n",
       "      <th>click_hour</th>\n",
       "    </tr>\n",
       "  </thead>\n",
       "  <tbody>\n",
       "    <tr>\n",
       "      <th>0</th>\n",
       "      <td>86946</td>\n",
       "      <td>3</td>\n",
       "      <td>1</td>\n",
       "      <td>19</td>\n",
       "      <td>379</td>\n",
       "      <td>0</td>\n",
       "      <td>23</td>\n",
       "    </tr>\n",
       "    <tr>\n",
       "      <th>1</th>\n",
       "      <td>119349</td>\n",
       "      <td>3</td>\n",
       "      <td>1</td>\n",
       "      <td>17</td>\n",
       "      <td>379</td>\n",
       "      <td>0</td>\n",
       "      <td>23</td>\n",
       "    </tr>\n",
       "    <tr>\n",
       "      <th>2</th>\n",
       "      <td>73516</td>\n",
       "      <td>18</td>\n",
       "      <td>1</td>\n",
       "      <td>22</td>\n",
       "      <td>107</td>\n",
       "      <td>0</td>\n",
       "      <td>0</td>\n",
       "    </tr>\n",
       "    <tr>\n",
       "      <th>3</th>\n",
       "      <td>101941</td>\n",
       "      <td>12</td>\n",
       "      <td>1</td>\n",
       "      <td>9</td>\n",
       "      <td>259</td>\n",
       "      <td>0</td>\n",
       "      <td>0</td>\n",
       "    </tr>\n",
       "    <tr>\n",
       "      <th>4</th>\n",
       "      <td>209129</td>\n",
       "      <td>3</td>\n",
       "      <td>1</td>\n",
       "      <td>13</td>\n",
       "      <td>452</td>\n",
       "      <td>0</td>\n",
       "      <td>0</td>\n",
       "    </tr>\n",
       "  </tbody>\n",
       "</table>\n",
       "</div>"
      ],
      "text/plain": [
       "       ip  app  device  os  channel  is_attributed  click_hour\n",
       "0   86946    3       1  19      379              0          23\n",
       "1  119349    3       1  17      379              0          23\n",
       "2   73516   18       1  22      107              0           0\n",
       "3  101941   12       1   9      259              0           0\n",
       "4  209129    3       1  13      452              0           0"
      ]
     },
     "execution_count": 47,
     "metadata": {},
     "output_type": "execute_result"
    }
   ],
   "source": [
    "df_train.head()"
   ]
  },
  {
   "cell_type": "code",
   "execution_count": 53,
   "metadata": {},
   "outputs": [
    {
     "data": {
      "image/png": "[encoded data removed]",
      "text/plain": [
       "<Figure size 600x400 with 2 Axes>"
      ]
     },
     "metadata": {
      "image/png": {
       "height": 396,
       "width": 487
      }
     },
     "output_type": "display_data"
    }
   ],
   "source": [
    "cols_corr = [x for x in df_train.columns if x != 'is_attributed']\n",
    "corr_matrix = df_train[cols_corr].corr()\n",
    "mask = np.zeros_like(corr_matrix, dtype=np.bool)\n",
    "mask[np.triu_indices_from(mask)] = True\n",
    "sns.heatmap(\n",
    "    corr_matrix, mask=mask, cmap='RdBu', vmin=-1, vmax=1,\n",
    "    square=True, linewidths=.5,\n",
    "    cbar_kws={'label':'Pearson\\'s r'}\n",
    ");"
   ]
  },
  {
   "cell_type": "code",
   "execution_count": 49,
   "metadata": {},
   "outputs": [
    {
     "data": {
      "text/html": [
       "<div>\n",
       "<style scoped>\n",
       "    .dataframe tbody tr th:only-of-type {\n",
       "        vertical-align: middle;\n",
       "    }\n",
       "\n",
       "    .dataframe tbody tr th {\n",
       "        vertical-align: top;\n",
       "    }\n",
       "\n",
       "    .dataframe thead th {\n",
       "        text-align: right;\n",
       "    }\n",
       "</style>\n",
       "<table border=\"1\" class=\"dataframe\">\n",
       "  <thead>\n",
       "    <tr style=\"text-align: right;\">\n",
       "      <th></th>\n",
       "      <th>ip</th>\n",
       "      <th>app</th>\n",
       "      <th>device</th>\n",
       "      <th>channel</th>\n",
       "      <th>is_attributed</th>\n",
       "      <th>click_hour</th>\n",
       "    </tr>\n",
       "  </thead>\n",
       "  <tbody>\n",
       "    <tr>\n",
       "      <th>0</th>\n",
       "      <td>86946</td>\n",
       "      <td>3</td>\n",
       "      <td>1</td>\n",
       "      <td>379</td>\n",
       "      <td>0</td>\n",
       "      <td>23</td>\n",
       "    </tr>\n",
       "    <tr>\n",
       "      <th>1</th>\n",
       "      <td>119349</td>\n",
       "      <td>3</td>\n",
       "      <td>1</td>\n",
       "      <td>379</td>\n",
       "      <td>0</td>\n",
       "      <td>23</td>\n",
       "    </tr>\n",
       "    <tr>\n",
       "      <th>2</th>\n",
       "      <td>73516</td>\n",
       "      <td>18</td>\n",
       "      <td>1</td>\n",
       "      <td>107</td>\n",
       "      <td>0</td>\n",
       "      <td>0</td>\n",
       "    </tr>\n",
       "    <tr>\n",
       "      <th>3</th>\n",
       "      <td>101941</td>\n",
       "      <td>12</td>\n",
       "      <td>1</td>\n",
       "      <td>259</td>\n",
       "      <td>0</td>\n",
       "      <td>0</td>\n",
       "    </tr>\n",
       "    <tr>\n",
       "      <th>4</th>\n",
       "      <td>209129</td>\n",
       "      <td>3</td>\n",
       "      <td>1</td>\n",
       "      <td>452</td>\n",
       "      <td>0</td>\n",
       "      <td>0</td>\n",
       "    </tr>\n",
       "  </tbody>\n",
       "</table>\n",
       "</div>"
      ],
      "text/plain": [
       "       ip  app  device  channel  is_attributed  click_hour\n",
       "0   86946    3       1      379              0          23\n",
       "1  119349    3       1      379              0          23\n",
       "2   73516   18       1      107              0           0\n",
       "3  101941   12       1      259              0           0\n",
       "4  209129    3       1      452              0           0"
      ]
     },
     "execution_count": 49,
     "metadata": {},
     "output_type": "execute_result"
    }
   ],
   "source": [
    "df_train.drop(columns=['os'], inplace=True)\n",
    "df_train.head()"
   ]
  },
  {
   "cell_type": "markdown",
   "metadata": {},
   "source": [
    "### 1.4 Feature engineering\n",
    "Construct feature combinations, and use the counts of records belonging to each of the combinations as the new features."
   ]
  },
  {
   "cell_type": "code",
   "execution_count": 51,
   "metadata": {},
   "outputs": [
    {
     "name": "stdout",
     "output_type": "stream",
     "text": [
      "[['ip', 'device'], ['ip', 'channel'], ['ip', 'app'], ['ip', 'device', 'channel'], ['ip', 'device', 'app'], ['ip', 'channel', 'app'], ['ip', 'device', 'channel', 'app']]\n"
     ]
    }
   ],
   "source": [
    "# Generate feature combinations\n",
    "feature_primary = 'ip'\n",
    "feature_other = ['device', 'channel', 'app']\n",
    "feature_combinations = preprocessing.list_feature_combinations(\n",
    "    feature_primary=feature_primary, feature_other=feature_other\n",
    ")\n",
    "print(feature_combinations)"
   ]
  },
  {
   "cell_type": "code",
   "execution_count": 73,
   "metadata": {},
   "outputs": [
    {
     "name": "stdout",
     "output_type": "stream",
     "text": [
      "['ip', 'device']\n",
      "['ip', 'channel']\n",
      "['ip', 'app']\n",
      "['ip', 'device', 'channel']\n",
      "['ip', 'device', 'app']\n",
      "['ip', 'channel', 'app']\n",
      "['ip', 'device', 'channel', 'app']\n"
     ]
    },
    {
     "data": {
      "text/html": [
       "<div>\n",
       "<style scoped>\n",
       "    .dataframe tbody tr th:only-of-type {\n",
       "        vertical-align: middle;\n",
       "    }\n",
       "\n",
       "    .dataframe tbody tr th {\n",
       "        vertical-align: top;\n",
       "    }\n",
       "\n",
       "    .dataframe thead th {\n",
       "        text-align: right;\n",
       "    }\n",
       "</style>\n",
       "<table border=\"1\" class=\"dataframe\">\n",
       "  <thead>\n",
       "    <tr style=\"text-align: right;\">\n",
       "      <th></th>\n",
       "      <th>ip</th>\n",
       "      <th>app</th>\n",
       "      <th>device</th>\n",
       "      <th>channel</th>\n",
       "      <th>is_attributed</th>\n",
       "      <th>click_hour</th>\n",
       "      <th>count_ip_device</th>\n",
       "      <th>mean_hr_ip_device</th>\n",
       "      <th>var_hr_ip_device</th>\n",
       "      <th>count_ip_channel</th>\n",
       "      <th>...</th>\n",
       "      <th>var_hr_ip_device_channel</th>\n",
       "      <th>count_ip_device_app</th>\n",
       "      <th>mean_hr_ip_device_app</th>\n",
       "      <th>var_hr_ip_device_app</th>\n",
       "      <th>count_ip_channel_app</th>\n",
       "      <th>mean_hr_ip_channel_app</th>\n",
       "      <th>var_hr_ip_channel_app</th>\n",
       "      <th>count_ip_device_channel_app</th>\n",
       "      <th>mean_hr_ip_device_channel_app</th>\n",
       "      <th>var_hr_ip_device_channel_app</th>\n",
       "    </tr>\n",
       "  </thead>\n",
       "  <tbody>\n",
       "    <tr>\n",
       "      <th>0</th>\n",
       "      <td>86946</td>\n",
       "      <td>3</td>\n",
       "      <td>1</td>\n",
       "      <td>379</td>\n",
       "      <td>0</td>\n",
       "      <td>23</td>\n",
       "      <td>3</td>\n",
       "      <td>20.000000</td>\n",
       "      <td>27.000000</td>\n",
       "      <td>1</td>\n",
       "      <td>...</td>\n",
       "      <td>NaN</td>\n",
       "      <td>1</td>\n",
       "      <td>23.000000</td>\n",
       "      <td>NaN</td>\n",
       "      <td>1</td>\n",
       "      <td>23.000000</td>\n",
       "      <td>NaN</td>\n",
       "      <td>1</td>\n",
       "      <td>23.000000</td>\n",
       "      <td>NaN</td>\n",
       "    </tr>\n",
       "    <tr>\n",
       "      <th>1</th>\n",
       "      <td>119349</td>\n",
       "      <td>3</td>\n",
       "      <td>1</td>\n",
       "      <td>379</td>\n",
       "      <td>0</td>\n",
       "      <td>23</td>\n",
       "      <td>632</td>\n",
       "      <td>15.955696</td>\n",
       "      <td>33.351441</td>\n",
       "      <td>11</td>\n",
       "      <td>...</td>\n",
       "      <td>28.018182</td>\n",
       "      <td>107</td>\n",
       "      <td>16.168224</td>\n",
       "      <td>33.141245</td>\n",
       "      <td>2</td>\n",
       "      <td>17.500000</td>\n",
       "      <td>60.500000</td>\n",
       "      <td>2</td>\n",
       "      <td>17.500000</td>\n",
       "      <td>60.500000</td>\n",
       "    </tr>\n",
       "    <tr>\n",
       "      <th>2</th>\n",
       "      <td>73516</td>\n",
       "      <td>18</td>\n",
       "      <td>1</td>\n",
       "      <td>107</td>\n",
       "      <td>0</td>\n",
       "      <td>0</td>\n",
       "      <td>3077</td>\n",
       "      <td>13.765031</td>\n",
       "      <td>53.792951</td>\n",
       "      <td>129</td>\n",
       "      <td>...</td>\n",
       "      <td>45.971901</td>\n",
       "      <td>174</td>\n",
       "      <td>14.103448</td>\n",
       "      <td>51.145306</td>\n",
       "      <td>119</td>\n",
       "      <td>14.579832</td>\n",
       "      <td>44.872810</td>\n",
       "      <td>113</td>\n",
       "      <td>14.690265</td>\n",
       "      <td>46.162137</td>\n",
       "    </tr>\n",
       "    <tr>\n",
       "      <th>3</th>\n",
       "      <td>101941</td>\n",
       "      <td>12</td>\n",
       "      <td>1</td>\n",
       "      <td>259</td>\n",
       "      <td>0</td>\n",
       "      <td>0</td>\n",
       "      <td>124</td>\n",
       "      <td>13.411290</td>\n",
       "      <td>46.666863</td>\n",
       "      <td>20</td>\n",
       "      <td>...</td>\n",
       "      <td>55.359477</td>\n",
       "      <td>26</td>\n",
       "      <td>13.423077</td>\n",
       "      <td>40.573846</td>\n",
       "      <td>17</td>\n",
       "      <td>12.117647</td>\n",
       "      <td>58.360294</td>\n",
       "      <td>15</td>\n",
       "      <td>13.200000</td>\n",
       "      <td>54.742857</td>\n",
       "    </tr>\n",
       "    <tr>\n",
       "      <th>4</th>\n",
       "      <td>209129</td>\n",
       "      <td>3</td>\n",
       "      <td>1</td>\n",
       "      <td>452</td>\n",
       "      <td>0</td>\n",
       "      <td>0</td>\n",
       "      <td>10</td>\n",
       "      <td>10.100000</td>\n",
       "      <td>56.988889</td>\n",
       "      <td>1</td>\n",
       "      <td>...</td>\n",
       "      <td>NaN</td>\n",
       "      <td>1</td>\n",
       "      <td>0.000000</td>\n",
       "      <td>NaN</td>\n",
       "      <td>1</td>\n",
       "      <td>0.000000</td>\n",
       "      <td>NaN</td>\n",
       "      <td>1</td>\n",
       "      <td>0.000000</td>\n",
       "      <td>NaN</td>\n",
       "    </tr>\n",
       "  </tbody>\n",
       "</table>\n",
       "<p>5 rows × 27 columns</p>\n",
       "</div>"
      ],
      "text/plain": [
       "       ip  app  device  channel  is_attributed  click_hour  count_ip_device  \\\n",
       "0   86946    3       1      379              0          23                3   \n",
       "1  119349    3       1      379              0          23              632   \n",
       "2   73516   18       1      107              0           0             3077   \n",
       "3  101941   12       1      259              0           0              124   \n",
       "4  209129    3       1      452              0           0               10   \n",
       "\n",
       "   mean_hr_ip_device  var_hr_ip_device  count_ip_channel  \\\n",
       "0          20.000000         27.000000                 1   \n",
       "1          15.955696         33.351441                11   \n",
       "2          13.765031         53.792951               129   \n",
       "3          13.411290         46.666863                20   \n",
       "4          10.100000         56.988889                 1   \n",
       "\n",
       "               ...               var_hr_ip_device_channel  \\\n",
       "0              ...                                    NaN   \n",
       "1              ...                              28.018182   \n",
       "2              ...                              45.971901   \n",
       "3              ...                              55.359477   \n",
       "4              ...                                    NaN   \n",
       "\n",
       "   count_ip_device_app  mean_hr_ip_device_app  var_hr_ip_device_app  \\\n",
       "0                    1              23.000000                   NaN   \n",
       "1                  107              16.168224             33.141245   \n",
       "2                  174              14.103448             51.145306   \n",
       "3                   26              13.423077             40.573846   \n",
       "4                    1               0.000000                   NaN   \n",
       "\n",
       "   count_ip_channel_app  mean_hr_ip_channel_app  var_hr_ip_channel_app  \\\n",
       "0                     1               23.000000                    NaN   \n",
       "1                     2               17.500000              60.500000   \n",
       "2                   119               14.579832              44.872810   \n",
       "3                    17               12.117647              58.360294   \n",
       "4                     1                0.000000                    NaN   \n",
       "\n",
       "   count_ip_device_channel_app  mean_hr_ip_device_channel_app  \\\n",
       "0                            1                      23.000000   \n",
       "1                            2                      17.500000   \n",
       "2                          113                      14.690265   \n",
       "3                           15                      13.200000   \n",
       "4                            1                       0.000000   \n",
       "\n",
       "   var_hr_ip_device_channel_app  \n",
       "0                           NaN  \n",
       "1                     60.500000  \n",
       "2                     46.162137  \n",
       "3                     54.742857  \n",
       "4                           NaN  \n",
       "\n",
       "[5 rows x 27 columns]"
      ]
     },
     "execution_count": 73,
     "metadata": {},
     "output_type": "execute_result"
    }
   ],
   "source": [
    "csv_engineered = os.path.join(dir_data, 'train_sample_engineered.csv')\n",
    "if not os.path.exists(csv_engineered):\n",
    "    df_engineered = preprocessing.df_engineered(\n",
    "        df_in=df_train, feature_combinations=feature_combinations\n",
    "    )\n",
    "else:\n",
    "    df_engineered = pd.read_csv(csv_engineered)\n",
    "df_engineered.drop(columns=['index'], inplace=True)\n",
    "display(df_engineered.head(3))"
   ]
  },
  {
   "cell_type": "code",
   "execution_count": null,
   "metadata": {},
   "outputs": [],
   "source": [
    "# Load engineered features into dataframe\n",
    "csv_engineered = os.path.join(dir_data, 'train_sample_engineered.csv')\n",
    "if not os.path.exists(csv_engineered):\n",
    "    df_engineered = preprocessing.df_engineered(\n",
    "        df_in=df, feature_combinations=feature_combinations, csv_out=csv_engineered\n",
    "    )\n",
    "else:\n",
    "    df_engineered = pd.read_csv(csv_engineered)\n",
    "df_engineered.drop(columns=['index'], inplace=True)\n",
    "display(df_engineered.head(3))"
   ]
  },
  {
   "cell_type": "markdown",
   "metadata": {},
   "source": [
    "---\n",
    "## 2. Exploratory data analysis"
   ]
  },
  {
   "cell_type": "markdown",
   "metadata": {},
   "source": [
    "(1) Train-test split"
   ]
  },
  {
   "cell_type": "code",
   "execution_count": null,
   "metadata": {},
   "outputs": [],
   "source": [
    "df_train, df_test = train_test_split(df_engineered, test_size=0.2, random_state=42)"
   ]
  },
  {
   "cell_type": "markdown",
   "metadata": {},
   "source": [
    "(2) Visualize click count as function of click time"
   ]
  },
  {
   "cell_type": "code",
   "execution_count": null,
   "metadata": {},
   "outputs": [],
   "source": [
    "hist_params = dict(bins=24, edgecolor='w', alpha=0.5)\n",
    "fig, ax = plt.subplots()\n",
    "ax = plotter.compare_hist(df_train, by='click_hour', hist_params=hist_params, ax=ax)\n",
    "ax.set(xlabel='Click time in hour-of-the day (Shanghai time)')\n",
    "plt.show();"
   ]
  },
  {
   "cell_type": "markdown",
   "metadata": {},
   "source": [
    "---\n",
    "## 3. Machine learning"
   ]
  },
  {
   "cell_type": "code",
   "execution_count": null,
   "metadata": {},
   "outputs": [],
   "source": [
    "cols = [x for x in df_train.columns if 'count' in x] + ['app', 'device', 'os', 'click_hour', 'channel']\n",
    "X_train, y_train = (df_train[cols], df_train['is_attributed'])\n",
    "X_test, y_test = (df_test[cols], df_test['is_attributed'])"
   ]
  },
  {
   "cell_type": "code",
   "execution_count": null,
   "metadata": {},
   "outputs": [],
   "source": [
    "from sklearn.pipeline import Pipeline\n",
    "from sklearn.linear_model import LogisticRegression\n",
    "from sklearn.tree import DecisionTreeClassifier\n",
    "from sklearn.preprocessing import (StandardScaler, MinMaxScaler)\n",
    "from sklearn.metrics import roc_auc_score\n",
    "from sklearn.model_selection import (cross_val_score, RandomizedSearchCV)"
   ]
  },
  {
   "cell_type": "code",
   "execution_count": null,
   "metadata": {},
   "outputs": [],
   "source": [
    "model = DecisionTreeClassifier(class_weight='balanced')\n",
    "#model = DecisionTreeClassifier()\n",
    "scaler = StandardScaler()\n",
    "\n",
    "X_train_scaled = scaler.fit_transform(X_train)\n",
    "X_test_scaled = scaler.fit_transform(X_test)\n",
    "model.fit(X_train, y_train)\n",
    "y_pred = model.predict(X_test)\n",
    "auc = roc_auc_score(y_test, y_pred)\n",
    "print(auc)"
   ]
  },
  {
   "cell_type": "code",
   "execution_count": null,
   "metadata": {},
   "outputs": [],
   "source": [
    "import xgboost as xgb\n",
    "model = xgb.XGBClassifier(objective='binary:logistic', n_estimators=10, seed=42)\n",
    "model.fit(X_train, y_train)\n",
    "y_pred = model.predict(X_test)\n",
    "auc = roc_auc_score(y_test, y_pred)\n",
    "print(auc)"
   ]
  },
  {
   "cell_type": "code",
   "execution_count": null,
   "metadata": {},
   "outputs": [],
   "source": [
    "from sklearn.feature_selection import RFE\n",
    "estimator = DecisionTreeClassifier()\n",
    "selector = RFE(estimator, step=1)\n",
    "selector = selector.fit(X_train, y_train)"
   ]
  },
  {
   "cell_type": "code",
   "execution_count": null,
   "metadata": {},
   "outputs": [],
   "source": [
    "selector"
   ]
  },
  {
   "cell_type": "code",
   "execution_count": null,
   "metadata": {},
   "outputs": [],
   "source": [
    "print(selector.support_)\n",
    "print(selector.ranking_)"
   ]
  },
  {
   "cell_type": "code",
   "execution_count": null,
   "metadata": {},
   "outputs": [],
   "source": [
    "col_array = np.array(cols)\n",
    "col_array"
   ]
  },
  {
   "cell_type": "code",
   "execution_count": null,
   "metadata": {},
   "outputs": [],
   "source": [
    "cols = col_array[selector.support_]"
   ]
  },
  {
   "cell_type": "code",
   "execution_count": null,
   "metadata": {},
   "outputs": [],
   "source": [
    "X_train, y_train = (df_train[cols], df_train['is_attributed'])\n",
    "X_test, y_test = (df_test[cols], df_test['is_attributed'])"
   ]
  },
  {
   "cell_type": "code",
   "execution_count": null,
   "metadata": {},
   "outputs": [],
   "source": [
    "model = DecisionTreeClassifier()\n",
    "scaler = StandardScaler()\n",
    "\n",
    "X_train_scaled = scaler.fit_transform(X_train)\n",
    "X_test_scaled = scaler.fit_transform(X_test)\n",
    "model.fit(X_train_scaled, y_train)\n",
    "y_pred = model.predict(X_test_scaled)\n",
    "auc = roc_auc_score(y_test, y_pred)\n",
    "print(auc)\n",
    "\n",
    "X_train.shape"
   ]
  }
 ],
 "metadata": {
  "kernelspec": {
   "display_name": "Python 3",
   "language": "python",
   "name": "python3"
  },
  "language_info": {
   "codemirror_mode": {
    "name": "ipython",
    "version": 3
   },
   "file_extension": ".py",
   "mimetype": "text/x-python",
   "name": "python",
   "nbconvert_exporter": "python",
   "pygments_lexer": "ipython3",
   "version": "3.6.5"
  }
 },
 "nbformat": 4,
 "nbformat_minor": 2
}
