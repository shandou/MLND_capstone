{
 "cells": [
  {
   "cell_type": "code",
   "execution_count": 2,
   "metadata": {},
   "outputs": [],
   "source": [
    "import sys\n",
    "import os\n",
    "import numpy as np\n",
    "import pandas as pd\n",
    "import matplotlib.pyplot as plt"
   ]
  },
  {
   "cell_type": "code",
   "execution_count": 3,
   "metadata": {},
   "outputs": [
    {
     "name": "stdout",
     "output_type": "stream",
     "text": [
      "CPU times: user 136 ms, sys: 17.5 ms, total: 153 ms\n",
      "Wall time: 161 ms\n"
     ]
    }
   ],
   "source": [
    "%%time\n",
    "df = pd.read_csv('./data/train.csv', nrows=1e5, parse_dates=['click_time'])"
   ]
  },
  {
   "cell_type": "code",
   "execution_count": 4,
   "metadata": {},
   "outputs": [
    {
     "data": {
      "text/html": [
       "<div>\n",
       "<style>\n",
       "    .dataframe thead tr:only-child th {\n",
       "        text-align: right;\n",
       "    }\n",
       "\n",
       "    .dataframe thead th {\n",
       "        text-align: left;\n",
       "    }\n",
       "\n",
       "    .dataframe tbody tr th {\n",
       "        vertical-align: top;\n",
       "    }\n",
       "</style>\n",
       "<table border=\"1\" class=\"dataframe\">\n",
       "  <thead>\n",
       "    <tr style=\"text-align: right;\">\n",
       "      <th></th>\n",
       "      <th>ip</th>\n",
       "      <th>app</th>\n",
       "      <th>device</th>\n",
       "      <th>os</th>\n",
       "      <th>channel</th>\n",
       "      <th>click_time</th>\n",
       "      <th>attributed_time</th>\n",
       "      <th>is_attributed</th>\n",
       "    </tr>\n",
       "  </thead>\n",
       "  <tbody>\n",
       "    <tr>\n",
       "      <th>0</th>\n",
       "      <td>83230</td>\n",
       "      <td>3</td>\n",
       "      <td>1</td>\n",
       "      <td>13</td>\n",
       "      <td>379</td>\n",
       "      <td>2017-11-06 14:32:21</td>\n",
       "      <td>NaN</td>\n",
       "      <td>0</td>\n",
       "    </tr>\n",
       "    <tr>\n",
       "      <th>1</th>\n",
       "      <td>17357</td>\n",
       "      <td>3</td>\n",
       "      <td>1</td>\n",
       "      <td>19</td>\n",
       "      <td>379</td>\n",
       "      <td>2017-11-06 14:33:34</td>\n",
       "      <td>NaN</td>\n",
       "      <td>0</td>\n",
       "    </tr>\n",
       "    <tr>\n",
       "      <th>2</th>\n",
       "      <td>35810</td>\n",
       "      <td>3</td>\n",
       "      <td>1</td>\n",
       "      <td>13</td>\n",
       "      <td>379</td>\n",
       "      <td>2017-11-06 14:34:12</td>\n",
       "      <td>NaN</td>\n",
       "      <td>0</td>\n",
       "    </tr>\n",
       "    <tr>\n",
       "      <th>3</th>\n",
       "      <td>45745</td>\n",
       "      <td>14</td>\n",
       "      <td>1</td>\n",
       "      <td>13</td>\n",
       "      <td>478</td>\n",
       "      <td>2017-11-06 14:34:52</td>\n",
       "      <td>NaN</td>\n",
       "      <td>0</td>\n",
       "    </tr>\n",
       "    <tr>\n",
       "      <th>4</th>\n",
       "      <td>161007</td>\n",
       "      <td>3</td>\n",
       "      <td>1</td>\n",
       "      <td>13</td>\n",
       "      <td>379</td>\n",
       "      <td>2017-11-06 14:35:08</td>\n",
       "      <td>NaN</td>\n",
       "      <td>0</td>\n",
       "    </tr>\n",
       "  </tbody>\n",
       "</table>\n",
       "</div>"
      ],
      "text/plain": [
       "       ip  app  device  os  channel          click_time attributed_time  \\\n",
       "0   83230    3       1  13      379 2017-11-06 14:32:21             NaN   \n",
       "1   17357    3       1  19      379 2017-11-06 14:33:34             NaN   \n",
       "2   35810    3       1  13      379 2017-11-06 14:34:12             NaN   \n",
       "3   45745   14       1  13      478 2017-11-06 14:34:52             NaN   \n",
       "4  161007    3       1  13      379 2017-11-06 14:35:08             NaN   \n",
       "\n",
       "   is_attributed  \n",
       "0              0  \n",
       "1              0  \n",
       "2              0  \n",
       "3              0  \n",
       "4              0  "
      ]
     },
     "execution_count": 4,
     "metadata": {},
     "output_type": "execute_result"
    }
   ],
   "source": [
    "df.head()"
   ]
  },
  {
   "cell_type": "code",
   "execution_count": 5,
   "metadata": {},
   "outputs": [],
   "source": [
    "df.set_index('click_time', inplace=True)"
   ]
  },
  {
   "cell_type": "code",
   "execution_count": 24,
   "metadata": {},
   "outputs": [
    {
     "data": {
      "text/plain": [
       "click_time\n",
       "2017-11-06 14:32:21      NaN\n",
       "2017-11-06 14:33:34     73.0\n",
       "2017-11-06 14:34:12     38.0\n",
       "2017-11-06 14:34:52     40.0\n",
       "2017-11-06 14:35:08     16.0\n",
       "2017-11-06 14:36:26     78.0\n",
       "2017-11-06 14:37:44     78.0\n",
       "2017-11-06 14:37:59     15.0\n",
       "2017-11-06 14:38:10     11.0\n",
       "2017-11-06 14:38:23     13.0\n",
       "2017-11-06 14:38:27      4.0\n",
       "2017-11-06 14:38:51     24.0\n",
       "2017-11-06 14:39:29     38.0\n",
       "2017-11-06 14:40:16     47.0\n",
       "2017-11-06 14:40:39     23.0\n",
       "2017-11-06 14:40:51     12.0\n",
       "2017-11-06 14:43:10    139.0\n",
       "2017-11-06 14:43:14      4.0\n",
       "2017-11-06 14:43:25     11.0\n",
       "2017-11-06 14:43:51     26.0\n",
       "2017-11-06 14:44:02     11.0\n",
       "2017-11-06 14:44:15     13.0\n",
       "2017-11-06 14:44:51     36.0\n",
       "2017-11-06 14:44:51      0.0\n",
       "2017-11-06 14:44:52      1.0\n",
       "2017-11-06 14:47:49    177.0\n",
       "2017-11-06 14:48:07     18.0\n",
       "2017-11-06 14:48:55     48.0\n",
       "2017-11-06 14:49:36     41.0\n",
       "2017-11-06 14:49:38      2.0\n",
       "                       ...  \n",
       "2017-11-06 16:01:48      0.0\n",
       "2017-11-06 16:01:48      0.0\n",
       "2017-11-06 16:01:48      0.0\n",
       "2017-11-06 16:01:48      0.0\n",
       "2017-11-06 16:01:48      0.0\n",
       "2017-11-06 16:01:48      0.0\n",
       "2017-11-06 16:01:48      0.0\n",
       "2017-11-06 16:01:48      0.0\n",
       "2017-11-06 16:01:48      0.0\n",
       "2017-11-06 16:01:48      0.0\n",
       "2017-11-06 16:01:48      0.0\n",
       "2017-11-06 16:01:48      0.0\n",
       "2017-11-06 16:01:48      0.0\n",
       "2017-11-06 16:01:48      0.0\n",
       "2017-11-06 16:01:48      0.0\n",
       "2017-11-06 16:01:48      0.0\n",
       "2017-11-06 16:01:48      0.0\n",
       "2017-11-06 16:01:48      0.0\n",
       "2017-11-06 16:01:48      0.0\n",
       "2017-11-06 16:01:48      0.0\n",
       "2017-11-06 16:01:48      0.0\n",
       "2017-11-06 16:01:48      0.0\n",
       "2017-11-06 16:01:48      0.0\n",
       "2017-11-06 16:01:48      0.0\n",
       "2017-11-06 16:01:48      0.0\n",
       "2017-11-06 16:01:48      0.0\n",
       "2017-11-06 16:01:48      0.0\n",
       "2017-11-06 16:01:48      0.0\n",
       "2017-11-06 16:01:48      0.0\n",
       "2017-11-06 16:01:48      0.0\n",
       "Name: click_time, Length: 100000, dtype: float64"
      ]
     },
     "execution_count": 24,
     "metadata": {},
     "output_type": "execute_result"
    }
   ],
   "source": [
    "df.index.to_series().diff().dt.seconds"
   ]
  },
  {
   "cell_type": "code",
   "execution_count": 12,
   "metadata": {},
   "outputs": [
    {
     "data": {
      "text/plain": [
       "56782"
      ]
     },
     "execution_count": 12,
     "metadata": {},
     "output_type": "execute_result"
    }
   ],
   "source": [
    "df.groupby(['ip', 'app']).count().shape[0]"
   ]
  },
  {
   "cell_type": "code",
   "execution_count": 14,
   "metadata": {},
   "outputs": [
    {
     "data": {
      "text/plain": [
       "15369"
      ]
     },
     "execution_count": 14,
     "metadata": {},
     "output_type": "execute_result"
    }
   ],
   "source": [
    "df.groupby(['ip']).count().shape[0]"
   ]
  },
  {
   "cell_type": "code",
   "execution_count": 11,
   "metadata": {},
   "outputs": [
    {
     "data": {
      "text/plain": [
       "100000"
      ]
     },
     "execution_count": 11,
     "metadata": {},
     "output_type": "execute_result"
    }
   ],
   "source": [
    "df.shape[0]"
   ]
  }
 ],
 "metadata": {
  "kernelspec": {
   "display_name": "Python 3",
   "language": "python",
   "name": "python3"
  },
  "language_info": {
   "codemirror_mode": {
    "name": "ipython",
    "version": 3
   },
   "file_extension": ".py",
   "mimetype": "text/x-python",
   "name": "python",
   "nbconvert_exporter": "python",
   "pygments_lexer": "ipython3",
   "version": "3.6.1"
  }
 },
 "nbformat": 4,
 "nbformat_minor": 2
}
