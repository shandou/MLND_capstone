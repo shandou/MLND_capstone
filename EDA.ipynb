{
 "cells": [
  {
   "cell_type": "code",
   "execution_count": 1,
   "metadata": {},
   "outputs": [],
   "source": [
    "%config InlineBackend.figure_format = 'retina'\n",
    "%matplotlib inline\n",
    "from IPython.core.interactiveshell import InteractiveShell\n",
    "InteractiveShell.ast_node_interactivity = \"all\""
   ]
  },
  {
   "cell_type": "code",
   "execution_count": 2,
   "metadata": {},
   "outputs": [],
   "source": [
    "import sys\n",
    "import os\n",
    "import random\n",
    "import gc\n",
    "import subprocess\n",
    "import pprint\n",
    "\n",
    "import numpy as np\n",
    "import pandas as pd\n",
    "import matplotlib.pyplot as plt\n",
    "import seaborn as sns\n",
    "plt.style.use('./stylelib/custom.mplstyle')"
   ]
  },
  {
   "cell_type": "markdown",
   "metadata": {},
   "source": [
    "## Extract a random sample 1% of the original size"
   ]
  },
  {
   "cell_type": "code",
   "execution_count": 4,
   "metadata": {},
   "outputs": [
    {
     "name": "stdout",
     "output_type": "stream",
     "text": [
      "CPU times: user 4 µs, sys: 1e+03 ns, total: 5 µs\n",
      "Wall time: 5.72 µs\n"
     ]
    }
   ],
   "source": [
    "%%time\n",
    "raw_csv = './data/train.csv'\n",
    "sample_csv = './data/train_sample.csv'\n",
    "need_to_sample = False\n",
    "\n",
    "if need_to_sample:\n",
    "    result = subprocess.check_output('wc -l {}'.format(raw_csv), shell=True)\n",
    "    nlines_total = int(result.split()[0])\n",
    "    nlines_sample = int(0.01 * nlines_total)\n",
    "    subprocess.call('head -1 {} > {}'.format(raw_csv, sample_csv), shell=True)\n",
    "    subprocess.call('gshuf -n {} {} >> {}'.format(nlines_sample, raw_csv, sample_csv), shell=True)"
   ]
  },
  {
   "cell_type": "code",
   "execution_count": 5,
   "metadata": {},
   "outputs": [
    {
     "name": "stdout",
     "output_type": "stream",
     "text": [
      "184903891 1849038\n"
     ]
    }
   ],
   "source": [
    "print(nlines_total, nlines_sample)"
   ]
  },
  {
   "cell_type": "code",
   "execution_count": 128,
   "metadata": {},
   "outputs": [],
   "source": [
    "# Load sampled csv into pandas dataframe, sort by click time (and reset index)\n",
    "df = pd.read_csv(\n",
    "    sample_csv, parse_dates=['click_time', 'attributed_time']\n",
    ").sort_values(by='click_time').reset_index()"
   ]
  },
  {
   "cell_type": "code",
   "execution_count": 129,
   "metadata": {},
   "outputs": [
    {
     "data": {
      "text/html": [
       "<div>\n",
       "<style scoped>\n",
       "    .dataframe tbody tr th:only-of-type {\n",
       "        vertical-align: middle;\n",
       "    }\n",
       "\n",
       "    .dataframe tbody tr th {\n",
       "        vertical-align: top;\n",
       "    }\n",
       "\n",
       "    .dataframe thead th {\n",
       "        text-align: right;\n",
       "    }\n",
       "</style>\n",
       "<table border=\"1\" class=\"dataframe\">\n",
       "  <thead>\n",
       "    <tr style=\"text-align: right;\">\n",
       "      <th></th>\n",
       "      <th>index</th>\n",
       "      <th>ip</th>\n",
       "      <th>app</th>\n",
       "      <th>device</th>\n",
       "      <th>os</th>\n",
       "      <th>channel</th>\n",
       "      <th>click_time</th>\n",
       "      <th>attributed_time</th>\n",
       "      <th>is_attributed</th>\n",
       "    </tr>\n",
       "  </thead>\n",
       "  <tbody>\n",
       "    <tr>\n",
       "      <th>0</th>\n",
       "      <td>1276657</td>\n",
       "      <td>53418</td>\n",
       "      <td>3</td>\n",
       "      <td>1</td>\n",
       "      <td>17</td>\n",
       "      <td>379</td>\n",
       "      <td>2017-11-06 14:44:52</td>\n",
       "      <td>NaT</td>\n",
       "      <td>0</td>\n",
       "    </tr>\n",
       "    <tr>\n",
       "      <th>1</th>\n",
       "      <td>1334333</td>\n",
       "      <td>84644</td>\n",
       "      <td>3</td>\n",
       "      <td>1</td>\n",
       "      <td>19</td>\n",
       "      <td>379</td>\n",
       "      <td>2017-11-06 14:56:49</td>\n",
       "      <td>NaT</td>\n",
       "      <td>0</td>\n",
       "    </tr>\n",
       "    <tr>\n",
       "      <th>2</th>\n",
       "      <td>1372212</td>\n",
       "      <td>38683</td>\n",
       "      <td>3</td>\n",
       "      <td>1</td>\n",
       "      <td>19</td>\n",
       "      <td>379</td>\n",
       "      <td>2017-11-06 15:08:26</td>\n",
       "      <td>NaT</td>\n",
       "      <td>0</td>\n",
       "    </tr>\n",
       "    <tr>\n",
       "      <th>3</th>\n",
       "      <td>956786</td>\n",
       "      <td>3653</td>\n",
       "      <td>3</td>\n",
       "      <td>1</td>\n",
       "      <td>18</td>\n",
       "      <td>379</td>\n",
       "      <td>2017-11-06 15:21:34</td>\n",
       "      <td>NaT</td>\n",
       "      <td>0</td>\n",
       "    </tr>\n",
       "    <tr>\n",
       "      <th>4</th>\n",
       "      <td>1679204</td>\n",
       "      <td>191880</td>\n",
       "      <td>3</td>\n",
       "      <td>1</td>\n",
       "      <td>18</td>\n",
       "      <td>379</td>\n",
       "      <td>2017-11-06 15:42:20</td>\n",
       "      <td>NaT</td>\n",
       "      <td>0</td>\n",
       "    </tr>\n",
       "  </tbody>\n",
       "</table>\n",
       "</div>"
      ],
      "text/plain": [
       "     index      ip  app  device  os  channel          click_time  \\\n",
       "0  1276657   53418    3       1  17      379 2017-11-06 14:44:52   \n",
       "1  1334333   84644    3       1  19      379 2017-11-06 14:56:49   \n",
       "2  1372212   38683    3       1  19      379 2017-11-06 15:08:26   \n",
       "3   956786    3653    3       1  18      379 2017-11-06 15:21:34   \n",
       "4  1679204  191880    3       1  18      379 2017-11-06 15:42:20   \n",
       "\n",
       "  attributed_time  is_attributed  \n",
       "0             NaT              0  \n",
       "1             NaT              0  \n",
       "2             NaT              0  \n",
       "3             NaT              0  \n",
       "4             NaT              0  "
      ]
     },
     "execution_count": 129,
     "metadata": {},
     "output_type": "execute_result"
    }
   ],
   "source": [
    "df.head()"
   ]
  },
  {
   "cell_type": "code",
   "execution_count": 130,
   "metadata": {},
   "outputs": [
    {
     "name": "stdout",
     "output_type": "stream",
     "text": [
      "<class 'pandas.core.frame.DataFrame'>\n",
      "RangeIndex: 1849038 entries, 0 to 1849037\n",
      "Data columns (total 9 columns):\n",
      "index              int64\n",
      "ip                 int64\n",
      "app                int64\n",
      "device             int64\n",
      "os                 int64\n",
      "channel            int64\n",
      "click_time         datetime64[ns]\n",
      "attributed_time    datetime64[ns]\n",
      "is_attributed      int64\n",
      "dtypes: datetime64[ns](2), int64(7)\n",
      "memory usage: 127.0 MB\n"
     ]
    }
   ],
   "source": [
    "df.info()"
   ]
  },
  {
   "cell_type": "code",
   "execution_count": 131,
   "metadata": {},
   "outputs": [],
   "source": [
    "for col in ['click_time', 'attributed_time']:\n",
    "    df[col] = pd.DatetimeIndex(df[col]).tz_localize('utc').tz_convert('Asia/Shanghai')"
   ]
  },
  {
   "cell_type": "code",
   "execution_count": 132,
   "metadata": {},
   "outputs": [
    {
     "data": {
      "text/plain": [
       "count     4588.000000\n",
       "mean      5197.161726\n",
       "std      10426.189964\n",
       "min          0.000000\n",
       "25%         56.000000\n",
       "50%        283.500000\n",
       "75%       4710.250000\n",
       "max      84269.000000\n",
       "Name: delta_time_click_vs_attr, dtype: float64"
      ]
     },
     "execution_count": 132,
     "metadata": {},
     "output_type": "execute_result"
    }
   ],
   "source": [
    "df['delta_time_click_vs_attr'] = (df['attributed_time'] - df['click_time']).dt.total_seconds()\n",
    "df['delta_time_click_vs_attr'].describe()"
   ]
  },
  {
   "cell_type": "code",
   "execution_count": 133,
   "metadata": {},
   "outputs": [
    {
     "data": {
      "text/html": [
       "<div>\n",
       "<style scoped>\n",
       "    .dataframe tbody tr th:only-of-type {\n",
       "        vertical-align: middle;\n",
       "    }\n",
       "\n",
       "    .dataframe tbody tr th {\n",
       "        vertical-align: top;\n",
       "    }\n",
       "\n",
       "    .dataframe thead th {\n",
       "        text-align: right;\n",
       "    }\n",
       "</style>\n",
       "<table border=\"1\" class=\"dataframe\">\n",
       "  <thead>\n",
       "    <tr style=\"text-align: right;\">\n",
       "      <th></th>\n",
       "      <th>index</th>\n",
       "      <th>ip</th>\n",
       "      <th>app</th>\n",
       "      <th>device</th>\n",
       "      <th>os</th>\n",
       "      <th>channel</th>\n",
       "      <th>click_time</th>\n",
       "      <th>attributed_time</th>\n",
       "      <th>is_attributed</th>\n",
       "      <th>delta_time_click_vs_attr</th>\n",
       "      <th>click_hour</th>\n",
       "      <th>attr_hour</th>\n",
       "    </tr>\n",
       "  </thead>\n",
       "  <tbody>\n",
       "    <tr>\n",
       "      <th>0</th>\n",
       "      <td>1276657</td>\n",
       "      <td>53418</td>\n",
       "      <td>3</td>\n",
       "      <td>1</td>\n",
       "      <td>17</td>\n",
       "      <td>379</td>\n",
       "      <td>2017-11-06 22:44:52+08:00</td>\n",
       "      <td>NaT</td>\n",
       "      <td>0</td>\n",
       "      <td>NaN</td>\n",
       "      <td>22</td>\n",
       "      <td>NaN</td>\n",
       "    </tr>\n",
       "    <tr>\n",
       "      <th>1</th>\n",
       "      <td>1334333</td>\n",
       "      <td>84644</td>\n",
       "      <td>3</td>\n",
       "      <td>1</td>\n",
       "      <td>19</td>\n",
       "      <td>379</td>\n",
       "      <td>2017-11-06 22:56:49+08:00</td>\n",
       "      <td>NaT</td>\n",
       "      <td>0</td>\n",
       "      <td>NaN</td>\n",
       "      <td>22</td>\n",
       "      <td>NaN</td>\n",
       "    </tr>\n",
       "    <tr>\n",
       "      <th>2</th>\n",
       "      <td>1372212</td>\n",
       "      <td>38683</td>\n",
       "      <td>3</td>\n",
       "      <td>1</td>\n",
       "      <td>19</td>\n",
       "      <td>379</td>\n",
       "      <td>2017-11-06 23:08:26+08:00</td>\n",
       "      <td>NaT</td>\n",
       "      <td>0</td>\n",
       "      <td>NaN</td>\n",
       "      <td>23</td>\n",
       "      <td>NaN</td>\n",
       "    </tr>\n",
       "    <tr>\n",
       "      <th>3</th>\n",
       "      <td>956786</td>\n",
       "      <td>3653</td>\n",
       "      <td>3</td>\n",
       "      <td>1</td>\n",
       "      <td>18</td>\n",
       "      <td>379</td>\n",
       "      <td>2017-11-06 23:21:34+08:00</td>\n",
       "      <td>NaT</td>\n",
       "      <td>0</td>\n",
       "      <td>NaN</td>\n",
       "      <td>23</td>\n",
       "      <td>NaN</td>\n",
       "    </tr>\n",
       "    <tr>\n",
       "      <th>4</th>\n",
       "      <td>1679204</td>\n",
       "      <td>191880</td>\n",
       "      <td>3</td>\n",
       "      <td>1</td>\n",
       "      <td>18</td>\n",
       "      <td>379</td>\n",
       "      <td>2017-11-06 23:42:20+08:00</td>\n",
       "      <td>NaT</td>\n",
       "      <td>0</td>\n",
       "      <td>NaN</td>\n",
       "      <td>23</td>\n",
       "      <td>NaN</td>\n",
       "    </tr>\n",
       "  </tbody>\n",
       "</table>\n",
       "</div>"
      ],
      "text/plain": [
       "     index      ip  app  device  os  channel                click_time  \\\n",
       "0  1276657   53418    3       1  17      379 2017-11-06 22:44:52+08:00   \n",
       "1  1334333   84644    3       1  19      379 2017-11-06 22:56:49+08:00   \n",
       "2  1372212   38683    3       1  19      379 2017-11-06 23:08:26+08:00   \n",
       "3   956786    3653    3       1  18      379 2017-11-06 23:21:34+08:00   \n",
       "4  1679204  191880    3       1  18      379 2017-11-06 23:42:20+08:00   \n",
       "\n",
       "  attributed_time  is_attributed  delta_time_click_vs_attr  click_hour  \\\n",
       "0             NaT              0                       NaN          22   \n",
       "1             NaT              0                       NaN          22   \n",
       "2             NaT              0                       NaN          23   \n",
       "3             NaT              0                       NaN          23   \n",
       "4             NaT              0                       NaN          23   \n",
       "\n",
       "   attr_hour  \n",
       "0        NaN  \n",
       "1        NaN  \n",
       "2        NaN  \n",
       "3        NaN  \n",
       "4        NaN  "
      ]
     },
     "execution_count": 133,
     "metadata": {},
     "output_type": "execute_result"
    }
   ],
   "source": [
    "df['click_hour'] = df['click_time'].dt.hour\n",
    "df['attr_hour'] = df['attributed_time'].dt.hour\n",
    "df.head()"
   ]
  },
  {
   "cell_type": "code",
   "execution_count": 134,
   "metadata": {},
   "outputs": [
    {
     "data": {
      "text/html": [
       "<div>\n",
       "<style scoped>\n",
       "    .dataframe tbody tr th:only-of-type {\n",
       "        vertical-align: middle;\n",
       "    }\n",
       "\n",
       "    .dataframe tbody tr th {\n",
       "        vertical-align: top;\n",
       "    }\n",
       "\n",
       "    .dataframe thead th {\n",
       "        text-align: right;\n",
       "    }\n",
       "</style>\n",
       "<table border=\"1\" class=\"dataframe\">\n",
       "  <thead>\n",
       "    <tr style=\"text-align: right;\">\n",
       "      <th></th>\n",
       "      <th>index</th>\n",
       "      <th>ip</th>\n",
       "      <th>app</th>\n",
       "      <th>device</th>\n",
       "      <th>os</th>\n",
       "      <th>channel</th>\n",
       "      <th>click_time</th>\n",
       "      <th>attributed_time</th>\n",
       "      <th>is_attributed</th>\n",
       "      <th>delta_time_click_vs_attr</th>\n",
       "      <th>click_hour</th>\n",
       "      <th>attr_hour</th>\n",
       "    </tr>\n",
       "  </thead>\n",
       "  <tbody>\n",
       "    <tr>\n",
       "      <th>0</th>\n",
       "      <td>1849038</td>\n",
       "      <td>96420</td>\n",
       "      <td>323</td>\n",
       "      <td>569</td>\n",
       "      <td>229</td>\n",
       "      <td>176</td>\n",
       "      <td>248175</td>\n",
       "      <td>4538</td>\n",
       "      <td>2</td>\n",
       "      <td>2339</td>\n",
       "      <td>24</td>\n",
       "      <td>24</td>\n",
       "    </tr>\n",
       "  </tbody>\n",
       "</table>\n",
       "</div>"
      ],
      "text/plain": [
       "     index     ip  app  device   os  channel  click_time  attributed_time  \\\n",
       "0  1849038  96420  323     569  229      176      248175             4538   \n",
       "\n",
       "   is_attributed  delta_time_click_vs_attr  click_hour  attr_hour  \n",
       "0              2                      2339          24         24  "
      ]
     },
     "execution_count": 134,
     "metadata": {},
     "output_type": "execute_result"
    }
   ],
   "source": [
    "df_unique = pd.DataFrame(df.nunique()).T\n",
    "df_unique"
   ]
  },
  {
   "cell_type": "code",
   "execution_count": 135,
   "metadata": {},
   "outputs": [
    {
     "data": {
      "image/png": "[encoded data removed]",
      "text/plain": [
       "<Figure size 600x400 with 1 Axes>"
      ]
     },
     "metadata": {
      "image/png": {
       "height": 361,
       "width": 532
      }
     },
     "output_type": "display_data"
    }
   ],
   "source": [
    "hist_params = dict(bins=24, edgecolor='w', alpha=0.5)\n",
    "no_params = dict(facecolor='lightcoral', label='No download')\n",
    "yes_params = dict(facecolor='green', label='Yes download')\n",
    "fig, ax = plt.subplots()\n",
    "metric = 'click_hour'\n",
    "ax.hist(df[df['is_attributed'] == 0][metric], **hist_params, **no_params)\n",
    "ax.hist(df[df['is_attributed'] == 1][metric], **hist_params, **yes_params)\n",
    "ax.legend(loc=4)\n",
    "ax.set(\n",
    "    yscale='log', xlabel='Hour of the day (Shanghai time)', ylabel='Count'\n",
    ")\n",
    "plt.show();"
   ]
  },
  {
   "cell_type": "code",
   "execution_count": 143,
   "metadata": {},
   "outputs": [
    {
     "name": "stdout",
     "output_type": "stream",
     "text": [
      "click_hour\n",
      "os\n",
      "device\n",
      "channel\n"
     ]
    }
   ],
   "source": [
    "attr_ref = 'ip'\n",
    "attr_list = ['click_hour', 'os', 'device', 'channel']\n",
    "df_engineered = df.copy()\n",
    "\n",
    "for attr_other in attr_list:\n",
    "    print(attr_other)\n",
    "    df_temp = df.groupby([attr_ref, attr_other]).count()['app']\n",
    "    df_temp = df_temp.reset_index().rename(columns={'app' : 'count_ip-by-{}'.format(attr_other)})\n",
    "    df_summary = df.merge(df_temp, how='outer', on=['ip', '{}'.format(attr_other)])\n",
    "    df_engineered['count_ip-by-{}'.format(attr_other)] = df_summary['count_ip-by-{}'.format(attr_other)]"
   ]
  },
  {
   "cell_type": "code",
   "execution_count": 144,
   "metadata": {},
   "outputs": [
    {
     "data": {
      "text/html": [
       "<div>\n",
       "<style scoped>\n",
       "    .dataframe tbody tr th:only-of-type {\n",
       "        vertical-align: middle;\n",
       "    }\n",
       "\n",
       "    .dataframe tbody tr th {\n",
       "        vertical-align: top;\n",
       "    }\n",
       "\n",
       "    .dataframe thead th {\n",
       "        text-align: right;\n",
       "    }\n",
       "</style>\n",
       "<table border=\"1\" class=\"dataframe\">\n",
       "  <thead>\n",
       "    <tr style=\"text-align: right;\">\n",
       "      <th></th>\n",
       "      <th>index</th>\n",
       "      <th>ip</th>\n",
       "      <th>app</th>\n",
       "      <th>device</th>\n",
       "      <th>os</th>\n",
       "      <th>channel</th>\n",
       "      <th>click_time</th>\n",
       "      <th>attributed_time</th>\n",
       "      <th>is_attributed</th>\n",
       "      <th>delta_time_click_vs_attr</th>\n",
       "      <th>click_hour</th>\n",
       "      <th>attr_hour</th>\n",
       "      <th>count_ip-by-click_hour</th>\n",
       "      <th>count_ip-by-os</th>\n",
       "      <th>count_ip-by-device</th>\n",
       "      <th>count_ip-by-channel</th>\n",
       "    </tr>\n",
       "  </thead>\n",
       "  <tbody>\n",
       "    <tr>\n",
       "      <th>0</th>\n",
       "      <td>1276657</td>\n",
       "      <td>53418</td>\n",
       "      <td>3</td>\n",
       "      <td>1</td>\n",
       "      <td>17</td>\n",
       "      <td>379</td>\n",
       "      <td>2017-11-06 22:44:52+08:00</td>\n",
       "      <td>NaT</td>\n",
       "      <td>0</td>\n",
       "      <td>NaN</td>\n",
       "      <td>22</td>\n",
       "      <td>NaN</td>\n",
       "      <td>2</td>\n",
       "      <td>2</td>\n",
       "      <td>22</td>\n",
       "      <td>1</td>\n",
       "    </tr>\n",
       "    <tr>\n",
       "      <th>1</th>\n",
       "      <td>1334333</td>\n",
       "      <td>84644</td>\n",
       "      <td>3</td>\n",
       "      <td>1</td>\n",
       "      <td>19</td>\n",
       "      <td>379</td>\n",
       "      <td>2017-11-06 22:56:49+08:00</td>\n",
       "      <td>NaT</td>\n",
       "      <td>0</td>\n",
       "      <td>NaN</td>\n",
       "      <td>22</td>\n",
       "      <td>NaN</td>\n",
       "      <td>2</td>\n",
       "      <td>2</td>\n",
       "      <td>22</td>\n",
       "      <td>11</td>\n",
       "    </tr>\n",
       "    <tr>\n",
       "      <th>2</th>\n",
       "      <td>1372212</td>\n",
       "      <td>38683</td>\n",
       "      <td>3</td>\n",
       "      <td>1</td>\n",
       "      <td>19</td>\n",
       "      <td>379</td>\n",
       "      <td>2017-11-06 23:08:26+08:00</td>\n",
       "      <td>NaT</td>\n",
       "      <td>0</td>\n",
       "      <td>NaN</td>\n",
       "      <td>23</td>\n",
       "      <td>NaN</td>\n",
       "      <td>98</td>\n",
       "      <td>125</td>\n",
       "      <td>22</td>\n",
       "      <td>11</td>\n",
       "    </tr>\n",
       "    <tr>\n",
       "      <th>3</th>\n",
       "      <td>956786</td>\n",
       "      <td>3653</td>\n",
       "      <td>3</td>\n",
       "      <td>1</td>\n",
       "      <td>18</td>\n",
       "      <td>379</td>\n",
       "      <td>2017-11-06 23:21:34+08:00</td>\n",
       "      <td>NaT</td>\n",
       "      <td>0</td>\n",
       "      <td>NaN</td>\n",
       "      <td>23</td>\n",
       "      <td>NaN</td>\n",
       "      <td>98</td>\n",
       "      <td>125</td>\n",
       "      <td>22</td>\n",
       "      <td>11</td>\n",
       "    </tr>\n",
       "    <tr>\n",
       "      <th>4</th>\n",
       "      <td>1679204</td>\n",
       "      <td>191880</td>\n",
       "      <td>3</td>\n",
       "      <td>1</td>\n",
       "      <td>18</td>\n",
       "      <td>379</td>\n",
       "      <td>2017-11-06 23:42:20+08:00</td>\n",
       "      <td>NaT</td>\n",
       "      <td>0</td>\n",
       "      <td>NaN</td>\n",
       "      <td>23</td>\n",
       "      <td>NaN</td>\n",
       "      <td>98</td>\n",
       "      <td>125</td>\n",
       "      <td>22</td>\n",
       "      <td>11</td>\n",
       "    </tr>\n",
       "  </tbody>\n",
       "</table>\n",
       "</div>"
      ],
      "text/plain": [
       "     index      ip  app  device  os  channel                click_time  \\\n",
       "0  1276657   53418    3       1  17      379 2017-11-06 22:44:52+08:00   \n",
       "1  1334333   84644    3       1  19      379 2017-11-06 22:56:49+08:00   \n",
       "2  1372212   38683    3       1  19      379 2017-11-06 23:08:26+08:00   \n",
       "3   956786    3653    3       1  18      379 2017-11-06 23:21:34+08:00   \n",
       "4  1679204  191880    3       1  18      379 2017-11-06 23:42:20+08:00   \n",
       "\n",
       "  attributed_time  is_attributed  delta_time_click_vs_attr  click_hour  \\\n",
       "0             NaT              0                       NaN          22   \n",
       "1             NaT              0                       NaN          22   \n",
       "2             NaT              0                       NaN          23   \n",
       "3             NaT              0                       NaN          23   \n",
       "4             NaT              0                       NaN          23   \n",
       "\n",
       "   attr_hour  count_ip-by-click_hour  count_ip-by-os  count_ip-by-device  \\\n",
       "0        NaN                       2               2                  22   \n",
       "1        NaN                       2               2                  22   \n",
       "2        NaN                      98             125                  22   \n",
       "3        NaN                      98             125                  22   \n",
       "4        NaN                      98             125                  22   \n",
       "\n",
       "   count_ip-by-channel  \n",
       "0                    1  \n",
       "1                   11  \n",
       "2                   11  \n",
       "3                   11  \n",
       "4                   11  "
      ]
     },
     "execution_count": 144,
     "metadata": {},
     "output_type": "execute_result"
    }
   ],
   "source": [
    "df_engineered.head()"
   ]
  },
  {
   "cell_type": "code",
   "execution_count": 147,
   "metadata": {},
   "outputs": [
    {
     "data": {
      "image/png": "[encoded data removed]",
      "text/plain": [
       "<Figure size 600x400 with 1 Axes>"
      ]
     },
     "metadata": {
      "image/png": {
       "height": 339,
       "width": 511
      }
     },
     "output_type": "display_data"
    }
   ],
   "source": [
    "fig, ax = plt.subplots()\n",
    "metric = 'count_ip-by-os'\n",
    "ax.hist(\n",
    "    df_engineered[df_engineered['is_attributed'] == 0][metric], **hist_params, **no_params\n",
    ")\n",
    "ax.hist(\n",
    "    df_engineered[df_engineered['is_attributed'] == 1][metric], **hist_params, **yes_params\n",
    ")\n",
    "ax.set(yscale='log')\n",
    "plt.show();"
   ]
  }
 ],
 "metadata": {
  "kernelspec": {
   "display_name": "Python 3",
   "language": "python",
   "name": "python3"
  },
  "language_info": {
   "codemirror_mode": {
    "name": "ipython",
    "version": 3
   },
   "file_extension": ".py",
   "mimetype": "text/x-python",
   "name": "python",
   "nbconvert_exporter": "python",
   "pygments_lexer": "ipython3",
   "version": "3.6.5"
  }
 },
 "nbformat": 4,
 "nbformat_minor": 2
}
