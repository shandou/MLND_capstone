{
 "cells": [
  {
   "cell_type": "code",
   "execution_count": 1,
   "metadata": {},
   "outputs": [],
   "source": [
    "%config InlineBackend.figure_format = 'retina'\n",
    "%matplotlib inline\n",
    "from IPython.core.interactiveshell import InteractiveShell\n",
    "InteractiveShell.ast_node_interactivity = \"all\""
   ]
  },
  {
   "cell_type": "code",
   "execution_count": 2,
   "metadata": {},
   "outputs": [
    {
     "name": "stdout",
     "output_type": "stream",
     "text": [
      "The autoreload extension is already loaded. To reload it, use:\n",
      "  %reload_ext autoreload\n"
     ]
    }
   ],
   "source": [
    "import sys\n",
    "import os\n",
    "import random\n",
    "import gc\n",
    "import subprocess\n",
    "from pprint import pprint\n",
    "\n",
    "import numpy as np\n",
    "import pandas as pd\n",
    "import matplotlib.pyplot as plt\n",
    "import seaborn as sns\n",
    "from sklearn.model_selection import train_test_split\n",
    "plt.style.use('./stylelib/custom.mplstyle')\n",
    "\n",
    "%load_ext autoreload\n",
    "%autoreload 2\n",
    "import preprocessing\n",
    "import plotter\n",
    "%load_ext autoreload\n",
    "%autoreload 2"
   ]
  },
  {
   "cell_type": "markdown",
   "metadata": {},
   "source": [
    "---\n",
    "\n",
    "## 1. Data Preprocessing\n",
    "### 1.1 Downsample training data\n",
    "Only 1% of the all training records is used for exploratory data analysis"
   ]
  },
  {
   "cell_type": "code",
   "execution_count": 3,
   "metadata": {},
   "outputs": [
    {
     "name": "stdout",
     "output_type": "stream",
     "text": [
      "CPU times: user 7.26 ms, sys: 10.3 ms, total: 17.6 ms\n",
      "Wall time: 3min 39s\n"
     ]
    }
   ],
   "source": [
    "%%time\n",
    "\n",
    "dir_data = './data'\n",
    "from_scratch = True\n",
    "\n",
    "csv_raw = os.path.join(dir_data, 'train.csv')\n",
    "csv_reduced = os.path.join(dir_data, 'train_sample.csv')\n",
    "if from_scratch:\n",
    "    nlines_raw, nlines_reduced = preprocessing.csv_randomized_downsamp(\n",
    "        csv_in=csv_raw, csv_out=csv_reduced, fraction=0.001\n",
    "    )"
   ]
  },
  {
   "cell_type": "markdown",
   "metadata": {},
   "source": [
    "### 1.2 Load into data frame and inspect raw features"
   ]
  },
  {
   "cell_type": "code",
   "execution_count": 4,
   "metadata": {},
   "outputs": [
    {
     "data": {
      "text/html": [
       "<div>\n",
       "<style scoped>\n",
       "    .dataframe tbody tr th:only-of-type {\n",
       "        vertical-align: middle;\n",
       "    }\n",
       "\n",
       "    .dataframe tbody tr th {\n",
       "        vertical-align: top;\n",
       "    }\n",
       "\n",
       "    .dataframe thead th {\n",
       "        text-align: right;\n",
       "    }\n",
       "</style>\n",
       "<table border=\"1\" class=\"dataframe\">\n",
       "  <thead>\n",
       "    <tr style=\"text-align: right;\">\n",
       "      <th></th>\n",
       "      <th>index</th>\n",
       "      <th>ip</th>\n",
       "      <th>app</th>\n",
       "      <th>device</th>\n",
       "      <th>os</th>\n",
       "      <th>channel</th>\n",
       "      <th>click_time</th>\n",
       "      <th>attributed_time</th>\n",
       "      <th>is_attributed</th>\n",
       "    </tr>\n",
       "  </thead>\n",
       "  <tbody>\n",
       "    <tr>\n",
       "      <th>0</th>\n",
       "      <td>28325</td>\n",
       "      <td>107922</td>\n",
       "      <td>3</td>\n",
       "      <td>1</td>\n",
       "      <td>19</td>\n",
       "      <td>379</td>\n",
       "      <td>2017-11-06 15:58:34</td>\n",
       "      <td>NaT</td>\n",
       "      <td>0</td>\n",
       "    </tr>\n",
       "    <tr>\n",
       "      <th>1</th>\n",
       "      <td>97574</td>\n",
       "      <td>109644</td>\n",
       "      <td>18</td>\n",
       "      <td>1</td>\n",
       "      <td>19</td>\n",
       "      <td>121</td>\n",
       "      <td>2017-11-06 16:00:01</td>\n",
       "      <td>NaT</td>\n",
       "      <td>0</td>\n",
       "    </tr>\n",
       "    <tr>\n",
       "      <th>2</th>\n",
       "      <td>39474</td>\n",
       "      <td>12788</td>\n",
       "      <td>15</td>\n",
       "      <td>1</td>\n",
       "      <td>15</td>\n",
       "      <td>315</td>\n",
       "      <td>2017-11-06 16:00:02</td>\n",
       "      <td>NaT</td>\n",
       "      <td>0</td>\n",
       "    </tr>\n",
       "  </tbody>\n",
       "</table>\n",
       "</div>"
      ],
      "text/plain": [
       "   index      ip  app  device  os  channel          click_time  \\\n",
       "0  28325  107922    3       1  19      379 2017-11-06 15:58:34   \n",
       "1  97574  109644   18       1  19      121 2017-11-06 16:00:01   \n",
       "2  39474   12788   15       1  15      315 2017-11-06 16:00:02   \n",
       "\n",
       "  attributed_time  is_attributed  \n",
       "0             NaT              0  \n",
       "1             NaT              0  \n",
       "2             NaT              0  "
      ]
     },
     "metadata": {},
     "output_type": "display_data"
    }
   ],
   "source": [
    "# Load sampled csv into pandas dataframe, sort by click time (and reset index)\n",
    "df = pd.read_csv(\n",
    "    csv_reduced, parse_dates=['click_time', 'attributed_time']\n",
    ").sort_values(by='click_time').reset_index()\n",
    "\n",
    "# Inspect first few lines\n",
    "display(df.head(3))"
   ]
  },
  {
   "cell_type": "markdown",
   "metadata": {},
   "source": [
    "### 1.3 Time feature construction\n",
    "* Convert UTC time to Asia/Shanghai time\n",
    "* Extract hour of the day from `click_time` as a separate feature `click_hour` "
   ]
  },
  {
   "cell_type": "code",
   "execution_count": 5,
   "metadata": {},
   "outputs": [],
   "source": [
    "# Convert UTC to local time\n",
    "for col in ['click_time', 'attributed_time']:\n",
    "    df[col] = pd.DatetimeIndex(df[col]).tz_localize('utc').tz_convert('Asia/Shanghai')\n",
    "\n",
    "# Extract hour of the day\n",
    "df['click_hour'] = df['click_time'].dt.hour"
   ]
  },
  {
   "cell_type": "markdown",
   "metadata": {},
   "source": [
    "### 1.4 Feature engineering\n",
    "Construct feature combinations, and use the counts of records belonging to each of the combinations as the new features."
   ]
  },
  {
   "cell_type": "code",
   "execution_count": 6,
   "metadata": {},
   "outputs": [],
   "source": [
    "# Generate feature combinations\n",
    "feature_primary = 'ip'\n",
    "feature_other = ['click_hour', 'os', 'device', 'channel', 'app']\n",
    "feature_combinations = preprocessing.list_feature_combinations(\n",
    "    feature_primary=feature_primary, feature_other=feature_other\n",
    ")"
   ]
  },
  {
   "cell_type": "code",
   "execution_count": 7,
   "metadata": {},
   "outputs": [
    {
     "data": {
      "text/html": [
       "<div>\n",
       "<style scoped>\n",
       "    .dataframe tbody tr th:only-of-type {\n",
       "        vertical-align: middle;\n",
       "    }\n",
       "\n",
       "    .dataframe tbody tr th {\n",
       "        vertical-align: top;\n",
       "    }\n",
       "\n",
       "    .dataframe thead th {\n",
       "        text-align: right;\n",
       "    }\n",
       "</style>\n",
       "<table border=\"1\" class=\"dataframe\">\n",
       "  <thead>\n",
       "    <tr style=\"text-align: right;\">\n",
       "      <th></th>\n",
       "      <th>ip</th>\n",
       "      <th>app</th>\n",
       "      <th>device</th>\n",
       "      <th>os</th>\n",
       "      <th>channel</th>\n",
       "      <th>click_time</th>\n",
       "      <th>attributed_time</th>\n",
       "      <th>is_attributed</th>\n",
       "      <th>click_hour</th>\n",
       "      <th>count_ip_click_hour</th>\n",
       "      <th>...</th>\n",
       "      <th>count_ip_os_device_channel</th>\n",
       "      <th>count_ip_os_device_app</th>\n",
       "      <th>count_ip_os_channel_app</th>\n",
       "      <th>count_ip_device_channel_app</th>\n",
       "      <th>count_ip_click_hour_os_device_channel</th>\n",
       "      <th>count_ip_click_hour_os_device_app</th>\n",
       "      <th>count_ip_click_hour_os_channel_app</th>\n",
       "      <th>count_ip_click_hour_device_channel_app</th>\n",
       "      <th>count_ip_os_device_channel_app</th>\n",
       "      <th>count_ip_click_hour_os_device_channel_app</th>\n",
       "    </tr>\n",
       "  </thead>\n",
       "  <tbody>\n",
       "    <tr>\n",
       "      <th>0</th>\n",
       "      <td>107922</td>\n",
       "      <td>3</td>\n",
       "      <td>1</td>\n",
       "      <td>19</td>\n",
       "      <td>379</td>\n",
       "      <td>2017-11-06 23:58:34+08:00</td>\n",
       "      <td>NaT</td>\n",
       "      <td>0</td>\n",
       "      <td>23</td>\n",
       "      <td>2</td>\n",
       "      <td>...</td>\n",
       "      <td>1</td>\n",
       "      <td>1</td>\n",
       "      <td>1</td>\n",
       "      <td>1</td>\n",
       "      <td>1</td>\n",
       "      <td>1</td>\n",
       "      <td>1</td>\n",
       "      <td>1</td>\n",
       "      <td>1</td>\n",
       "      <td>1</td>\n",
       "    </tr>\n",
       "    <tr>\n",
       "      <th>1</th>\n",
       "      <td>109644</td>\n",
       "      <td>18</td>\n",
       "      <td>1</td>\n",
       "      <td>19</td>\n",
       "      <td>121</td>\n",
       "      <td>2017-11-07 00:00:01+08:00</td>\n",
       "      <td>NaT</td>\n",
       "      <td>0</td>\n",
       "      <td>0</td>\n",
       "      <td>2</td>\n",
       "      <td>...</td>\n",
       "      <td>1</td>\n",
       "      <td>2</td>\n",
       "      <td>1</td>\n",
       "      <td>2</td>\n",
       "      <td>1</td>\n",
       "      <td>2</td>\n",
       "      <td>1</td>\n",
       "      <td>1</td>\n",
       "      <td>1</td>\n",
       "      <td>1</td>\n",
       "    </tr>\n",
       "    <tr>\n",
       "      <th>2</th>\n",
       "      <td>12788</td>\n",
       "      <td>15</td>\n",
       "      <td>1</td>\n",
       "      <td>15</td>\n",
       "      <td>315</td>\n",
       "      <td>2017-11-07 00:00:02+08:00</td>\n",
       "      <td>NaT</td>\n",
       "      <td>0</td>\n",
       "      <td>0</td>\n",
       "      <td>3</td>\n",
       "      <td>...</td>\n",
       "      <td>1</td>\n",
       "      <td>2</td>\n",
       "      <td>1</td>\n",
       "      <td>2</td>\n",
       "      <td>1</td>\n",
       "      <td>2</td>\n",
       "      <td>1</td>\n",
       "      <td>1</td>\n",
       "      <td>1</td>\n",
       "      <td>1</td>\n",
       "    </tr>\n",
       "  </tbody>\n",
       "</table>\n",
       "<p>3 rows × 40 columns</p>\n",
       "</div>"
      ],
      "text/plain": [
       "       ip  app  device  os  channel                click_time attributed_time  \\\n",
       "0  107922    3       1  19      379 2017-11-06 23:58:34+08:00             NaT   \n",
       "1  109644   18       1  19      121 2017-11-07 00:00:01+08:00             NaT   \n",
       "2   12788   15       1  15      315 2017-11-07 00:00:02+08:00             NaT   \n",
       "\n",
       "   is_attributed  click_hour  count_ip_click_hour  \\\n",
       "0              0          23                    2   \n",
       "1              0           0                    2   \n",
       "2              0           0                    3   \n",
       "\n",
       "                     ...                      count_ip_os_device_channel  \\\n",
       "0                    ...                                               1   \n",
       "1                    ...                                               1   \n",
       "2                    ...                                               1   \n",
       "\n",
       "   count_ip_os_device_app  count_ip_os_channel_app  \\\n",
       "0                       1                        1   \n",
       "1                       2                        1   \n",
       "2                       2                        1   \n",
       "\n",
       "   count_ip_device_channel_app  count_ip_click_hour_os_device_channel  \\\n",
       "0                            1                                      1   \n",
       "1                            2                                      1   \n",
       "2                            2                                      1   \n",
       "\n",
       "   count_ip_click_hour_os_device_app  count_ip_click_hour_os_channel_app  \\\n",
       "0                                  1                                   1   \n",
       "1                                  2                                   1   \n",
       "2                                  2                                   1   \n",
       "\n",
       "   count_ip_click_hour_device_channel_app  count_ip_os_device_channel_app  \\\n",
       "0                                       1                               1   \n",
       "1                                       1                               1   \n",
       "2                                       1                               1   \n",
       "\n",
       "   count_ip_click_hour_os_device_channel_app  \n",
       "0                                          1  \n",
       "1                                          1  \n",
       "2                                          1  \n",
       "\n",
       "[3 rows x 40 columns]"
      ]
     },
     "metadata": {},
     "output_type": "display_data"
    }
   ],
   "source": [
    "# Load engineered features into dataframe\n",
    "csv_engineered = os.path.join(dir_data, 'train_sample_engineered.csv')\n",
    "if not os.path.exists(csv_engineered):\n",
    "    df_engineered = preprocessing.df_engineered(\n",
    "        df_in=df, feature_combinations=feature_combinations, csv_out=csv_engineered\n",
    "    )\n",
    "else:\n",
    "    df_engineered = pd.read_csv(csv_engineered)\n",
    "df_engineered.drop(columns=['index'], inplace=True)\n",
    "display(df_engineered.head(3))"
   ]
  },
  {
   "cell_type": "markdown",
   "metadata": {},
   "source": [
    "---\n",
    "## 2. Exploratory data analysis"
   ]
  },
  {
   "cell_type": "markdown",
   "metadata": {},
   "source": [
    "(1) Train-test split"
   ]
  },
  {
   "cell_type": "code",
   "execution_count": 8,
   "metadata": {},
   "outputs": [],
   "source": [
    "df_train, df_test = train_test_split(df_engineered, test_size=0.2, random_state=42)"
   ]
  },
  {
   "cell_type": "markdown",
   "metadata": {},
   "source": [
    "(2) Visualize click count as function of click time"
   ]
  },
  {
   "cell_type": "code",
   "execution_count": 9,
   "metadata": {},
   "outputs": [
    {
     "data": {
      "image/png": "[encoded data removed]",
      "text/plain": [
       "<Figure size 600x400 with 1 Axes>"
      ]
     },
     "metadata": {
      "image/png": {
       "height": 361,
       "width": 532
      }
     },
     "output_type": "display_data"
    }
   ],
   "source": [
    "hist_params = dict(bins=24, edgecolor='w', alpha=0.5)\n",
    "fig, ax = plt.subplots()\n",
    "ax = plotter.compare_hist(df_train, by='click_hour', hist_params=hist_params, ax=ax)\n",
    "ax.set(xlabel='Click time in hour-of-the day (Shanghai time)')\n",
    "plt.show();"
   ]
  },
  {
   "cell_type": "markdown",
   "metadata": {},
   "source": [
    "---\n",
    "## 3. Machine learning"
   ]
  },
  {
   "cell_type": "code",
   "execution_count": 60,
   "metadata": {},
   "outputs": [],
   "source": [
    "cols = [x for x in df_train.columns if 'count' in x] + ['app', 'device', 'os', 'click_hour', 'channel']\n",
    "X_train, y_train = (df_train[cols], df_train['is_attributed'])\n",
    "X_test, y_test = (df_test[cols], df_test['is_attributed'])"
   ]
  },
  {
   "cell_type": "code",
   "execution_count": 61,
   "metadata": {},
   "outputs": [],
   "source": [
    "from sklearn.pipeline import Pipeline\n",
    "from sklearn.linear_model import LogisticRegression\n",
    "from sklearn.tree import DecisionTreeClassifier\n",
    "from sklearn.preprocessing import (StandardScaler, MinMaxScaler)\n",
    "from sklearn.metrics import roc_auc_score\n",
    "from sklearn.model_selection import (cross_val_score, RandomizedSearchCV)"
   ]
  },
  {
   "cell_type": "code",
   "execution_count": 62,
   "metadata": {},
   "outputs": [
    {
     "data": {
      "text/plain": [
       "DecisionTreeClassifier(class_weight='balanced', criterion='gini',\n",
       "            max_depth=None, max_features=None, max_leaf_nodes=None,\n",
       "            min_impurity_decrease=0.0, min_impurity_split=None,\n",
       "            min_samples_leaf=1, min_samples_split=2,\n",
       "            min_weight_fraction_leaf=0.0, presort=False, random_state=None,\n",
       "            splitter='best')"
      ]
     },
     "execution_count": 62,
     "metadata": {},
     "output_type": "execute_result"
    },
    {
     "name": "stdout",
     "output_type": "stream",
     "text": [
      "0.6294724361097394\n"
     ]
    }
   ],
   "source": [
    "model = DecisionTreeClassifier(class_weight='balanced')\n",
    "#model = DecisionTreeClassifier()\n",
    "scaler = StandardScaler()\n",
    "\n",
    "X_train_scaled = scaler.fit_transform(X_train)\n",
    "X_test_scaled = scaler.fit_transform(X_test)\n",
    "model.fit(X_train, y_train)\n",
    "y_pred = model.predict(X_test)\n",
    "auc = roc_auc_score(y_test, y_pred)\n",
    "print(auc)"
   ]
  },
  {
   "cell_type": "code",
   "execution_count": 45,
   "metadata": {},
   "outputs": [
    {
     "data": {
      "text/plain": [
       "XGBClassifier(base_score=0.5, booster='gbtree', colsample_bylevel=1,\n",
       "       colsample_bytree=1, gamma=0, learning_rate=0.1, max_delta_step=0,\n",
       "       max_depth=3, min_child_weight=1, missing=None, n_estimators=10,\n",
       "       n_jobs=1, nthread=None, objective='binary:logistic', random_state=0,\n",
       "       reg_alpha=0, reg_lambda=1, scale_pos_weight=1, seed=42, silent=True,\n",
       "       subsample=1)"
      ]
     },
     "execution_count": 45,
     "metadata": {},
     "output_type": "execute_result"
    },
    {
     "name": "stdout",
     "output_type": "stream",
     "text": [
      "0.5\n"
     ]
    },
    {
     "name": "stderr",
     "output_type": "stream",
     "text": [
      "/Users/shandou/anaconda3/envs/mlnd_capstone/lib/python3.6/site-packages/sklearn/preprocessing/label.py:151: DeprecationWarning: The truth value of an empty array is ambiguous. Returning False, but in future this will result in an error. Use `array.size > 0` to check that an array is not empty.\n",
      "  if diff:\n"
     ]
    }
   ],
   "source": [
    "import xgboost as xgb\n",
    "model = xgb.XGBClassifier(objective='binary:logistic', n_estimators=10, seed=42)\n",
    "model.fit(X_train, y_train)\n",
    "y_pred = model.predict(X_test)\n",
    "auc = roc_auc_score(y_test, y_pred)\n",
    "print(auc)"
   ]
  },
  {
   "cell_type": "code",
   "execution_count": 59,
   "metadata": {},
   "outputs": [],
   "source": [
    "from sklearn.feature_selection import RFE\n",
    "estimator = DecisionTreeClassifier()\n",
    "selector = RFE(estimator, step=1)\n",
    "selector = selector.fit(X_train, y_train)"
   ]
  },
  {
   "cell_type": "code",
   "execution_count": 36,
   "metadata": {},
   "outputs": [
    {
     "data": {
      "text/plain": [
       "RFE(estimator=DecisionTreeClassifier(class_weight=None, criterion='gini', max_depth=None,\n",
       "            max_features=None, max_leaf_nodes=None,\n",
       "            min_impurity_decrease=0.0, min_impurity_split=None,\n",
       "            min_samples_leaf=1, min_samples_split=2,\n",
       "            min_weight_fraction_leaf=0.0, presort=False, random_state=None,\n",
       "            splitter='best'),\n",
       "  n_features_to_select=None, step=1, verbose=0)"
      ]
     },
     "execution_count": 36,
     "metadata": {},
     "output_type": "execute_result"
    }
   ],
   "source": [
    "selector"
   ]
  },
  {
   "cell_type": "code",
   "execution_count": 37,
   "metadata": {},
   "outputs": [
    {
     "name": "stdout",
     "output_type": "stream",
     "text": [
      "[ True  True  True False  True  True  True False False  True  True  True\n",
      "  True  True  True False False False False  True False False  True False\n",
      "  True False False False False False False]\n",
      "[ 1  1  1  9  1  1  1 11  2  1  1  1  1  1  1  5 15 16  8  1 10  7  1  4\n",
      "  1 17 12 14  6  3 13]\n"
     ]
    }
   ],
   "source": [
    "print(selector.support_)\n",
    "print(selector.ranking_)"
   ]
  },
  {
   "cell_type": "code",
   "execution_count": 38,
   "metadata": {},
   "outputs": [
    {
     "data": {
      "text/plain": [
       "array(['count_ip_click_hour', 'count_ip_os', 'count_ip_device',\n",
       "       'count_ip_channel', 'count_ip_app', 'count_ip_click_hour_os',\n",
       "       'count_ip_click_hour_device', 'count_ip_click_hour_channel',\n",
       "       'count_ip_click_hour_app', 'count_ip_os_device',\n",
       "       'count_ip_os_channel', 'count_ip_os_app',\n",
       "       'count_ip_device_channel', 'count_ip_device_app',\n",
       "       'count_ip_channel_app', 'count_ip_click_hour_os_device',\n",
       "       'count_ip_click_hour_os_channel', 'count_ip_click_hour_os_app',\n",
       "       'count_ip_click_hour_device_channel',\n",
       "       'count_ip_click_hour_device_app',\n",
       "       'count_ip_click_hour_channel_app', 'count_ip_os_device_channel',\n",
       "       'count_ip_os_device_app', 'count_ip_os_channel_app',\n",
       "       'count_ip_device_channel_app',\n",
       "       'count_ip_click_hour_os_device_channel',\n",
       "       'count_ip_click_hour_os_device_app',\n",
       "       'count_ip_click_hour_os_channel_app',\n",
       "       'count_ip_click_hour_device_channel_app',\n",
       "       'count_ip_os_device_channel_app',\n",
       "       'count_ip_click_hour_os_device_channel_app'], dtype='<U41')"
      ]
     },
     "execution_count": 38,
     "metadata": {},
     "output_type": "execute_result"
    }
   ],
   "source": [
    "col_array = np.array(cols)\n",
    "col_array"
   ]
  },
  {
   "cell_type": "code",
   "execution_count": 39,
   "metadata": {},
   "outputs": [],
   "source": [
    "cols = col_array[selector.support_]"
   ]
  },
  {
   "cell_type": "code",
   "execution_count": 40,
   "metadata": {},
   "outputs": [],
   "source": [
    "X_train, y_train = (df_train[cols], df_train['is_attributed'])\n",
    "X_test, y_test = (df_test[cols], df_test['is_attributed'])"
   ]
  },
  {
   "cell_type": "code",
   "execution_count": 41,
   "metadata": {},
   "outputs": [
    {
     "data": {
      "text/plain": [
       "DecisionTreeClassifier(class_weight=None, criterion='gini', max_depth=None,\n",
       "            max_features=None, max_leaf_nodes=None,\n",
       "            min_impurity_decrease=0.0, min_impurity_split=None,\n",
       "            min_samples_leaf=1, min_samples_split=2,\n",
       "            min_weight_fraction_leaf=0.0, presort=False, random_state=None,\n",
       "            splitter='best')"
      ]
     },
     "execution_count": 41,
     "metadata": {},
     "output_type": "execute_result"
    },
    {
     "name": "stdout",
     "output_type": "stream",
     "text": [
      "0.4983734988750034\n"
     ]
    },
    {
     "data": {
      "text/plain": [
       "(147922, 15)"
      ]
     },
     "execution_count": 41,
     "metadata": {},
     "output_type": "execute_result"
    }
   ],
   "source": [
    "model = DecisionTreeClassifier()\n",
    "scaler = StandardScaler()\n",
    "\n",
    "X_train_scaled = scaler.fit_transform(X_train)\n",
    "X_test_scaled = scaler.fit_transform(X_test)\n",
    "model.fit(X_train_scaled, y_train)\n",
    "y_pred = model.predict(X_test_scaled)\n",
    "auc = roc_auc_score(y_test, y_pred)\n",
    "print(auc)\n",
    "\n",
    "X_train.shape"
   ]
  }
 ],
 "metadata": {
  "kernelspec": {
   "display_name": "Python 3",
   "language": "python",
   "name": "python3"
  },
  "language_info": {
   "codemirror_mode": {
    "name": "ipython",
    "version": 3
   },
   "file_extension": ".py",
   "mimetype": "text/x-python",
   "name": "python",
   "nbconvert_exporter": "python",
   "pygments_lexer": "ipython3",
   "version": "3.6.5"
  }
 },
 "nbformat": 4,
 "nbformat_minor": 2
}
