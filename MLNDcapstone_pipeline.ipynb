{
 "cells": [
  {
   "cell_type": "code",
   "execution_count": 1,
   "metadata": {
    "ExecuteTime": {
     "end_time": "2018-07-06T19:04:20.520748Z",
     "start_time": "2018-07-06T19:04:20.257672Z"
    }
   },
   "outputs": [],
   "source": [
    "%config InlineBackend.figure_format = 'retina'\n",
    "%matplotlib inline\n",
    "from IPython.core.interactiveshell import InteractiveShell\n",
    "InteractiveShell.ast_node_interactivity = \"all\""
   ]
  },
  {
   "cell_type": "code",
   "execution_count": 2,
   "metadata": {
    "ExecuteTime": {
     "end_time": "2018-07-06T19:04:21.034009Z",
     "start_time": "2018-07-06T19:04:20.522766Z"
    }
   },
   "outputs": [],
   "source": [
    "import sys\n",
    "import os\n",
    "import random\n",
    "import gc\n",
    "import subprocess\n",
    "from pprint import pprint\n",
    "\n",
    "import numpy as np\n",
    "import pandas as pd\n",
    "import matplotlib.pyplot as plt\n",
    "import seaborn as sns\n",
    "from sklearn.model_selection import train_test_split\n",
    "plt.style.use('./stylelib/custom.mplstyle')\n",
    "\n",
    "%reload_ext autoreload\n",
    "%autoreload 2\n",
    "import preprocessing\n",
    "import plotter"
   ]
  },
  {
   "cell_type": "markdown",
   "metadata": {},
   "source": [
    "---\n",
    "\n",
    "## 1 Data inspection and loading\n",
    "### 1.1 Downsample training data\n",
    "Only 0.5% of the all training records is used for exploratory data analysis"
   ]
  },
  {
   "cell_type": "code",
   "execution_count": 3,
   "metadata": {
    "ExecuteTime": {
     "end_time": "2018-07-06T19:04:21.068382Z",
     "start_time": "2018-07-06T19:04:21.036116Z"
    }
   },
   "outputs": [
    {
     "name": "stdout",
     "output_type": "stream",
     "text": [
      "CPU times: user 13 µs, sys: 1e+03 ns, total: 14 µs\n",
      "Wall time: 16 µs\n"
     ]
    }
   ],
   "source": [
    "%%time\n",
    "\n",
    "dir_data = './data'\n",
    "from_scratch = False\n",
    "\n",
    "csv_train_raw = os.path.join(dir_data, 'train.csv')\n",
    "csv_train = os.path.join(dir_data, 'train_sample.csv')\n",
    "if from_scratch:\n",
    "    nlines_raw, nlines_reduced = preprocessing.csv_randomized_downsamp(\n",
    "        csv_in=csv_train_raw, csv_out=csv_train, fraction=0.005\n",
    "    )"
   ]
  },
  {
   "cell_type": "markdown",
   "metadata": {},
   "source": [
    "### 1.2 Load data into dataframe\n",
    "#### (1) Field inspections\n",
    "For efficiency concerns, we use shell commands instead of pandas operations."
   ]
  },
  {
   "cell_type": "code",
   "execution_count": 4,
   "metadata": {
    "ExecuteTime": {
     "end_time": "2018-07-06T19:04:21.215745Z",
     "start_time": "2018-07-06T19:04:21.070505Z"
    }
   },
   "outputs": [
    {
     "name": "stdout",
     "output_type": "stream",
     "text": [
      "ip,app,device,os,channel,click_time,attributed_time,is_attributed\r\n",
      "106284,15,1,41,277,2017-11-06 22:57:46,,0\r\n"
     ]
    }
   ],
   "source": [
    "# Quick check of training data fields by calling system shell command\n",
    "!head -2 ./data/train_sample.csv"
   ]
  },
  {
   "cell_type": "code",
   "execution_count": 5,
   "metadata": {
    "ExecuteTime": {
     "end_time": "2018-07-06T19:04:21.365902Z",
     "start_time": "2018-07-06T19:04:21.218719Z"
    }
   },
   "outputs": [
    {
     "name": "stdout",
     "output_type": "stream",
     "text": [
      "click_id,ip,app,device,os,channel,click_time\r\n",
      "0,5744,9,1,3,107,2017-11-10 04:00:00\r\n"
     ]
    }
   ],
   "source": [
    "# Quick check of test data fields by calling system shell command\n",
    "!head -2 ./data/test.csv"
   ]
  },
  {
   "cell_type": "markdown",
   "metadata": {},
   "source": [
    "**[CAUTION]** We should be very careful about the use of datetime feature `click_time`. The simple check above indicates the date value of the training and testing data don't overlap. For this reason, we should NOT use raw date or day-of-the-week as a feature when training our model."
   ]
  },
  {
   "cell_type": "markdown",
   "metadata": {},
   "source": [
    "**[Notes] Field selections** <br>\n",
    "Note that from above that training and testing data don't share the same fields. <br>\n",
    "To prepare data for subsequent processing, we only preserve fields that are common in both training and testing data. One exception is the `is_attributed` field in training data; It is the prediction target and thus needs to be preserved."
   ]
  },
  {
   "cell_type": "code",
   "execution_count": 6,
   "metadata": {
    "ExecuteTime": {
     "end_time": "2018-07-06T19:04:21.419446Z",
     "start_time": "2018-07-06T19:04:21.368369Z"
    }
   },
   "outputs": [
    {
     "name": "stdout",
     "output_type": "stream",
     "text": [
      "Data fields shared by both training and testing data:\n",
      " ['os', 'ip', 'click_time', 'device', 'channel', 'app']\n"
     ]
    }
   ],
   "source": [
    "# Extract field names from training and testing data\n",
    "fields_train = preprocessing.csv_list_fields(csv_in=csv_train)\n",
    "csv_test = os.path.join(dir_data, 'test.csv')\n",
    "fields_test = preprocessing.csv_list_fields(csv_in=csv_test)\n",
    "\n",
    "# Extract fields shared by both training and testing data\n",
    "fields_use = list(set(fields_train) & (set(fields_test)))\n",
    "print('Data fields shared by both training and testing data:\\n', fields_use)"
   ]
  },
  {
   "cell_type": "markdown",
   "metadata": {},
   "source": [
    "#### (2) Load into dataframe"
   ]
  },
  {
   "cell_type": "code",
   "execution_count": 7,
   "metadata": {
    "ExecuteTime": {
     "end_time": "2018-07-06T19:04:22.943393Z",
     "start_time": "2018-07-06T19:04:21.421983Z"
    }
   },
   "outputs": [],
   "source": [
    "# Load randomly sampled data subset into pandas dataframe,\n",
    "# and sort by click time (and reset index)\n",
    "df = pd.read_csv(\n",
    "    csv_train, usecols=fields_use + ['is_attributed'],\n",
    "    parse_dates=['click_time']\n",
    ").sort_values(by='click_time').reset_index(drop=True)\n",
    "\n",
    "# Convert click time from UTC to local time\n",
    "df['click_time'] = (\n",
    "    pd.DatetimeIndex(df['click_time']).tz_localize('utc')\n",
    "    .tz_convert('Asia/Shanghai')\n",
    ")"
   ]
  },
  {
   "cell_type": "code",
   "execution_count": 8,
   "metadata": {
    "ExecuteTime": {
     "end_time": "2018-07-06T19:04:22.989215Z",
     "start_time": "2018-07-06T19:04:22.945216Z"
    }
   },
   "outputs": [
    {
     "data": {
      "text/html": [
       "<div>\n",
       "<style scoped>\n",
       "    .dataframe tbody tr th:only-of-type {\n",
       "        vertical-align: middle;\n",
       "    }\n",
       "\n",
       "    .dataframe tbody tr th {\n",
       "        vertical-align: top;\n",
       "    }\n",
       "\n",
       "    .dataframe thead th {\n",
       "        text-align: right;\n",
       "    }\n",
       "</style>\n",
       "<table border=\"1\" class=\"dataframe\">\n",
       "  <thead>\n",
       "    <tr style=\"text-align: right;\">\n",
       "      <th></th>\n",
       "      <th>ip</th>\n",
       "      <th>app</th>\n",
       "      <th>device</th>\n",
       "      <th>os</th>\n",
       "      <th>channel</th>\n",
       "      <th>click_time</th>\n",
       "      <th>is_attributed</th>\n",
       "    </tr>\n",
       "  </thead>\n",
       "  <tbody>\n",
       "    <tr>\n",
       "      <th>0</th>\n",
       "      <td>86946</td>\n",
       "      <td>3</td>\n",
       "      <td>1</td>\n",
       "      <td>19</td>\n",
       "      <td>379</td>\n",
       "      <td>2017-11-06 23:46:14+08:00</td>\n",
       "      <td>0</td>\n",
       "    </tr>\n",
       "    <tr>\n",
       "      <th>1</th>\n",
       "      <td>119349</td>\n",
       "      <td>3</td>\n",
       "      <td>1</td>\n",
       "      <td>17</td>\n",
       "      <td>379</td>\n",
       "      <td>2017-11-06 23:57:47+08:00</td>\n",
       "      <td>0</td>\n",
       "    </tr>\n",
       "    <tr>\n",
       "      <th>2</th>\n",
       "      <td>73516</td>\n",
       "      <td>18</td>\n",
       "      <td>1</td>\n",
       "      <td>22</td>\n",
       "      <td>107</td>\n",
       "      <td>2017-11-07 00:00:00+08:00</td>\n",
       "      <td>0</td>\n",
       "    </tr>\n",
       "  </tbody>\n",
       "</table>\n",
       "</div>"
      ],
      "text/plain": [
       "       ip  app  device  os  channel                click_time  is_attributed\n",
       "0   86946    3       1  19      379 2017-11-06 23:46:14+08:00              0\n",
       "1  119349    3       1  17      379 2017-11-06 23:57:47+08:00              0\n",
       "2   73516   18       1  22      107 2017-11-07 00:00:00+08:00              0"
      ]
     },
     "execution_count": 8,
     "metadata": {},
     "output_type": "execute_result"
    }
   ],
   "source": [
    "# Inspect first few lines\n",
    "df.head(3)"
   ]
  },
  {
   "cell_type": "markdown",
   "metadata": {},
   "source": [
    "---\n",
    "## 2. Exploratory data analysis\n",
    "### 2.1 Do we have imbalanced classes?"
   ]
  },
  {
   "cell_type": "code",
   "execution_count": 9,
   "metadata": {
    "ExecuteTime": {
     "end_time": "2018-07-06T19:04:23.024136Z",
     "start_time": "2018-07-06T19:04:22.991172Z"
    }
   },
   "outputs": [
    {
     "name": "stdout",
     "output_type": "stream",
     "text": [
      "Percentage of positive target = 0.251%\n"
     ]
    }
   ],
   "source": [
    "# Inspect data size\n",
    "nclick_total =len(df)\n",
    "percentage_pos = (df['is_attributed'].sum()) / nclick_total * 100\n",
    "print('Percentage of positive target = {:.3f}%'.format(percentage_pos))"
   ]
  },
  {
   "cell_type": "markdown",
   "metadata": {},
   "source": [
    "**[CAUTION] Class imbalance**<br>\n",
    "Given that only 0.25% of the records has positive target values (`df['is_attributed'] == 1`), we have **an extreme case of class imbalance** at hand.\n",
    "\n",
    "### 2.2 Convert datetime variable to usable form\n",
    "To convert datetime to a more usable form, we extract hour-of-the-day information"
   ]
  },
  {
   "cell_type": "code",
   "execution_count": 10,
   "metadata": {
    "ExecuteTime": {
     "end_time": "2018-07-06T19:04:23.190844Z",
     "start_time": "2018-07-06T19:04:23.026231Z"
    }
   },
   "outputs": [],
   "source": [
    "# Extract hour of the day\n",
    "df['click_hour'] = df['click_time'].dt.hour\n",
    "\n",
    "# Drop raw `click_time`\n",
    "df.drop(columns=['click_time'], inplace=True)"
   ]
  },
  {
   "cell_type": "code",
   "execution_count": 11,
   "metadata": {
    "ExecuteTime": {
     "end_time": "2018-07-06T19:04:23.228070Z",
     "start_time": "2018-07-06T19:04:23.192238Z"
    }
   },
   "outputs": [
    {
     "data": {
      "text/html": [
       "<div>\n",
       "<style scoped>\n",
       "    .dataframe tbody tr th:only-of-type {\n",
       "        vertical-align: middle;\n",
       "    }\n",
       "\n",
       "    .dataframe tbody tr th {\n",
       "        vertical-align: top;\n",
       "    }\n",
       "\n",
       "    .dataframe thead th {\n",
       "        text-align: right;\n",
       "    }\n",
       "</style>\n",
       "<table border=\"1\" class=\"dataframe\">\n",
       "  <thead>\n",
       "    <tr style=\"text-align: right;\">\n",
       "      <th></th>\n",
       "      <th>ip</th>\n",
       "      <th>app</th>\n",
       "      <th>device</th>\n",
       "      <th>os</th>\n",
       "      <th>channel</th>\n",
       "      <th>is_attributed</th>\n",
       "      <th>click_hour</th>\n",
       "    </tr>\n",
       "  </thead>\n",
       "  <tbody>\n",
       "    <tr>\n",
       "      <th>0</th>\n",
       "      <td>86946</td>\n",
       "      <td>3</td>\n",
       "      <td>1</td>\n",
       "      <td>19</td>\n",
       "      <td>379</td>\n",
       "      <td>0</td>\n",
       "      <td>23</td>\n",
       "    </tr>\n",
       "    <tr>\n",
       "      <th>1</th>\n",
       "      <td>119349</td>\n",
       "      <td>3</td>\n",
       "      <td>1</td>\n",
       "      <td>17</td>\n",
       "      <td>379</td>\n",
       "      <td>0</td>\n",
       "      <td>23</td>\n",
       "    </tr>\n",
       "    <tr>\n",
       "      <th>2</th>\n",
       "      <td>73516</td>\n",
       "      <td>18</td>\n",
       "      <td>1</td>\n",
       "      <td>22</td>\n",
       "      <td>107</td>\n",
       "      <td>0</td>\n",
       "      <td>0</td>\n",
       "    </tr>\n",
       "  </tbody>\n",
       "</table>\n",
       "</div>"
      ],
      "text/plain": [
       "       ip  app  device  os  channel  is_attributed  click_hour\n",
       "0   86946    3       1  19      379              0          23\n",
       "1  119349    3       1  17      379              0          23\n",
       "2   73516   18       1  22      107              0           0"
      ]
     },
     "execution_count": 11,
     "metadata": {},
     "output_type": "execute_result"
    }
   ],
   "source": [
    "df.head(3)"
   ]
  },
  {
   "cell_type": "markdown",
   "metadata": {},
   "source": [
    "### 2.3 Train-test split, and set aside testing data"
   ]
  },
  {
   "cell_type": "code",
   "execution_count": 12,
   "metadata": {
    "ExecuteTime": {
     "end_time": "2018-07-06T19:04:23.360402Z",
     "start_time": "2018-07-06T19:04:23.230772Z"
    }
   },
   "outputs": [
    {
     "name": "stdout",
     "output_type": "stream",
     "text": [
      "Training data (pos%): 0.24939621084641736\n",
      "Testing data (pos%): 0.25346486104501076\n"
     ]
    }
   ],
   "source": [
    "# Split the original dataframe into in-sample training and testing sets\n",
    "# Because stratified sampling is the default option of sklearn, it is not\n",
    "# explicitly set\n",
    "df_train, df_test = train_test_split(df, test_size=0.3, random_state=42)\n",
    "\n",
    "# Double check class ratios after train-test split\n",
    "print(\n",
    "    'Training data (pos%):',\n",
    "    100 * df_train['is_attributed'].sum() / len(df_train)\n",
    ")\n",
    "print(\n",
    "    'Testing data (pos%):',\n",
    "    100 * df_test['is_attributed'].sum() / len(df_test)\n",
    ")"
   ]
  },
  {
   "cell_type": "code",
   "execution_count": 13,
   "metadata": {
    "ExecuteTime": {
     "end_time": "2018-07-06T19:04:23.390439Z",
     "start_time": "2018-07-06T19:04:23.362065Z"
    }
   },
   "outputs": [],
   "source": [
    "# df_train = preprocessing.df_feature_grouper(\n",
    "#     df_train, cols=['ip', 'app', 'device', 'os', 'channel', 'click_hour'], r=2\n",
    "# )\n",
    "# df_test = preprocessing.df_feature_grouper(\n",
    "#     df_test, cols=['ip', 'app', 'device', 'os', 'channel', 'click_hour'], r=2\n",
    "# )"
   ]
  },
  {
   "cell_type": "code",
   "execution_count": 14,
   "metadata": {
    "ExecuteTime": {
     "end_time": "2018-07-06T19:04:23.435231Z",
     "start_time": "2018-07-06T19:04:23.393833Z"
    }
   },
   "outputs": [
    {
     "data": {
      "text/html": [
       "<div>\n",
       "<style scoped>\n",
       "    .dataframe tbody tr th:only-of-type {\n",
       "        vertical-align: middle;\n",
       "    }\n",
       "\n",
       "    .dataframe tbody tr th {\n",
       "        vertical-align: top;\n",
       "    }\n",
       "\n",
       "    .dataframe thead th {\n",
       "        text-align: right;\n",
       "    }\n",
       "</style>\n",
       "<table border=\"1\" class=\"dataframe\">\n",
       "  <thead>\n",
       "    <tr style=\"text-align: right;\">\n",
       "      <th></th>\n",
       "      <th>ip</th>\n",
       "      <th>app</th>\n",
       "      <th>device</th>\n",
       "      <th>os</th>\n",
       "      <th>channel</th>\n",
       "      <th>is_attributed</th>\n",
       "      <th>click_hour</th>\n",
       "    </tr>\n",
       "  </thead>\n",
       "  <tbody>\n",
       "    <tr>\n",
       "      <th>550919</th>\n",
       "      <td>121679</td>\n",
       "      <td>12</td>\n",
       "      <td>1</td>\n",
       "      <td>31</td>\n",
       "      <td>245</td>\n",
       "      <td>0</td>\n",
       "      <td>20</td>\n",
       "    </tr>\n",
       "    <tr>\n",
       "      <th>500188</th>\n",
       "      <td>115445</td>\n",
       "      <td>3</td>\n",
       "      <td>1</td>\n",
       "      <td>13</td>\n",
       "      <td>135</td>\n",
       "      <td>0</td>\n",
       "      <td>17</td>\n",
       "    </tr>\n",
       "    <tr>\n",
       "      <th>661995</th>\n",
       "      <td>93486</td>\n",
       "      <td>12</td>\n",
       "      <td>1</td>\n",
       "      <td>17</td>\n",
       "      <td>265</td>\n",
       "      <td>0</td>\n",
       "      <td>8</td>\n",
       "    </tr>\n",
       "    <tr>\n",
       "      <th>719416</th>\n",
       "      <td>119369</td>\n",
       "      <td>15</td>\n",
       "      <td>1</td>\n",
       "      <td>3</td>\n",
       "      <td>111</td>\n",
       "      <td>0</td>\n",
       "      <td>11</td>\n",
       "    </tr>\n",
       "    <tr>\n",
       "      <th>40732</th>\n",
       "      <td>61583</td>\n",
       "      <td>21</td>\n",
       "      <td>1</td>\n",
       "      <td>19</td>\n",
       "      <td>128</td>\n",
       "      <td>0</td>\n",
       "      <td>7</td>\n",
       "    </tr>\n",
       "  </tbody>\n",
       "</table>\n",
       "</div>"
      ],
      "text/plain": [
       "            ip  app  device  os  channel  is_attributed  click_hour\n",
       "550919  121679   12       1  31      245              0          20\n",
       "500188  115445    3       1  13      135              0          17\n",
       "661995   93486   12       1  17      265              0           8\n",
       "719416  119369   15       1   3      111              0          11\n",
       "40732    61583   21       1  19      128              0           7"
      ]
     },
     "execution_count": 14,
     "metadata": {},
     "output_type": "execute_result"
    }
   ],
   "source": [
    "df_train.head()"
   ]
  },
  {
   "cell_type": "code",
   "execution_count": 15,
   "metadata": {
    "ExecuteTime": {
     "end_time": "2018-07-06T19:04:23.473974Z",
     "start_time": "2018-07-06T19:04:23.437431Z"
    }
   },
   "outputs": [
    {
     "data": {
      "text/html": [
       "<div>\n",
       "<style scoped>\n",
       "    .dataframe tbody tr th:only-of-type {\n",
       "        vertical-align: middle;\n",
       "    }\n",
       "\n",
       "    .dataframe tbody tr th {\n",
       "        vertical-align: top;\n",
       "    }\n",
       "\n",
       "    .dataframe thead th {\n",
       "        text-align: right;\n",
       "    }\n",
       "</style>\n",
       "<table border=\"1\" class=\"dataframe\">\n",
       "  <thead>\n",
       "    <tr style=\"text-align: right;\">\n",
       "      <th></th>\n",
       "      <th>ip</th>\n",
       "      <th>app</th>\n",
       "      <th>device</th>\n",
       "      <th>os</th>\n",
       "      <th>channel</th>\n",
       "      <th>is_attributed</th>\n",
       "      <th>click_hour</th>\n",
       "    </tr>\n",
       "  </thead>\n",
       "  <tbody>\n",
       "    <tr>\n",
       "      <th>132716</th>\n",
       "      <td>141799</td>\n",
       "      <td>3</td>\n",
       "      <td>1</td>\n",
       "      <td>13</td>\n",
       "      <td>442</td>\n",
       "      <td>0</td>\n",
       "      <td>13</td>\n",
       "    </tr>\n",
       "    <tr>\n",
       "      <th>50399</th>\n",
       "      <td>111129</td>\n",
       "      <td>12</td>\n",
       "      <td>1</td>\n",
       "      <td>19</td>\n",
       "      <td>140</td>\n",
       "      <td>0</td>\n",
       "      <td>8</td>\n",
       "    </tr>\n",
       "    <tr>\n",
       "      <th>480499</th>\n",
       "      <td>217706</td>\n",
       "      <td>9</td>\n",
       "      <td>1</td>\n",
       "      <td>17</td>\n",
       "      <td>445</td>\n",
       "      <td>0</td>\n",
       "      <td>16</td>\n",
       "    </tr>\n",
       "    <tr>\n",
       "      <th>254280</th>\n",
       "      <td>67734</td>\n",
       "      <td>3</td>\n",
       "      <td>2</td>\n",
       "      <td>13</td>\n",
       "      <td>153</td>\n",
       "      <td>0</td>\n",
       "      <td>21</td>\n",
       "    </tr>\n",
       "    <tr>\n",
       "      <th>799805</th>\n",
       "      <td>30849</td>\n",
       "      <td>2</td>\n",
       "      <td>1</td>\n",
       "      <td>19</td>\n",
       "      <td>435</td>\n",
       "      <td>0</td>\n",
       "      <td>16</td>\n",
       "    </tr>\n",
       "  </tbody>\n",
       "</table>\n",
       "</div>"
      ],
      "text/plain": [
       "            ip  app  device  os  channel  is_attributed  click_hour\n",
       "132716  141799    3       1  13      442              0          13\n",
       "50399   111129   12       1  19      140              0           8\n",
       "480499  217706    9       1  17      445              0          16\n",
       "254280   67734    3       2  13      153              0          21\n",
       "799805   30849    2       1  19      435              0          16"
      ]
     },
     "execution_count": 15,
     "metadata": {},
     "output_type": "execute_result"
    }
   ],
   "source": [
    "df_test.head()"
   ]
  },
  {
   "cell_type": "markdown",
   "metadata": {},
   "source": [
    "### 2.4 Inspect variable distributions of training data"
   ]
  },
  {
   "cell_type": "code",
   "execution_count": 16,
   "metadata": {
    "ExecuteTime": {
     "end_time": "2018-07-06T19:04:23.559949Z",
     "start_time": "2018-07-06T19:04:23.476553Z"
    }
   },
   "outputs": [
    {
     "data": {
      "text/html": [
       "<div>\n",
       "<style scoped>\n",
       "    .dataframe tbody tr th:only-of-type {\n",
       "        vertical-align: middle;\n",
       "    }\n",
       "\n",
       "    .dataframe tbody tr th {\n",
       "        vertical-align: top;\n",
       "    }\n",
       "\n",
       "    .dataframe thead th {\n",
       "        text-align: right;\n",
       "    }\n",
       "</style>\n",
       "<table border=\"1\" class=\"dataframe\">\n",
       "  <thead>\n",
       "    <tr style=\"text-align: right;\">\n",
       "      <th></th>\n",
       "      <th>ip</th>\n",
       "      <th>app</th>\n",
       "      <th>device</th>\n",
       "      <th>os</th>\n",
       "      <th>channel</th>\n",
       "      <th>is_attributed</th>\n",
       "      <th>click_hour</th>\n",
       "    </tr>\n",
       "  </thead>\n",
       "  <tbody>\n",
       "    <tr>\n",
       "      <th>n_unique</th>\n",
       "      <td>71528.000000</td>\n",
       "      <td>264.000000</td>\n",
       "      <td>338.000000</td>\n",
       "      <td>182.000000</td>\n",
       "      <td>168.000000</td>\n",
       "      <td>2.000000</td>\n",
       "      <td>24.000000</td>\n",
       "    </tr>\n",
       "    <tr>\n",
       "      <th>n_unique (%)</th>\n",
       "      <td>11.052548</td>\n",
       "      <td>0.040793</td>\n",
       "      <td>0.052228</td>\n",
       "      <td>0.028123</td>\n",
       "      <td>0.025959</td>\n",
       "      <td>0.000309</td>\n",
       "      <td>0.003708</td>\n",
       "    </tr>\n",
       "  </tbody>\n",
       "</table>\n",
       "</div>"
      ],
      "text/plain": [
       "                        ip         app      device          os     channel  \\\n",
       "n_unique      71528.000000  264.000000  338.000000  182.000000  168.000000   \n",
       "n_unique (%)     11.052548    0.040793    0.052228    0.028123    0.025959   \n",
       "\n",
       "              is_attributed  click_hour  \n",
       "n_unique           2.000000   24.000000  \n",
       "n_unique (%)       0.000309    0.003708  "
      ]
     },
     "execution_count": 16,
     "metadata": {},
     "output_type": "execute_result"
    }
   ],
   "source": [
    "# Count the amount of unique values\n",
    "df_counts = pd.DataFrame()\n",
    "df_counts['n_unique'] = df_train.nunique()\n",
    "df_counts['n_unique (%)'] = 100 * df_counts['n_unique'] / len(df_train)\n",
    "df_counts.T"
   ]
  },
  {
   "cell_type": "markdown",
   "metadata": {},
   "source": [
    "**[TAKE AWAY]**<br>\n",
    "* Without exception, the total number of unique values for each of these variables is markedly smaller than the total number of clicks. This indicates that many-to-one mapping is typical between clicks and these variables. This makes sense because a single user can generate multiple clicks.\n",
    "* The amount of distinct values in categorical features is very high. We will need to make major efforts in feature engineering."
   ]
  },
  {
   "cell_type": "code",
   "execution_count": 17,
   "metadata": {
    "ExecuteTime": {
     "end_time": "2018-07-06T19:04:23.826513Z",
     "start_time": "2018-07-06T19:04:23.561976Z"
    }
   },
   "outputs": [],
   "source": [
    "df_train = preprocessing.df_rarelabel_imputer(\n",
    "    df_train, cols=['ip', 'app', 'device', 'os', 'channel', 'click_hour'],\n",
    "    thresh_percentage=0.2, replace_with=1e10\n",
    ")\n",
    "df_test = preprocessing.df_rarelabel_imputer(\n",
    "    df_test, cols=['ip', 'app', 'device', 'os', 'channel', 'click_hour'],\n",
    "    thresh_percentage=0.2, replace_with=1e10\n",
    ")"
   ]
  },
  {
   "cell_type": "markdown",
   "metadata": {},
   "source": [
    "### 2.5 Apply target-guided encoding to categorical features"
   ]
  },
  {
   "cell_type": "code",
   "execution_count": 18,
   "metadata": {
    "ExecuteTime": {
     "end_time": "2018-07-06T19:04:24.629801Z",
     "start_time": "2018-07-06T19:04:23.828142Z"
    }
   },
   "outputs": [],
   "source": [
    "features = list(df_train.columns)\n",
    "features.remove('is_attributed')\n",
    "pd.options.mode.chained_assignment = None\n",
    "\n",
    "for ft in features:\n",
    "    if 'count' not in ft:\n",
    "        mapper = preprocessing.mapper_label2riskfactor(df_train, ft)\n",
    "        df_train['risk_{}'.format(ft)] = df_train[ft].map(mapper)\n",
    "        df_test['risk_{}'.format(ft)] = df_test[ft].map(mapper)\n",
    "        mapper = preprocessing.mapper_label2count(df_train, ft)\n",
    "        df_train['count_{}'.format(ft)] = df_train[ft].map(mapper)\n",
    "        df_test['count_{}'.format(ft)] = df_test[ft].map(mapper)"
   ]
  },
  {
   "cell_type": "code",
   "execution_count": 19,
   "metadata": {
    "ExecuteTime": {
     "end_time": "2018-07-06T19:04:24.822680Z",
     "start_time": "2018-07-06T19:04:24.631764Z"
    }
   },
   "outputs": [],
   "source": [
    "df_train.drop(columns=['ip', 'app', 'device', 'os', 'channel', 'click_hour'], inplace=True)\n",
    "df_test.drop(columns=['ip', 'app', 'device', 'os', 'channel', 'click_hour'], inplace=True)"
   ]
  },
  {
   "cell_type": "markdown",
   "metadata": {},
   "source": [
    "### 2.6 Check dataframes after encoding\n",
    "\n",
    "Note that mapping used for encoding is generated with training data and then propagated to testing data. \n",
    "Because there are non-overlap variables between training and testing data, and encoded testing data are going to have missing values. Let's have a look:"
   ]
  },
  {
   "cell_type": "code",
   "execution_count": 20,
   "metadata": {
    "ExecuteTime": {
     "end_time": "2018-07-06T19:04:25.006496Z",
     "start_time": "2018-07-06T19:04:24.824531Z"
    }
   },
   "outputs": [
    {
     "data": {
      "text/html": [
       "<div>\n",
       "<style scoped>\n",
       "    .dataframe tbody tr th:only-of-type {\n",
       "        vertical-align: middle;\n",
       "    }\n",
       "\n",
       "    .dataframe tbody tr th {\n",
       "        vertical-align: top;\n",
       "    }\n",
       "\n",
       "    .dataframe thead th {\n",
       "        text-align: right;\n",
       "    }\n",
       "</style>\n",
       "<table border=\"1\" class=\"dataframe\">\n",
       "  <thead>\n",
       "    <tr style=\"text-align: right;\">\n",
       "      <th></th>\n",
       "      <th>is_attributed</th>\n",
       "      <th>risk_ip</th>\n",
       "      <th>count_ip</th>\n",
       "      <th>risk_app</th>\n",
       "      <th>count_app</th>\n",
       "      <th>risk_device</th>\n",
       "      <th>count_device</th>\n",
       "      <th>risk_os</th>\n",
       "      <th>count_os</th>\n",
       "      <th>risk_channel</th>\n",
       "      <th>count_channel</th>\n",
       "      <th>risk_click_hour</th>\n",
       "      <th>count_click_hour</th>\n",
       "    </tr>\n",
       "  </thead>\n",
       "  <tbody>\n",
       "    <tr>\n",
       "      <th>nan_train(%)</th>\n",
       "      <td>0.0</td>\n",
       "      <td>0.0</td>\n",
       "      <td>0.0</td>\n",
       "      <td>0.000000</td>\n",
       "      <td>0.000000</td>\n",
       "      <td>0.0</td>\n",
       "      <td>0.0</td>\n",
       "      <td>0.000000</td>\n",
       "      <td>0.000000</td>\n",
       "      <td>0.0</td>\n",
       "      <td>0.0</td>\n",
       "      <td>0.0</td>\n",
       "      <td>0.0</td>\n",
       "    </tr>\n",
       "    <tr>\n",
       "      <th>nan_test(%)</th>\n",
       "      <td>0.0</td>\n",
       "      <td>0.0</td>\n",
       "      <td>0.0</td>\n",
       "      <td>0.202988</td>\n",
       "      <td>0.202988</td>\n",
       "      <td>0.0</td>\n",
       "      <td>0.0</td>\n",
       "      <td>0.207675</td>\n",
       "      <td>0.207675</td>\n",
       "      <td>0.0</td>\n",
       "      <td>0.0</td>\n",
       "      <td>0.0</td>\n",
       "      <td>0.0</td>\n",
       "    </tr>\n",
       "  </tbody>\n",
       "</table>\n",
       "</div>"
      ],
      "text/plain": [
       "              is_attributed  risk_ip  count_ip  risk_app  count_app  \\\n",
       "nan_train(%)            0.0      0.0       0.0  0.000000   0.000000   \n",
       "nan_test(%)             0.0      0.0       0.0  0.202988   0.202988   \n",
       "\n",
       "              risk_device  count_device   risk_os  count_os  risk_channel  \\\n",
       "nan_train(%)          0.0           0.0  0.000000  0.000000           0.0   \n",
       "nan_test(%)           0.0           0.0  0.207675  0.207675           0.0   \n",
       "\n",
       "              count_channel  risk_click_hour  count_click_hour  \n",
       "nan_train(%)            0.0              0.0               0.0  \n",
       "nan_test(%)             0.0              0.0               0.0  "
      ]
     },
     "execution_count": 20,
     "metadata": {},
     "output_type": "execute_result"
    }
   ],
   "source": [
    "# Check presence of missing value after encoding\n",
    "df_nulls = pd.DataFrame()\n",
    "df_nulls['nan_train(%)'] = 100 * (df_train.isnull().sum() / len(df_train))\n",
    "df_nulls['nan_test(%)'] = 100 * (df_test.isnull().sum() / len(df_test))\n",
    "df_nulls.T"
   ]
  },
  {
   "cell_type": "markdown",
   "metadata": {},
   "source": [
    "As expected, for `*_woe` variables, the testing data have missing values that requires clean up. We will test a number of approaches later, and use simply dropping the value as a baseline for comparisons."
   ]
  },
  {
   "cell_type": "markdown",
   "metadata": {},
   "source": [
    "### 2.7 Check Pearson's correlation coefficient"
   ]
  },
  {
   "cell_type": "code",
   "execution_count": 21,
   "metadata": {
    "ExecuteTime": {
     "end_time": "2018-07-06T19:04:26.037992Z",
     "start_time": "2018-07-06T19:04:25.008414Z"
    }
   },
   "outputs": [
    {
     "data": {
      "image/png": "[encoded data removed]",
      "text/plain": [
       "<Figure size 800x400 with 2 Axes>"
      ]
     },
     "metadata": {
      "image/png": {
       "height": 508,
       "width": 873
      }
     },
     "output_type": "display_data"
    }
   ],
   "source": [
    "# Exclude target variable from correlation calculation\n",
    "cols_corr = [x for x in df_train.columns if x != 'is_attributed']\n",
    "\n",
    "# Plot positive and negative cases in separate heatmaps\n",
    "fig, ax = plt.subplots(nrows=1, ncols=2, sharey=True, figsize=(8, 4))\n",
    "fig.tight_layout()\n",
    "for i, axi in enumerate(ax):\n",
    "    corr_matrix = df_train[df_train['is_attributed'] == i][cols_corr].corr()\n",
    "    mask = np.zeros_like(corr_matrix, dtype=np.bool)\n",
    "    mask[np.triu_indices_from(mask)] = True\n",
    "    sns.heatmap(\n",
    "        corr_matrix, mask=mask, cmap='RdBu', vmin=-1, vmax=1,\n",
    "        square=True, linewidths=.5, annot=False, fmt='.2f',ax=axi, cbar=False\n",
    "    )\n",
    "    axi.set(title='is_attributed = {}'.format(i))\n",
    "plt.show();"
   ]
  },
  {
   "cell_type": "markdown",
   "metadata": {},
   "source": [
    "---\n",
    "## 3. Machine learning"
   ]
  },
  {
   "cell_type": "code",
   "execution_count": 22,
   "metadata": {
    "ExecuteTime": {
     "end_time": "2018-07-06T19:04:26.108487Z",
     "start_time": "2018-07-06T19:04:26.039536Z"
    }
   },
   "outputs": [
    {
     "name": "stdout",
     "output_type": "stream",
     "text": [
      "['risk_ip', 'count_ip', 'risk_app', 'count_app', 'risk_device', 'count_device', 'risk_os', 'count_os', 'risk_channel', 'count_channel', 'risk_click_hour', 'count_click_hour']\n"
     ]
    }
   ],
   "source": [
    "cols = [x for x in df_train.columns if x != 'is_attributed']\n",
    "df_train.fillna(0.0, inplace=True)\n",
    "print(cols)\n",
    "X_train, y_train = (df_train[cols], df_train['is_attributed'])\n",
    "df_test.fillna(0.0, inplace=True)\n",
    "X_test, y_test = (df_test[cols], df_test['is_attributed'])"
   ]
  },
  {
   "cell_type": "code",
   "execution_count": 23,
   "metadata": {
    "ExecuteTime": {
     "end_time": "2018-07-06T19:04:26.141174Z",
     "start_time": "2018-07-06T19:04:26.110365Z"
    }
   },
   "outputs": [
    {
     "name": "stdout",
     "output_type": "stream",
     "text": [
      "(647163, 12) (277356, 12)\n"
     ]
    }
   ],
   "source": [
    "print(X_train.shape, X_test.shape)"
   ]
  },
  {
   "cell_type": "code",
   "execution_count": 24,
   "metadata": {
    "ExecuteTime": {
     "end_time": "2018-07-06T19:04:26.613936Z",
     "start_time": "2018-07-06T19:04:26.143848Z"
    }
   },
   "outputs": [
    {
     "data": {
      "text/html": [
       "<div>\n",
       "<style scoped>\n",
       "    .dataframe tbody tr th:only-of-type {\n",
       "        vertical-align: middle;\n",
       "    }\n",
       "\n",
       "    .dataframe tbody tr th {\n",
       "        vertical-align: top;\n",
       "    }\n",
       "\n",
       "    .dataframe thead th {\n",
       "        text-align: right;\n",
       "    }\n",
       "</style>\n",
       "<table border=\"1\" class=\"dataframe\">\n",
       "  <thead>\n",
       "    <tr style=\"text-align: right;\">\n",
       "      <th></th>\n",
       "      <th>risk_ip</th>\n",
       "      <th>count_ip</th>\n",
       "      <th>risk_app</th>\n",
       "      <th>count_app</th>\n",
       "      <th>risk_device</th>\n",
       "      <th>count_device</th>\n",
       "      <th>risk_os</th>\n",
       "      <th>count_os</th>\n",
       "      <th>risk_channel</th>\n",
       "      <th>count_channel</th>\n",
       "      <th>risk_click_hour</th>\n",
       "      <th>count_click_hour</th>\n",
       "    </tr>\n",
       "  </thead>\n",
       "  <tbody>\n",
       "    <tr>\n",
       "      <th>count</th>\n",
       "      <td>647163.000000</td>\n",
       "      <td>647163.000000</td>\n",
       "      <td>647163.000000</td>\n",
       "      <td>647163.000000</td>\n",
       "      <td>647163.000000</td>\n",
       "      <td>647163.000000</td>\n",
       "      <td>647163.000000</td>\n",
       "      <td>647163.000000</td>\n",
       "      <td>647163.000000</td>\n",
       "      <td>647163.000000</td>\n",
       "      <td>647163.000000</td>\n",
       "      <td>647163.000000</td>\n",
       "    </tr>\n",
       "    <tr>\n",
       "      <th>mean</th>\n",
       "      <td>1.000000</td>\n",
       "      <td>608657.099320</td>\n",
       "      <td>1.000000</td>\n",
       "      <td>60903.210590</td>\n",
       "      <td>1.000000</td>\n",
       "      <td>577006.113472</td>\n",
       "      <td>1.000000</td>\n",
       "      <td>75768.131996</td>\n",
       "      <td>1.000000</td>\n",
       "      <td>16478.807387</td>\n",
       "      <td>1.000000</td>\n",
       "      <td>31771.111171</td>\n",
       "    </tr>\n",
       "    <tr>\n",
       "      <th>std</th>\n",
       "      <td>0.095751</td>\n",
       "      <td>107029.977961</td>\n",
       "      <td>5.326937</td>\n",
       "      <td>37412.112887</td>\n",
       "      <td>3.228305</td>\n",
       "      <td>136150.203071</td>\n",
       "      <td>2.576447</td>\n",
       "      <td>65743.064914</td>\n",
       "      <td>5.254676</td>\n",
       "      <td>13597.465902</td>\n",
       "      <td>0.223672</td>\n",
       "      <td>7162.833709</td>\n",
       "    </tr>\n",
       "    <tr>\n",
       "      <th>min</th>\n",
       "      <td>0.000000</td>\n",
       "      <td>1350.000000</td>\n",
       "      <td>0.000000</td>\n",
       "      <td>1711.000000</td>\n",
       "      <td>0.000000</td>\n",
       "      <td>2469.000000</td>\n",
       "      <td>0.000000</td>\n",
       "      <td>1303.000000</td>\n",
       "      <td>0.000000</td>\n",
       "      <td>1347.000000</td>\n",
       "      <td>0.461213</td>\n",
       "      <td>4527.000000</td>\n",
       "    </tr>\n",
       "    <tr>\n",
       "      <th>25%</th>\n",
       "      <td>1.012054</td>\n",
       "      <td>627569.000000</td>\n",
       "      <td>0.079337</td>\n",
       "      <td>20229.000000</td>\n",
       "      <td>0.717318</td>\n",
       "      <td>610409.000000</td>\n",
       "      <td>0.514722</td>\n",
       "      <td>14677.000000</td>\n",
       "      <td>0.061735</td>\n",
       "      <td>6860.000000</td>\n",
       "      <td>0.874713</td>\n",
       "      <td>32167.000000</td>\n",
       "    </tr>\n",
       "    <tr>\n",
       "      <th>50%</th>\n",
       "      <td>1.012054</td>\n",
       "      <td>627569.000000</td>\n",
       "      <td>0.091281</td>\n",
       "      <td>57401.000000</td>\n",
       "      <td>0.717318</td>\n",
       "      <td>610409.000000</td>\n",
       "      <td>0.624154</td>\n",
       "      <td>33828.000000</td>\n",
       "      <td>0.132213</td>\n",
       "      <td>12131.000000</td>\n",
       "      <td>1.021171</td>\n",
       "      <td>33954.000000</td>\n",
       "    </tr>\n",
       "    <tr>\n",
       "      <th>75%</th>\n",
       "      <td>1.012054</td>\n",
       "      <td>627569.000000</td>\n",
       "      <td>0.202912</td>\n",
       "      <td>84386.000000</td>\n",
       "      <td>0.717318</td>\n",
       "      <td>610409.000000</td>\n",
       "      <td>0.774296</td>\n",
       "      <td>139405.000000</td>\n",
       "      <td>0.229163</td>\n",
       "      <td>20681.000000</td>\n",
       "      <td>1.144156</td>\n",
       "      <td>35339.000000</td>\n",
       "    </tr>\n",
       "    <tr>\n",
       "      <th>max</th>\n",
       "      <td>1.069657</td>\n",
       "      <td>627569.000000</td>\n",
       "      <td>56.062832</td>\n",
       "      <td>118602.000000</td>\n",
       "      <td>38.144475</td>\n",
       "      <td>610409.000000</td>\n",
       "      <td>46.774518</td>\n",
       "      <td>154319.000000</td>\n",
       "      <td>69.203414</td>\n",
       "      <td>52495.000000</td>\n",
       "      <td>1.358939</td>\n",
       "      <td>39354.000000</td>\n",
       "    </tr>\n",
       "  </tbody>\n",
       "</table>\n",
       "</div>"
      ],
      "text/plain": [
       "             risk_ip       count_ip       risk_app      count_app  \\\n",
       "count  647163.000000  647163.000000  647163.000000  647163.000000   \n",
       "mean        1.000000  608657.099320       1.000000   60903.210590   \n",
       "std         0.095751  107029.977961       5.326937   37412.112887   \n",
       "min         0.000000    1350.000000       0.000000    1711.000000   \n",
       "25%         1.012054  627569.000000       0.079337   20229.000000   \n",
       "50%         1.012054  627569.000000       0.091281   57401.000000   \n",
       "75%         1.012054  627569.000000       0.202912   84386.000000   \n",
       "max         1.069657  627569.000000      56.062832  118602.000000   \n",
       "\n",
       "         risk_device   count_device        risk_os       count_os  \\\n",
       "count  647163.000000  647163.000000  647163.000000  647163.000000   \n",
       "mean        1.000000  577006.113472       1.000000   75768.131996   \n",
       "std         3.228305  136150.203071       2.576447   65743.064914   \n",
       "min         0.000000    2469.000000       0.000000    1303.000000   \n",
       "25%         0.717318  610409.000000       0.514722   14677.000000   \n",
       "50%         0.717318  610409.000000       0.624154   33828.000000   \n",
       "75%         0.717318  610409.000000       0.774296  139405.000000   \n",
       "max        38.144475  610409.000000      46.774518  154319.000000   \n",
       "\n",
       "        risk_channel  count_channel  risk_click_hour  count_click_hour  \n",
       "count  647163.000000  647163.000000    647163.000000     647163.000000  \n",
       "mean        1.000000   16478.807387         1.000000      31771.111171  \n",
       "std         5.254676   13597.465902         0.223672       7162.833709  \n",
       "min         0.000000    1347.000000         0.461213       4527.000000  \n",
       "25%         0.061735    6860.000000         0.874713      32167.000000  \n",
       "50%         0.132213   12131.000000         1.021171      33954.000000  \n",
       "75%         0.229163   20681.000000         1.144156      35339.000000  \n",
       "max        69.203414   52495.000000         1.358939      39354.000000  "
      ]
     },
     "execution_count": 24,
     "metadata": {},
     "output_type": "execute_result"
    }
   ],
   "source": [
    "X_train.describe()"
   ]
  },
  {
   "cell_type": "code",
   "execution_count": 25,
   "metadata": {
    "ExecuteTime": {
     "end_time": "2018-07-06T19:04:26.691550Z",
     "start_time": "2018-07-06T19:04:26.615933Z"
    }
   },
   "outputs": [],
   "source": [
    "from sklearn.pipeline import Pipeline\n",
    "from sklearn.linear_model import LogisticRegression\n",
    "from sklearn.tree import DecisionTreeClassifier\n",
    "from sklearn.ensemble import RandomForestClassifier\n",
    "from sklearn.preprocessing import (StandardScaler, MinMaxScaler)\n",
    "from sklearn.metrics import roc_auc_score\n",
    "from sklearn.model_selection import (cross_val_score, RandomizedSearchCV)"
   ]
  },
  {
   "cell_type": "code",
   "execution_count": 26,
   "metadata": {
    "ExecuteTime": {
     "end_time": "2018-07-06T19:04:28.275869Z",
     "start_time": "2018-07-06T19:04:26.693196Z"
    }
   },
   "outputs": [
    {
     "data": {
      "text/plain": [
       "DecisionTreeClassifier(class_weight='balanced', criterion='gini', max_depth=5,\n",
       "            max_features=None, max_leaf_nodes=None,\n",
       "            min_impurity_decrease=0.0, min_impurity_split=None,\n",
       "            min_samples_leaf=1, min_samples_split=2,\n",
       "            min_weight_fraction_leaf=0.0, presort=False, random_state=None,\n",
       "            splitter='best')"
      ]
     },
     "execution_count": 26,
     "metadata": {},
     "output_type": "execute_result"
    }
   ],
   "source": [
    "model = DecisionTreeClassifier(class_weight='balanced', max_depth=5)\n",
    "model.fit(X_train.values, y_train.values)"
   ]
  },
  {
   "cell_type": "code",
   "execution_count": 27,
   "metadata": {
    "ExecuteTime": {
     "end_time": "2018-07-06T19:04:28.418497Z",
     "start_time": "2018-07-06T19:04:28.277935Z"
    }
   },
   "outputs": [
    {
     "name": "stdout",
     "output_type": "stream",
     "text": [
      "0.906403716853643\n"
     ]
    }
   ],
   "source": [
    "y_pred2 = model.predict(X_train)\n",
    "auc = roc_auc_score(y_train, y_pred2)\n",
    "print(auc)"
   ]
  },
  {
   "cell_type": "code",
   "execution_count": 28,
   "metadata": {
    "ExecuteTime": {
     "end_time": "2018-07-06T19:04:28.505175Z",
     "start_time": "2018-07-06T19:04:28.420715Z"
    }
   },
   "outputs": [
    {
     "name": "stdout",
     "output_type": "stream",
     "text": [
      "0.8764004061576148\n"
     ]
    }
   ],
   "source": [
    "y_pred = model.predict(X_test)\n",
    "auc = roc_auc_score(y_test, y_pred)\n",
    "print(auc)"
   ]
  },
  {
   "cell_type": "code",
   "execution_count": 29,
   "metadata": {
    "ExecuteTime": {
     "end_time": "2018-07-06T19:04:43.135549Z",
     "start_time": "2018-07-06T19:04:28.507213Z"
    }
   },
   "outputs": [
    {
     "data": {
      "text/plain": [
       "RandomForestClassifier(bootstrap=True, class_weight='balanced',\n",
       "            criterion='gini', max_depth=4, max_features='auto',\n",
       "            max_leaf_nodes=None, min_impurity_decrease=0.0,\n",
       "            min_impurity_split=None, min_samples_leaf=1,\n",
       "            min_samples_split=2, min_weight_fraction_leaf=0.0,\n",
       "            n_estimators=50, n_jobs=1, oob_score=False, random_state=None,\n",
       "            verbose=0, warm_start=False)"
      ]
     },
     "execution_count": 29,
     "metadata": {},
     "output_type": "execute_result"
    },
    {
     "name": "stdout",
     "output_type": "stream",
     "text": [
      "0.8763829474124548\n"
     ]
    }
   ],
   "source": [
    "model = RandomForestClassifier(class_weight='balanced', n_estimators=50, max_depth=4)\n",
    "model.fit(X_train, y_train)\n",
    "y_pred = model.predict(X_test)\n",
    "auc = roc_auc_score(y_test, y_pred)\n",
    "print(auc)"
   ]
  }
 ],
 "metadata": {
  "gist": {
   "data": {
    "description": "MLNDcapstone_pipeline.ipynb",
    "public": false
   },
   "id": ""
  },
  "kernelspec": {
   "display_name": "Python 3",
   "language": "python",
   "name": "python3"
  },
  "language_info": {
   "codemirror_mode": {
    "name": "ipython",
    "version": 3
   },
   "file_extension": ".py",
   "mimetype": "text/x-python",
   "name": "python",
   "nbconvert_exporter": "python",
   "pygments_lexer": "ipython3",
   "version": "3.6.5"
  },
  "toc": {
   "base_numbering": 1,
   "nav_menu": {},
   "number_sections": true,
   "sideBar": true,
   "skip_h1_title": false,
   "title_cell": "Table of Contents",
   "title_sidebar": "Contents",
   "toc_cell": false,
   "toc_position": {},
   "toc_section_display": true,
   "toc_window_display": false
  }
 },
 "nbformat": 4,
 "nbformat_minor": 2
}
