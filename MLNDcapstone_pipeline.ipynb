{
 "cells": [
  {
   "cell_type": "code",
   "execution_count": 1,
   "metadata": {
    "ExecuteTime": {
     "end_time": "2018-07-06T19:04:20.520748Z",
     "start_time": "2018-07-06T19:04:20.257672Z"
    }
   },
   "outputs": [],
   "source": [
    "%config InlineBackend.figure_format = 'retina'\n",
    "%matplotlib inline\n",
    "from IPython.core.interactiveshell import InteractiveShell\n",
    "InteractiveShell.ast_node_interactivity = \"all\""
   ]
  },
  {
   "cell_type": "code",
   "execution_count": 2,
   "metadata": {
    "ExecuteTime": {
     "end_time": "2018-07-06T19:04:21.034009Z",
     "start_time": "2018-07-06T19:04:20.522766Z"
    }
   },
   "outputs": [],
   "source": [
    "import sys\n",
    "import os\n",
    "import random\n",
    "import gc\n",
    "import subprocess\n",
    "from pprint import pprint\n",
    "\n",
    "import numpy as np\n",
    "import pandas as pd\n",
    "import matplotlib.pyplot as plt\n",
    "import seaborn as sns\n",
    "from sklearn.model_selection import train_test_split\n",
    "plt.style.use('./stylelib/custom.mplstyle')\n",
    "\n",
    "%reload_ext autoreload\n",
    "%autoreload 2\n",
    "import preprocessing\n",
    "import plotter"
   ]
  },
  {
   "cell_type": "markdown",
   "metadata": {},
   "source": [
    "---\n",
    "\n",
    "## 1 Data inspection and loading\n",
    "### 1.1 Downsample training data\n",
    "Only 0.5% of the all training records is used for exploratory data analysis"
   ]
  },
  {
   "cell_type": "code",
   "execution_count": 3,
   "metadata": {
    "ExecuteTime": {
     "end_time": "2018-07-06T19:04:21.068382Z",
     "start_time": "2018-07-06T19:04:21.036116Z"
    }
   },
   "outputs": [
    {
     "name": "stdout",
     "output_type": "stream",
     "text": [
      "CPU times: user 13 µs, sys: 0 ns, total: 13 µs\n",
      "Wall time: 16.9 µs\n"
     ]
    }
   ],
   "source": [
    "%%time\n",
    "\n",
    "dir_data = './data'\n",
    "from_scratch = False\n",
    "\n",
    "csv_train_raw = os.path.join(dir_data, 'train.csv')\n",
    "csv_train = os.path.join(dir_data, 'train_sample.csv')\n",
    "if from_scratch:\n",
    "    nlines_raw, nlines_reduced = preprocessing.csv_randomized_downsamp(\n",
    "        csv_in=csv_train_raw, csv_out=csv_train, fraction=0.005\n",
    "    )"
   ]
  },
  {
   "cell_type": "markdown",
   "metadata": {},
   "source": [
    "### 1.2 Load data into dataframe\n",
    "#### (1) Field inspections\n",
    "For efficiency concerns, we use shell commands instead of pandas operations."
   ]
  },
  {
   "cell_type": "code",
   "execution_count": 4,
   "metadata": {
    "ExecuteTime": {
     "end_time": "2018-07-06T19:04:21.215745Z",
     "start_time": "2018-07-06T19:04:21.070505Z"
    }
   },
   "outputs": [
    {
     "name": "stdout",
     "output_type": "stream",
     "text": [
      "ip,app,device,os,channel,click_time,attributed_time,is_attributed\r\n",
      "93766,3,1,19,205,2017-11-07 10:28:10,,0\r\n"
     ]
    }
   ],
   "source": [
    "# Quick check of training data fields by calling system shell command\n",
    "!head -2 ./data/train_sample.csv"
   ]
  },
  {
   "cell_type": "code",
   "execution_count": 5,
   "metadata": {
    "ExecuteTime": {
     "end_time": "2018-07-06T19:04:21.365902Z",
     "start_time": "2018-07-06T19:04:21.218719Z"
    }
   },
   "outputs": [
    {
     "name": "stdout",
     "output_type": "stream",
     "text": [
      "click_id,ip,app,device,os,channel,click_time\r\n",
      "0,5744,9,1,3,107,2017-11-10 04:00:00\r\n"
     ]
    }
   ],
   "source": [
    "# Quick check of test data fields by calling system shell command\n",
    "!head -2 ./data/test.csv"
   ]
  },
  {
   "cell_type": "markdown",
   "metadata": {},
   "source": [
    "**[CAUTION]** We should be very careful about the use of datetime feature `click_time`. The simple check above indicates the date value of the training and testing data don't overlap. For this reason, we should NOT use raw date or day-of-the-week as a feature when training our model."
   ]
  },
  {
   "cell_type": "markdown",
   "metadata": {},
   "source": [
    "**[Notes] Field selections** <br>\n",
    "Note that from above that training and testing data don't share the same fields. <br>\n",
    "To prepare data for subsequent processing, we only preserve fields that are common in both training and testing data. One exception is the `is_attributed` field in training data; It is the prediction target and thus needs to be preserved."
   ]
  },
  {
   "cell_type": "code",
   "execution_count": 6,
   "metadata": {
    "ExecuteTime": {
     "end_time": "2018-07-06T19:04:21.419446Z",
     "start_time": "2018-07-06T19:04:21.368369Z"
    }
   },
   "outputs": [
    {
     "name": "stdout",
     "output_type": "stream",
     "text": [
      "Data fields shared by both training and testing data:\n",
      " ['os', 'click_time', 'ip', 'channel', 'device', 'app']\n"
     ]
    }
   ],
   "source": [
    "# Extract field names from training and testing data\n",
    "fields_train = preprocessing.csv_list_fields(csv_in=csv_train)\n",
    "csv_test = os.path.join(dir_data, 'test.csv')\n",
    "fields_test = preprocessing.csv_list_fields(csv_in=csv_test)\n",
    "\n",
    "# Extract fields shared by both training and testing data\n",
    "fields_use = list(set(fields_train) & (set(fields_test)))\n",
    "print('Data fields shared by both training and testing data:\\n', fields_use)"
   ]
  },
  {
   "cell_type": "markdown",
   "metadata": {},
   "source": [
    "#### (2) Load into dataframe"
   ]
  },
  {
   "cell_type": "code",
   "execution_count": 7,
   "metadata": {
    "ExecuteTime": {
     "end_time": "2018-07-06T19:04:22.943393Z",
     "start_time": "2018-07-06T19:04:21.421983Z"
    }
   },
   "outputs": [],
   "source": [
    "# Load randomly sampled data subset into pandas dataframe,\n",
    "# and sort by click time (and reset index)\n",
    "df = pd.read_csv(\n",
    "    csv_train, usecols=fields_use + ['is_attributed'],\n",
    "    parse_dates=['click_time']\n",
    ").sort_values(by='click_time').reset_index(drop=True)\n",
    "\n",
    "# Convert click time from UTC to local time\n",
    "df['click_time'] = (\n",
    "    pd.DatetimeIndex(df['click_time']).tz_localize('utc')\n",
    "    .tz_convert('Asia/Shanghai')\n",
    ")"
   ]
  },
  {
   "cell_type": "code",
   "execution_count": 8,
   "metadata": {
    "ExecuteTime": {
     "end_time": "2018-07-06T19:04:22.989215Z",
     "start_time": "2018-07-06T19:04:22.945216Z"
    }
   },
   "outputs": [
    {
     "data": {
      "text/html": [
       "<div>\n",
       "<style scoped>\n",
       "    .dataframe tbody tr th:only-of-type {\n",
       "        vertical-align: middle;\n",
       "    }\n",
       "\n",
       "    .dataframe tbody tr th {\n",
       "        vertical-align: top;\n",
       "    }\n",
       "\n",
       "    .dataframe thead th {\n",
       "        text-align: right;\n",
       "    }\n",
       "</style>\n",
       "<table border=\"1\" class=\"dataframe\">\n",
       "  <thead>\n",
       "    <tr style=\"text-align: right;\">\n",
       "      <th></th>\n",
       "      <th>ip</th>\n",
       "      <th>app</th>\n",
       "      <th>device</th>\n",
       "      <th>os</th>\n",
       "      <th>channel</th>\n",
       "      <th>click_time</th>\n",
       "      <th>is_attributed</th>\n",
       "    </tr>\n",
       "  </thead>\n",
       "  <tbody>\n",
       "    <tr>\n",
       "      <th>0</th>\n",
       "      <td>143257</td>\n",
       "      <td>3</td>\n",
       "      <td>1</td>\n",
       "      <td>15</td>\n",
       "      <td>379</td>\n",
       "      <td>2017-11-06 23:41:21+08:00</td>\n",
       "      <td>0</td>\n",
       "    </tr>\n",
       "    <tr>\n",
       "      <th>1</th>\n",
       "      <td>186555</td>\n",
       "      <td>3</td>\n",
       "      <td>1</td>\n",
       "      <td>13</td>\n",
       "      <td>379</td>\n",
       "      <td>2017-11-06 23:54:57+08:00</td>\n",
       "      <td>0</td>\n",
       "    </tr>\n",
       "    <tr>\n",
       "      <th>2</th>\n",
       "      <td>119289</td>\n",
       "      <td>3</td>\n",
       "      <td>1</td>\n",
       "      <td>13</td>\n",
       "      <td>379</td>\n",
       "      <td>2017-11-06 23:57:20+08:00</td>\n",
       "      <td>0</td>\n",
       "    </tr>\n",
       "  </tbody>\n",
       "</table>\n",
       "</div>"
      ],
      "text/plain": [
       "       ip  app  device  os  channel                click_time  is_attributed\n",
       "0  143257    3       1  15      379 2017-11-06 23:41:21+08:00              0\n",
       "1  186555    3       1  13      379 2017-11-06 23:54:57+08:00              0\n",
       "2  119289    3       1  13      379 2017-11-06 23:57:20+08:00              0"
      ]
     },
     "execution_count": 8,
     "metadata": {},
     "output_type": "execute_result"
    }
   ],
   "source": [
    "# Inspect first few lines\n",
    "df.head(3)"
   ]
  },
  {
   "cell_type": "markdown",
   "metadata": {},
   "source": [
    "---\n",
    "## 2. Exploratory data analysis\n",
    "### 2.1 Do we have imbalanced classes?"
   ]
  },
  {
   "cell_type": "code",
   "execution_count": 9,
   "metadata": {
    "ExecuteTime": {
     "end_time": "2018-07-06T19:04:23.024136Z",
     "start_time": "2018-07-06T19:04:22.991172Z"
    }
   },
   "outputs": [
    {
     "name": "stdout",
     "output_type": "stream",
     "text": [
      "Percentage of positive target = 0.248%\n"
     ]
    }
   ],
   "source": [
    "# Inspect data size\n",
    "nclick_total =len(df)\n",
    "percentage_pos = (df['is_attributed'].sum()) / nclick_total * 100\n",
    "print('Percentage of positive target = {:.3f}%'.format(percentage_pos))"
   ]
  },
  {
   "cell_type": "markdown",
   "metadata": {},
   "source": [
    "**[CAUTION] Class imbalance**<br>\n",
    "Given that only ~0.25% of the records has positive target values (`df['is_attributed'] == 1`), we have **an extreme case of class imbalance** at hand.\n",
    "\n",
    "### 2.2 Convert datetime variable to usable form\n",
    "To convert datetime to a more usable form, we extract hour-of-the-day information"
   ]
  },
  {
   "cell_type": "code",
   "execution_count": 10,
   "metadata": {
    "ExecuteTime": {
     "end_time": "2018-07-06T19:04:23.190844Z",
     "start_time": "2018-07-06T19:04:23.026231Z"
    }
   },
   "outputs": [],
   "source": [
    "# Extract hour of the day\n",
    "df['click_hour'] = df['click_time'].dt.hour\n",
    "\n",
    "# Drop raw `click_time`\n",
    "df.drop(columns=['click_time'], inplace=True)"
   ]
  },
  {
   "cell_type": "code",
   "execution_count": 11,
   "metadata": {
    "ExecuteTime": {
     "end_time": "2018-07-06T19:04:23.228070Z",
     "start_time": "2018-07-06T19:04:23.192238Z"
    }
   },
   "outputs": [
    {
     "data": {
      "text/html": [
       "<div>\n",
       "<style scoped>\n",
       "    .dataframe tbody tr th:only-of-type {\n",
       "        vertical-align: middle;\n",
       "    }\n",
       "\n",
       "    .dataframe tbody tr th {\n",
       "        vertical-align: top;\n",
       "    }\n",
       "\n",
       "    .dataframe thead th {\n",
       "        text-align: right;\n",
       "    }\n",
       "</style>\n",
       "<table border=\"1\" class=\"dataframe\">\n",
       "  <thead>\n",
       "    <tr style=\"text-align: right;\">\n",
       "      <th></th>\n",
       "      <th>ip</th>\n",
       "      <th>app</th>\n",
       "      <th>device</th>\n",
       "      <th>os</th>\n",
       "      <th>channel</th>\n",
       "      <th>is_attributed</th>\n",
       "      <th>click_hour</th>\n",
       "    </tr>\n",
       "  </thead>\n",
       "  <tbody>\n",
       "    <tr>\n",
       "      <th>0</th>\n",
       "      <td>143257</td>\n",
       "      <td>3</td>\n",
       "      <td>1</td>\n",
       "      <td>15</td>\n",
       "      <td>379</td>\n",
       "      <td>0</td>\n",
       "      <td>23</td>\n",
       "    </tr>\n",
       "    <tr>\n",
       "      <th>1</th>\n",
       "      <td>186555</td>\n",
       "      <td>3</td>\n",
       "      <td>1</td>\n",
       "      <td>13</td>\n",
       "      <td>379</td>\n",
       "      <td>0</td>\n",
       "      <td>23</td>\n",
       "    </tr>\n",
       "    <tr>\n",
       "      <th>2</th>\n",
       "      <td>119289</td>\n",
       "      <td>3</td>\n",
       "      <td>1</td>\n",
       "      <td>13</td>\n",
       "      <td>379</td>\n",
       "      <td>0</td>\n",
       "      <td>23</td>\n",
       "    </tr>\n",
       "  </tbody>\n",
       "</table>\n",
       "</div>"
      ],
      "text/plain": [
       "       ip  app  device  os  channel  is_attributed  click_hour\n",
       "0  143257    3       1  15      379              0          23\n",
       "1  186555    3       1  13      379              0          23\n",
       "2  119289    3       1  13      379              0          23"
      ]
     },
     "execution_count": 11,
     "metadata": {},
     "output_type": "execute_result"
    }
   ],
   "source": [
    "df.head(3)"
   ]
  },
  {
   "cell_type": "markdown",
   "metadata": {},
   "source": [
    "### 2.3 Train-test split, and set aside testing data"
   ]
  },
  {
   "cell_type": "code",
   "execution_count": 12,
   "metadata": {
    "ExecuteTime": {
     "end_time": "2018-07-06T19:04:23.360402Z",
     "start_time": "2018-07-06T19:04:23.230772Z"
    }
   },
   "outputs": [
    {
     "name": "stdout",
     "output_type": "stream",
     "text": [
      "Training data (pos%): 0.24962799171151626\n",
      "Testing data (pos%): 0.2449919958464933\n"
     ]
    }
   ],
   "source": [
    "# Split the original dataframe into in-sample training and testing sets\n",
    "# Because stratified sampling is the default option of sklearn, it is not\n",
    "# explicitly set\n",
    "df_train, df_test = train_test_split(df, test_size=0.3, random_state=42)\n",
    "\n",
    "# Double check class ratios after train-test split\n",
    "print(\n",
    "    'Training data (pos%):',\n",
    "    100 * df_train['is_attributed'].sum() / len(df_train)\n",
    ")\n",
    "print(\n",
    "    'Testing data (pos%):',\n",
    "    100 * df_test['is_attributed'].sum() / len(df_test)\n",
    ")"
   ]
  },
  {
   "cell_type": "markdown",
   "metadata": {},
   "source": [
    "### 2.4 Inspect variable distributions of training data"
   ]
  },
  {
   "cell_type": "code",
   "execution_count": 13,
   "metadata": {
    "ExecuteTime": {
     "end_time": "2018-07-06T19:04:23.559949Z",
     "start_time": "2018-07-06T19:04:23.476553Z"
    }
   },
   "outputs": [
    {
     "data": {
      "text/html": [
       "<div>\n",
       "<style scoped>\n",
       "    .dataframe tbody tr th:only-of-type {\n",
       "        vertical-align: middle;\n",
       "    }\n",
       "\n",
       "    .dataframe tbody tr th {\n",
       "        vertical-align: top;\n",
       "    }\n",
       "\n",
       "    .dataframe thead th {\n",
       "        text-align: right;\n",
       "    }\n",
       "</style>\n",
       "<table border=\"1\" class=\"dataframe\">\n",
       "  <thead>\n",
       "    <tr style=\"text-align: right;\">\n",
       "      <th></th>\n",
       "      <th>ip</th>\n",
       "      <th>app</th>\n",
       "      <th>device</th>\n",
       "      <th>os</th>\n",
       "      <th>channel</th>\n",
       "      <th>is_attributed</th>\n",
       "      <th>click_hour</th>\n",
       "    </tr>\n",
       "  </thead>\n",
       "  <tbody>\n",
       "    <tr>\n",
       "      <th>n_unique</th>\n",
       "      <td>87459.000000</td>\n",
       "      <td>309.000000</td>\n",
       "      <td>503.000000</td>\n",
       "      <td>204.000000</td>\n",
       "      <td>174.000000</td>\n",
       "      <td>2.000000</td>\n",
       "      <td>24.000000</td>\n",
       "    </tr>\n",
       "    <tr>\n",
       "      <th>n_unique (%)</th>\n",
       "      <td>6.757108</td>\n",
       "      <td>0.023873</td>\n",
       "      <td>0.038862</td>\n",
       "      <td>0.015761</td>\n",
       "      <td>0.013443</td>\n",
       "      <td>0.000155</td>\n",
       "      <td>0.001854</td>\n",
       "    </tr>\n",
       "  </tbody>\n",
       "</table>\n",
       "</div>"
      ],
      "text/plain": [
       "                        ip         app      device          os     channel  \\\n",
       "n_unique      87459.000000  309.000000  503.000000  204.000000  174.000000   \n",
       "n_unique (%)      6.757108    0.023873    0.038862    0.015761    0.013443   \n",
       "\n",
       "              is_attributed  click_hour  \n",
       "n_unique           2.000000   24.000000  \n",
       "n_unique (%)       0.000155    0.001854  "
      ]
     },
     "execution_count": 13,
     "metadata": {},
     "output_type": "execute_result"
    }
   ],
   "source": [
    "# Count the amount of unique values\n",
    "df_counts = pd.DataFrame()\n",
    "df_counts['n_unique'] = df_train.nunique()\n",
    "df_counts['n_unique (%)'] = 100 * df_counts['n_unique'] / len(df_train)\n",
    "df_counts.T"
   ]
  },
  {
   "cell_type": "markdown",
   "metadata": {},
   "source": [
    "**[TAKE AWAY]**<br>\n",
    "* Without exception, the total number of unique values for each of these variables is markedly smaller than the total number of clicks. This indicates that many-to-one mapping is typical between clicks and these variables. This makes sense because a single user can generate multiple clicks.\n",
    "* The amount of distinct values in categorical features is very high. We will need to make major efforts in feature engineering."
   ]
  },
  {
   "cell_type": "code",
   "execution_count": 14,
   "metadata": {
    "ExecuteTime": {
     "end_time": "2018-07-06T19:04:23.826513Z",
     "start_time": "2018-07-06T19:04:23.561976Z"
    }
   },
   "outputs": [],
   "source": [
    "feature_list = [col for col in df_train.columns if col != 'is_attributed']\n",
    "df_train_imputed, df_test_imputed = preprocessing.df_rarelabel_imputer(\n",
    "    df_train, df_test, cols=feature_list,\n",
    "    thresh_percentage=0.2, replace_with=1e10\n",
    ")"
   ]
  },
  {
   "cell_type": "code",
   "execution_count": 15,
   "metadata": {},
   "outputs": [
    {
     "data": {
      "text/html": [
       "<div>\n",
       "<style scoped>\n",
       "    .dataframe tbody tr th:only-of-type {\n",
       "        vertical-align: middle;\n",
       "    }\n",
       "\n",
       "    .dataframe tbody tr th {\n",
       "        vertical-align: top;\n",
       "    }\n",
       "\n",
       "    .dataframe thead th {\n",
       "        text-align: right;\n",
       "    }\n",
       "</style>\n",
       "<table border=\"1\" class=\"dataframe\">\n",
       "  <thead>\n",
       "    <tr style=\"text-align: right;\">\n",
       "      <th></th>\n",
       "      <th>ip</th>\n",
       "      <th>app</th>\n",
       "      <th>device</th>\n",
       "      <th>os</th>\n",
       "      <th>channel</th>\n",
       "      <th>is_attributed</th>\n",
       "      <th>click_hour</th>\n",
       "    </tr>\n",
       "  </thead>\n",
       "  <tbody>\n",
       "    <tr>\n",
       "      <th>545636</th>\n",
       "      <td>10000000000</td>\n",
       "      <td>21</td>\n",
       "      <td>2</td>\n",
       "      <td>9</td>\n",
       "      <td>128</td>\n",
       "      <td>0</td>\n",
       "      <td>22</td>\n",
       "    </tr>\n",
       "    <tr>\n",
       "      <th>988565</th>\n",
       "      <td>10000000000</td>\n",
       "      <td>12</td>\n",
       "      <td>1</td>\n",
       "      <td>13</td>\n",
       "      <td>178</td>\n",
       "      <td>0</td>\n",
       "      <td>17</td>\n",
       "    </tr>\n",
       "    <tr>\n",
       "      <th>770783</th>\n",
       "      <td>10000000000</td>\n",
       "      <td>12</td>\n",
       "      <td>1</td>\n",
       "      <td>17</td>\n",
       "      <td>409</td>\n",
       "      <td>0</td>\n",
       "      <td>10</td>\n",
       "    </tr>\n",
       "    <tr>\n",
       "      <th>386256</th>\n",
       "      <td>10000000000</td>\n",
       "      <td>14</td>\n",
       "      <td>1</td>\n",
       "      <td>13</td>\n",
       "      <td>489</td>\n",
       "      <td>0</td>\n",
       "      <td>17</td>\n",
       "    </tr>\n",
       "    <tr>\n",
       "      <th>1371006</th>\n",
       "      <td>10000000000</td>\n",
       "      <td>23</td>\n",
       "      <td>1</td>\n",
       "      <td>17</td>\n",
       "      <td>153</td>\n",
       "      <td>0</td>\n",
       "      <td>9</td>\n",
       "    </tr>\n",
       "  </tbody>\n",
       "</table>\n",
       "</div>"
      ],
      "text/plain": [
       "                  ip  app  device  os  channel  is_attributed  click_hour\n",
       "545636   10000000000   21       2   9      128              0          22\n",
       "988565   10000000000   12       1  13      178              0          17\n",
       "770783   10000000000   12       1  17      409              0          10\n",
       "386256   10000000000   14       1  13      489              0          17\n",
       "1371006  10000000000   23       1  17      153              0           9"
      ]
     },
     "execution_count": 15,
     "metadata": {},
     "output_type": "execute_result"
    }
   ],
   "source": [
    "df_train_imputed.head()"
   ]
  },
  {
   "cell_type": "markdown",
   "metadata": {},
   "source": [
    "### 2.5 Apply target-guided encoding to categorical features"
   ]
  },
  {
   "cell_type": "code",
   "execution_count": 16,
   "metadata": {},
   "outputs": [],
   "source": [
    "df_train, df_test = preprocessing.df_label2num_encoding(\n",
    "    df_train, df_test, cols=feature_list\n",
    ")\n",
    "df_train_imputed, df_test_imputed = preprocessing.df_label2num_encoding(\n",
    "    df_train_imputed, df_test_imputed, cols=feature_list\n",
    ")"
   ]
  },
  {
   "cell_type": "markdown",
   "metadata": {},
   "source": [
    "### 2.6 Check dataframes after encoding\n",
    "\n",
    "Note that mapping used for encoding is generated with training data and then propagated to testing data. \n",
    "Because there are non-overlap variables between training and testing data, and encoded testing data are going to have missing values. Let's have a look:"
   ]
  },
  {
   "cell_type": "code",
   "execution_count": 17,
   "metadata": {
    "ExecuteTime": {
     "end_time": "2018-07-06T19:04:25.006496Z",
     "start_time": "2018-07-06T19:04:24.824531Z"
    }
   },
   "outputs": [
    {
     "data": {
      "text/html": [
       "<div>\n",
       "<style scoped>\n",
       "    .dataframe tbody tr th:only-of-type {\n",
       "        vertical-align: middle;\n",
       "    }\n",
       "\n",
       "    .dataframe tbody tr th {\n",
       "        vertical-align: top;\n",
       "    }\n",
       "\n",
       "    .dataframe thead th {\n",
       "        text-align: right;\n",
       "    }\n",
       "</style>\n",
       "<table border=\"1\" class=\"dataframe\">\n",
       "  <thead>\n",
       "    <tr style=\"text-align: right;\">\n",
       "      <th></th>\n",
       "      <th>is_attributed</th>\n",
       "      <th>risk_ip</th>\n",
       "      <th>count_ip</th>\n",
       "      <th>risk_app</th>\n",
       "      <th>count_app</th>\n",
       "      <th>risk_device</th>\n",
       "      <th>count_device</th>\n",
       "      <th>risk_os</th>\n",
       "      <th>count_os</th>\n",
       "      <th>risk_channel</th>\n",
       "      <th>count_channel</th>\n",
       "      <th>risk_click_hour</th>\n",
       "      <th>count_click_hour</th>\n",
       "    </tr>\n",
       "  </thead>\n",
       "  <tbody>\n",
       "    <tr>\n",
       "      <th>nan_train(%)</th>\n",
       "      <td>0.0</td>\n",
       "      <td>0.000000</td>\n",
       "      <td>0.000000</td>\n",
       "      <td>0.000000</td>\n",
       "      <td>0.000000</td>\n",
       "      <td>0.000000</td>\n",
       "      <td>0.000000</td>\n",
       "      <td>0.000000</td>\n",
       "      <td>0.000000</td>\n",
       "      <td>0.00000</td>\n",
       "      <td>0.00000</td>\n",
       "      <td>0.0</td>\n",
       "      <td>0.0</td>\n",
       "    </tr>\n",
       "    <tr>\n",
       "      <th>nan_test(%)</th>\n",
       "      <td>0.0</td>\n",
       "      <td>1.869979</td>\n",
       "      <td>1.869979</td>\n",
       "      <td>0.003065</td>\n",
       "      <td>0.003065</td>\n",
       "      <td>0.020731</td>\n",
       "      <td>0.020731</td>\n",
       "      <td>0.002524</td>\n",
       "      <td>0.002524</td>\n",
       "      <td>0.00018</td>\n",
       "      <td>0.00018</td>\n",
       "      <td>0.0</td>\n",
       "      <td>0.0</td>\n",
       "    </tr>\n",
       "  </tbody>\n",
       "</table>\n",
       "</div>"
      ],
      "text/plain": [
       "              is_attributed   risk_ip  count_ip  risk_app  count_app  \\\n",
       "nan_train(%)            0.0  0.000000  0.000000  0.000000   0.000000   \n",
       "nan_test(%)             0.0  1.869979  1.869979  0.003065   0.003065   \n",
       "\n",
       "              risk_device  count_device   risk_os  count_os  risk_channel  \\\n",
       "nan_train(%)     0.000000      0.000000  0.000000  0.000000       0.00000   \n",
       "nan_test(%)      0.020731      0.020731  0.002524  0.002524       0.00018   \n",
       "\n",
       "              count_channel  risk_click_hour  count_click_hour  \n",
       "nan_train(%)        0.00000              0.0               0.0  \n",
       "nan_test(%)         0.00018              0.0               0.0  "
      ]
     },
     "execution_count": 17,
     "metadata": {},
     "output_type": "execute_result"
    }
   ],
   "source": [
    "# Check presence of missing value after encoding\n",
    "df_nulls = pd.DataFrame()\n",
    "df_nulls['nan_train(%)'] = 100 * (df_train.isnull().sum() / len(df_train))\n",
    "df_nulls['nan_test(%)'] = 100 * (df_test.isnull().sum() / len(df_test))\n",
    "df_nulls.T"
   ]
  },
  {
   "cell_type": "markdown",
   "metadata": {},
   "source": [
    "As expected, for `*_woe` variables, the testing data have missing values that requires clean up. We will test a number of approaches later, and use simply dropping the value as a baseline for comparisons."
   ]
  },
  {
   "cell_type": "markdown",
   "metadata": {},
   "source": [
    "### 2.7 Check Pearson's correlation coefficient"
   ]
  },
  {
   "cell_type": "code",
   "execution_count": 18,
   "metadata": {
    "ExecuteTime": {
     "end_time": "2018-07-06T19:04:26.037992Z",
     "start_time": "2018-07-06T19:04:25.008414Z"
    }
   },
   "outputs": [
    {
     "data": {
      "image/png": "[encoded data removed]",
      "text/plain": [
       "<Figure size 800x400 with 2 Axes>"
      ]
     },
     "metadata": {
      "image/png": {
       "height": 508,
       "width": 873
      }
     },
     "output_type": "display_data"
    }
   ],
   "source": [
    "# Exclude target variable from correlation calculation\n",
    "plotter.plot_corrmat(df_train)"
   ]
  },
  {
   "cell_type": "markdown",
   "metadata": {},
   "source": [
    "---\n",
    "## 3. Machine learning"
   ]
  },
  {
   "cell_type": "code",
   "execution_count": 60,
   "metadata": {},
   "outputs": [],
   "source": [
    "def df_2_Xy(impute=True):\n",
    "    target_col = 'is_attributed'\n",
    "    cols = [x for x in df_train.columns if x != target_col]\n",
    "    #cols = [x for x in df_train.columns if x != target_col and 'count' not in x]\n",
    "    #cols = [x for x in df_train.columns if x != target_col and 'risk' not in x]\n",
    "    if impute:\n",
    "        df_train_imputed.fillna(0.0, inplace=True)\n",
    "        df_test_imputed.fillna(0.0, inplace=True)\n",
    "        X_train, y_train = (\n",
    "            df_train_imputed[cols], df_train_imputed[target_col]\n",
    "        )\n",
    "        X_test, y_test = (\n",
    "            df_test_imputed[cols], df_test_imputed[target_col]\n",
    "        )\n",
    "    else:\n",
    "        df_train.fillna(0.0, inplace=True)\n",
    "        df_test.fillna(0.0, inplace=True)\n",
    "        X_train, y_train = (df_train[cols], df_train[target_col])\n",
    "        X_test, y_test = (df_test[cols], df_test[target_col])\n",
    "    return (X_train, y_train, X_test, y_test)"
   ]
  },
  {
   "cell_type": "code",
   "execution_count": 61,
   "metadata": {},
   "outputs": [],
   "source": [
    "X_train, y_train, X_test, y_test = df_2_Xy(impute=False)"
   ]
  },
  {
   "cell_type": "code",
   "execution_count": 62,
   "metadata": {
    "ExecuteTime": {
     "end_time": "2018-07-06T19:04:26.691550Z",
     "start_time": "2018-07-06T19:04:26.615933Z"
    }
   },
   "outputs": [],
   "source": [
    "from sklearn.pipeline import Pipeline\n",
    "from sklearn.linear_model import LogisticRegression\n",
    "from sklearn.tree import DecisionTreeClassifier\n",
    "from sklearn.ensemble import RandomForestClassifier\n",
    "from sklearn.preprocessing import (StandardScaler, MinMaxScaler)\n",
    "from sklearn.metrics import roc_auc_score\n",
    "from sklearn.model_selection import (cross_val_score, RandomizedSearchCV)"
   ]
  },
  {
   "cell_type": "code",
   "execution_count": 63,
   "metadata": {},
   "outputs": [],
   "source": [
    "scaler = StandardScaler()\n",
    "X_train = scaler.fit_transform(X_train)\n",
    "X_test = scaler.fit_transform(X_test)"
   ]
  },
  {
   "cell_type": "code",
   "execution_count": 64,
   "metadata": {},
   "outputs": [
    {
     "data": {
      "text/plain": [
       "LogisticRegression(C=1.0, class_weight='balanced', dual=False,\n",
       "          fit_intercept=True, intercept_scaling=1, max_iter=100,\n",
       "          multi_class='ovr', n_jobs=1, penalty='l2', random_state=None,\n",
       "          solver='liblinear', tol=0.0001, verbose=0, warm_start=False)"
      ]
     },
     "execution_count": 64,
     "metadata": {},
     "output_type": "execute_result"
    },
    {
     "name": "stdout",
     "output_type": "stream",
     "text": [
      "0.9019018649018017\n"
     ]
    }
   ],
   "source": [
    "lgc = LogisticRegression(class_weight='balanced')\n",
    "lgc.fit(X_train, y_train)\n",
    "y_pred = lgc.predict(X_test)\n",
    "auc = roc_auc_score(y_test, y_pred)\n",
    "print(auc)"
   ]
  },
  {
   "cell_type": "code",
   "execution_count": 65,
   "metadata": {
    "ExecuteTime": {
     "end_time": "2018-07-06T19:04:28.275869Z",
     "start_time": "2018-07-06T19:04:26.693196Z"
    }
   },
   "outputs": [
    {
     "data": {
      "text/plain": [
       "DecisionTreeClassifier(class_weight='balanced', criterion='gini', max_depth=3,\n",
       "            max_features=None, max_leaf_nodes=None,\n",
       "            min_impurity_decrease=0.0, min_impurity_split=None,\n",
       "            min_samples_leaf=1, min_samples_split=2,\n",
       "            min_weight_fraction_leaf=0.0, presort=False, random_state=None,\n",
       "            splitter='best')"
      ]
     },
     "execution_count": 65,
     "metadata": {},
     "output_type": "execute_result"
    }
   ],
   "source": [
    "model = DecisionTreeClassifier(class_weight='balanced', max_depth=3)\n",
    "model.fit(X_train, y_train)"
   ]
  },
  {
   "cell_type": "code",
   "execution_count": 66,
   "metadata": {
    "ExecuteTime": {
     "end_time": "2018-07-06T19:04:28.418497Z",
     "start_time": "2018-07-06T19:04:28.277935Z"
    }
   },
   "outputs": [
    {
     "name": "stdout",
     "output_type": "stream",
     "text": [
      "0.9059152861554185\n"
     ]
    }
   ],
   "source": [
    "y_pred2 = model.predict(X_train)\n",
    "auc = roc_auc_score(y_train, y_pred2)\n",
    "print(auc)"
   ]
  },
  {
   "cell_type": "code",
   "execution_count": 67,
   "metadata": {
    "ExecuteTime": {
     "end_time": "2018-07-06T19:04:28.505175Z",
     "start_time": "2018-07-06T19:04:28.420715Z"
    }
   },
   "outputs": [
    {
     "name": "stdout",
     "output_type": "stream",
     "text": [
      "0.8982832829100477\n"
     ]
    }
   ],
   "source": [
    "y_pred = model.predict(X_test)\n",
    "auc = roc_auc_score(y_test, y_pred)\n",
    "print(auc)"
   ]
  },
  {
   "cell_type": "code",
   "execution_count": 70,
   "metadata": {},
   "outputs": [
    {
     "data": {
      "text/plain": [
       "array([  0.50125126, 200.29805014])"
      ]
     },
     "execution_count": 70,
     "metadata": {},
     "output_type": "execute_result"
    }
   ],
   "source": [
    "from sklearn.utils import class_weight\n",
    "class_weight = class_weight.compute_class_weight(\n",
    "    'balanced', y_train.unique(), y_train\n",
    ")\n",
    "class_weight"
   ]
  },
  {
   "cell_type": "code",
   "execution_count": 68,
   "metadata": {
    "ExecuteTime": {
     "end_time": "2018-07-06T19:04:43.135549Z",
     "start_time": "2018-07-06T19:04:28.507213Z"
    }
   },
   "outputs": [
    {
     "data": {
      "text/plain": [
       "RandomForestClassifier(bootstrap=True, class_weight='balanced',\n",
       "            criterion='gini', max_depth=3, max_features='auto',\n",
       "            max_leaf_nodes=None, min_impurity_decrease=0.0,\n",
       "            min_impurity_split=None, min_samples_leaf=1,\n",
       "            min_samples_split=2, min_weight_fraction_leaf=0.0,\n",
       "            n_estimators=50, n_jobs=1, oob_score=False, random_state=None,\n",
       "            verbose=0, warm_start=False)"
      ]
     },
     "execution_count": 68,
     "metadata": {},
     "output_type": "execute_result"
    },
    {
     "name": "stdout",
     "output_type": "stream",
     "text": [
      "0.9041089455573448\n"
     ]
    }
   ],
   "source": [
    "model = RandomForestClassifier(class_weight='balanced', n_estimators=50, max_depth=3)\n",
    "model.fit(X_train, y_train)\n",
    "y_pred = model.predict(X_test)\n",
    "auc = roc_auc_score(y_test, y_pred)\n",
    "print(auc)"
   ]
  },
  {
   "cell_type": "code",
   "execution_count": null,
   "metadata": {},
   "outputs": [],
   "source": [
    "import xgboost as xgb\n",
    "dmatrix = xgb.DMatrix(data=X_train, label=y_train)\n",
    "\n",
    "# Create the parameter dictionary for each tree: params\n",
    "params = {\"objective\":\"reg:linear\", \"max_depth\":4}\n",
    "\n",
    "# Perform cross-validation with early stopping: cv_results\n",
    "cv_results = xgb.cv(\n",
    "    dtrain=housing_dmatrix, params=params, metrics='rmse',\n",
    "    early_stopping_rounds=10, num_boost_round=50,\n",
    "    seed=123\n",
    ")\n",
    "\n",
    "# Print cv_results\n",
    "print(cv_results)"
   ]
  },
  {
   "cell_type": "code",
   "execution_count": 71,
   "metadata": {},
   "outputs": [
    {
     "name": "stdout",
     "output_type": "stream",
     "text": [
      "0.5327365329539133\n"
     ]
    },
    {
     "name": "stderr",
     "output_type": "stream",
     "text": [
      "/Users/shandou/anaconda/envs/mlnd/lib/python3.6/site-packages/sklearn/preprocessing/label.py:151: DeprecationWarning: The truth value of an empty array is ambiguous. Returning False, but in future this will result in an error. Use `array.size > 0` to check that an array is not empty.\n",
      "  if diff:\n"
     ]
    }
   ],
   "source": [
    "import xgboost as xgb\n",
    "gbm = xgb.XGBClassifier(\n",
    "    class_weight=class_weight, max_depth=3, n_estimators=50, learning_rate=0.05\n",
    ").fit(X_train, y_train)\n",
    "y_pred = gbm.predict(X_test)\n",
    "auc = roc_auc_score(y_test, y_pred)\n",
    "print(auc)"
   ]
  },
  {
   "cell_type": "code",
   "execution_count": 59,
   "metadata": {},
   "outputs": [
    {
     "name": "stdout",
     "output_type": "stream",
     "text": [
      "Epoch 1/1\n",
      "1294326/1294326 [==============================] - 26s 20us/step - loss: 0.0227 - acc: 0.9957\n"
     ]
    },
    {
     "data": {
      "text/plain": [
       "<keras.callbacks.History at 0x1a1d683588>"
      ]
     },
     "execution_count": 59,
     "metadata": {},
     "output_type": "execute_result"
    },
    {
     "name": "stdout",
     "output_type": "stream",
     "text": [
      "0.8672992748374709\n"
     ]
    }
   ],
   "source": [
    "# Create your first MLP in Keras\n",
    "from keras.models import Sequential\n",
    "from keras.layers import Dense\n",
    "\n",
    "# create model\n",
    "model = Sequential()\n",
    "model.add(Dense(12, input_dim=X_train.shape[1], activation='relu'))\n",
    "model.add(Dense(8, activation='relu'))\n",
    "model.add(Dense(1, activation='sigmoid'))\n",
    "# Compile model\n",
    "model.compile(loss='binary_crossentropy', optimizer='adam', metrics=['accuracy'])\n",
    "# Fit the model\n",
    "model.fit(X_train, y_train, epochs=1, batch_size=128)\n",
    "y_pred = model.predict_proba(X_test)\n",
    "auc = roc_auc_score(y_test, y_pred)\n",
    "print(auc)"
   ]
  }
 ],
 "metadata": {
  "gist": {
   "data": {
    "description": "MLNDcapstone_pipeline.ipynb",
    "public": false
   },
   "id": ""
  },
  "kernelspec": {
   "display_name": "Python 3",
   "language": "python",
   "name": "python3"
  },
  "language_info": {
   "codemirror_mode": {
    "name": "ipython",
    "version": 3
   },
   "file_extension": ".py",
   "mimetype": "text/x-python",
   "name": "python",
   "nbconvert_exporter": "python",
   "pygments_lexer": "ipython3",
   "version": "3.6.5"
  },
  "toc": {
   "base_numbering": 1,
   "nav_menu": {},
   "number_sections": true,
   "sideBar": true,
   "skip_h1_title": false,
   "title_cell": "Table of Contents",
   "title_sidebar": "Contents",
   "toc_cell": false,
   "toc_position": {},
   "toc_section_display": true,
   "toc_window_display": false
  }
 },
 "nbformat": 4,
 "nbformat_minor": 2
}
