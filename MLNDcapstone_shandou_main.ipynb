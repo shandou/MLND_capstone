{
 "cells": [
  {
   "cell_type": "markdown",
   "metadata": {},
   "source": [
    "# Supervised Machine Learning for Click Fraud Detection<br>[Main Workbook]\n",
    "\n",
    "MLND Capstone Project<br>\n",
    "Shan Dou<br>\n",
    "July 2018\n",
    "\n",
    "### Summary\n",
    "This jupyter notebook (`MLNDcapstone_shandou_main.ipynb`) is the main workbook of the capstone project. The raw data files were obtained from Kaggle competion [TalkingData AdTracking Fraud Detection Challenge](https://www.kaggle.com/c/talkingdata-adtracking-fraud-detection). The raw training dataset has around 200 million records, but only 0.1% of the raw records are used throughout this notebook to keep the analysis lightweight. The **end-to-end workflow** is developed here, and to examine the robustness of the workflow, this data size is doubled and the corresponding results are detailed in the companion notebook `MLNDcapstone_shandou_robustness.ipynb`.\n",
    "\n",
    "The implementation in this notebook consists of three main sections:\n",
    "* Data inspection and loading:\n",
    "    * Inspect data fields of the raw training and testing csv files\n",
    "    * Subsample 0.1% of the records for data analysis and machine learning\n",
    "    * Load data into pandas dataframe\n",
    "* Exploratory data analysis and feature engineering\n",
    "    * Check extent of class imbalance and cardinality of the categorical features\n",
    "    * Extract hour-of-the-day information from timestamps\n",
    "    * Train-test split (70% training and 30% testing)\n",
    "    * Obtain rare-label imputer from training data and apply it to both training and testing data\n",
    "    * Obtain category-to-number encoder from training data and apply it to both training and testing data\n",
    "    * Feature correlation inspections\n",
    "* Machine learning\n",
    "    * Prepare features matrixes and target arrays for machine learning\n",
    "    * Model evaluations:\n",
    "        * Hyperparameter tuning for logistic regression and random forest\n",
    "        * Compare performance of logistic regression, random forest, stack ensemble, extreme gradient boosting, and light gradient boosting\n",
    "    * Model selection: Choose light gradient boosting as the most desirable model\n",
    "    * Feature importance check: Check the importance rankings of all features\n",
    "* Conclusion\n",
    "    \n",
    "----\n"
   ]
  },
  {
   "cell_type": "code",
   "execution_count": 1,
   "metadata": {
    "ExecuteTime": {
     "end_time": "2018-07-30T05:32:59.638264Z",
     "start_time": "2018-07-30T05:32:59.290978Z"
    }
   },
   "outputs": [],
   "source": [
    "# Notebook settings\n",
    "\n",
    "%config InlineBackend.figure_format = 'retina'\n",
    "%matplotlib inline\n",
    "from IPython.core.interactiveshell import InteractiveShell\n",
    "InteractiveShell.ast_node_interactivity = \"all\""
   ]
  },
  {
   "cell_type": "markdown",
   "metadata": {},
   "source": [
    "Disable jupyter notebook autoscrolling"
   ]
  },
  {
   "cell_type": "code",
   "execution_count": 2,
   "metadata": {
    "ExecuteTime": {
     "end_time": "2018-07-30T05:32:59.647008Z",
     "start_time": "2018-07-30T05:32:59.640804Z"
    }
   },
   "outputs": [
    {
     "data": {
      "application/javascript": [
       "IPython.OutputArea.prototype._should_scroll = function(lines) {\n",
       "    return false;\n",
       "}"
      ],
      "text/plain": [
       "<IPython.core.display.Javascript object>"
      ]
     },
     "metadata": {},
     "output_type": "display_data"
    }
   ],
   "source": [
    "%%javascript\n",
    "IPython.OutputArea.prototype._should_scroll = function(lines) {\n",
    "    return false;\n",
    "}"
   ]
  },
  {
   "cell_type": "code",
   "execution_count": 4,
   "metadata": {
    "ExecuteTime": {
     "end_time": "2018-07-30T05:35:03.825318Z",
     "start_time": "2018-07-30T05:35:03.709714Z"
    }
   },
   "outputs": [
    {
     "name": "stderr",
     "output_type": "stream",
     "text": [
      "[MLENS] backend: threading\n"
     ]
    }
   ],
   "source": [
    "# Imports\n",
    "\n",
    "import os\n",
    "import subprocess\n",
    "import warnings\n",
    "warnings.simplefilter(\"ignore\")\n",
    "from cycler import cycler\n",
    "import copy\n",
    "\n",
    "import pandas as pd\n",
    "import numpy as np\n",
    "import matplotlib.pyplot as plt\n",
    "import seaborn as sns\n",
    "linecolors = sns.color_palette('Set1')\n",
    "from sklearn.model_selection import train_test_split\n",
    "\n",
    "from sklearn.metrics import roc_auc_score\n",
    "from sklearn.linear_model import LogisticRegression\n",
    "from sklearn.naive_bayes import GaussianNB\n",
    "from sklearn.ensemble import RandomForestClassifier\n",
    "from mlens.ensemble import SuperLearner\n",
    "import xgboost as xgb\n",
    "import lightgbm as lgb\n",
    "\n",
    "%reload_ext autoreload\n",
    "%autoreload 2\n",
    "import preprocessing\n",
    "import modeling\n",
    "import utils\n",
    "\n",
    "plt.style.use('./stylelib/custom.mplstyle')"
   ]
  },
  {
   "cell_type": "markdown",
   "metadata": {},
   "source": [
    "---\n",
    "\n",
    "## 1 Data inspection and loading\n",
    "### 1.1 Downsample training data\n",
    "__Data size considerations__: The raw training data from kaggle has close to 200 million lines and takes 7 GB of memory. To keep EDA and evaluation steps of machine learning algorithms lightweight, a randomly sampled subset (0.1%) is used for EDA and model evaluation."
   ]
  },
  {
   "cell_type": "code",
   "execution_count": 5,
   "metadata": {
    "ExecuteTime": {
     "end_time": "2018-07-30T05:35:12.697751Z",
     "start_time": "2018-07-30T05:35:12.653260Z"
    }
   },
   "outputs": [],
   "source": [
    "dir_data = './data'\n",
    "from_scratch = False\n",
    "\n",
    "# When from_scratch = True, generate randomly sampled subset\n",
    "csv_train_raw = os.path.join(dir_data, 'train.csv')\n",
    "csv_train = os.path.join(dir_data, 'train_sample.csv')\n",
    "if from_scratch:\n",
    "    nlines_raw, nlines_reduced = preprocessing.csv_randomized_downsamp(\n",
    "        csv_in=csv_train_raw, csv_out=csv_train, fraction=0.001\n",
    "    )"
   ]
  },
  {
   "cell_type": "markdown",
   "metadata": {},
   "source": [
    "### 1.2 Load data into dataframe\n",
    "#### (1) Field inspections\n",
    "For efficiency concerns, we use shell commands instead of pandas operations."
   ]
  },
  {
   "cell_type": "code",
   "execution_count": 6,
   "metadata": {
    "ExecuteTime": {
     "end_time": "2018-07-30T05:35:18.139640Z",
     "start_time": "2018-07-30T05:35:17.973264Z"
    },
    "scrolled": true
   },
   "outputs": [
    {
     "name": "stdout",
     "output_type": "stream",
     "text": [
      "ip,app,device,os,channel,click_time,attributed_time,is_attributed\r\n",
      "93766,3,1,19,205,2017-11-07 10:28:10,,0\r\n"
     ]
    }
   ],
   "source": [
    "# Quick check of training data fields by calling system shell command\n",
    "!head -2 ./data/train_sample.csv"
   ]
  },
  {
   "cell_type": "code",
   "execution_count": 7,
   "metadata": {
    "ExecuteTime": {
     "end_time": "2018-07-30T05:35:20.488152Z",
     "start_time": "2018-07-30T05:35:20.314216Z"
    }
   },
   "outputs": [
    {
     "name": "stdout",
     "output_type": "stream",
     "text": [
      "click_id,ip,app,device,os,channel,click_time\r\n",
      "0,5744,9,1,3,107,2017-11-10 04:00:00\r\n"
     ]
    }
   ],
   "source": [
    "# Quick check of test data fields by calling system shell command\n",
    "!head -2 ./data/test.csv"
   ]
  },
  {
   "cell_type": "markdown",
   "metadata": {},
   "source": [
    "**[Notes] Field selections** <br>\n",
    "Field inspection tells us that training and testing data don't share the same fields. \n",
    "To prepare data for subsequent processing, we only preserve fields that are shared by both training and testing data. One exception is the `is_attributed` field in training data; It is the prediction target and thus needs to be preserved."
   ]
  },
  {
   "cell_type": "code",
   "execution_count": 8,
   "metadata": {
    "ExecuteTime": {
     "end_time": "2018-07-30T05:35:22.218822Z",
     "start_time": "2018-07-30T05:35:22.147875Z"
    }
   },
   "outputs": [
    {
     "name": "stdout",
     "output_type": "stream",
     "text": [
      "Data fields shared by both training and testing data:\n",
      " ['app', 'device', 'click_time', 'ip', 'os', 'channel']\n"
     ]
    }
   ],
   "source": [
    "# Extract field names from training and testing data\n",
    "dir_data = './data'\n",
    "csv_train = os.path.join(dir_data, 'train_sample.csv')\n",
    "fields_train = preprocessing.csv_list_fields(csv_in=csv_train)\n",
    "csv_test = os.path.join(dir_data, 'test.csv')\n",
    "fields_test = preprocessing.csv_list_fields(csv_in=csv_test)\n",
    "\n",
    "# Extract fields shared by both training and testing data\n",
    "fields_keep = list(set(fields_train) & (set(fields_test)))\n",
    "print('Data fields shared by both training and testing data:\\n', fields_keep)"
   ]
  },
  {
   "cell_type": "markdown",
   "metadata": {},
   "source": [
    "#### (2) Load into dataframe"
   ]
  },
  {
   "cell_type": "code",
   "execution_count": 10,
   "metadata": {
    "ExecuteTime": {
     "end_time": "2018-07-30T05:35:30.092568Z",
     "start_time": "2018-07-30T05:35:26.286301Z"
    }
   },
   "outputs": [],
   "source": [
    "# Load randomly sampled data subset into pandas dataframe,\n",
    "# and sort by click time (and reset index)\n",
    "df = pd.read_csv(\n",
    "    csv_train, usecols=fields_keep + ['is_attributed'],\n",
    "    parse_dates=['click_time']\n",
    ").sort_values(by='click_time').reset_index(drop=True)\n",
    "\n",
    "# Convert click time from UTC to local time\n",
    "df['click_time'] = (\n",
    "    pd.DatetimeIndex(df['click_time']).tz_localize('utc')\n",
    "    .tz_convert('Asia/Shanghai')\n",
    ")"
   ]
  },
  {
   "cell_type": "markdown",
   "metadata": {},
   "source": [
    "#### (3) Feature cardinality check"
   ]
  },
  {
   "cell_type": "code",
   "execution_count": 11,
   "metadata": {
    "ExecuteTime": {
     "end_time": "2018-07-30T05:35:39.605543Z",
     "start_time": "2018-07-30T05:35:37.243766Z"
    }
   },
   "outputs": [
    {
     "data": {
      "text/html": [
       "<div>\n",
       "<style scoped>\n",
       "    .dataframe tbody tr th:only-of-type {\n",
       "        vertical-align: middle;\n",
       "    }\n",
       "\n",
       "    .dataframe tbody tr th {\n",
       "        vertical-align: top;\n",
       "    }\n",
       "\n",
       "    .dataframe thead th {\n",
       "        text-align: right;\n",
       "    }\n",
       "</style>\n",
       "<table border=\"1\" class=\"dataframe\">\n",
       "  <thead>\n",
       "    <tr style=\"text-align: right;\">\n",
       "      <th></th>\n",
       "      <th>ip</th>\n",
       "      <th>app</th>\n",
       "      <th>device</th>\n",
       "      <th>os</th>\n",
       "      <th>channel</th>\n",
       "      <th>click_time</th>\n",
       "      <th>is_attributed</th>\n",
       "    </tr>\n",
       "  </thead>\n",
       "  <tbody>\n",
       "    <tr>\n",
       "      <th>n_unique</th>\n",
       "      <td>96409.000000</td>\n",
       "      <td>324.000000</td>\n",
       "      <td>609.000000</td>\n",
       "      <td>218.00000</td>\n",
       "      <td>175.000000</td>\n",
       "      <td>248157.000000</td>\n",
       "      <td>2.000000</td>\n",
       "    </tr>\n",
       "    <tr>\n",
       "      <th>n_unique (%)</th>\n",
       "      <td>5.214009</td>\n",
       "      <td>0.017523</td>\n",
       "      <td>0.032936</td>\n",
       "      <td>0.01179</td>\n",
       "      <td>0.009464</td>\n",
       "      <td>13.420871</td>\n",
       "      <td>0.000108</td>\n",
       "    </tr>\n",
       "  </tbody>\n",
       "</table>\n",
       "</div>"
      ],
      "text/plain": [
       "                        ip         app      device         os     channel  \\\n",
       "n_unique      96409.000000  324.000000  609.000000  218.00000  175.000000   \n",
       "n_unique (%)      5.214009    0.017523    0.032936    0.01179    0.009464   \n",
       "\n",
       "                 click_time  is_attributed  \n",
       "n_unique      248157.000000       2.000000  \n",
       "n_unique (%)      13.420871       0.000108  "
      ]
     },
     "execution_count": 11,
     "metadata": {},
     "output_type": "execute_result"
    }
   ],
   "source": [
    "# Check cardinality of the raw features\n",
    "df_cardinality = utils.df_check_cardinality(df)\n",
    "df_cardinality"
   ]
  },
  {
   "cell_type": "markdown",
   "metadata": {},
   "source": [
    "__IMPORTANT__: The raw features are all categorical and are of ___<span class=\"mark\">very high cardinality</span>___. Simpler techniques such as one hot encoding is not applicable and feature engineering will require major efforts."
   ]
  },
  {
   "cell_type": "markdown",
   "metadata": {},
   "source": [
    "---\n",
    "## 2. Exploratory data analysis and feature engineering\n",
    "### 2.1 Examine class proportion"
   ]
  },
  {
   "cell_type": "code",
   "execution_count": 12,
   "metadata": {
    "ExecuteTime": {
     "end_time": "2018-07-30T05:35:42.421747Z",
     "start_time": "2018-07-30T05:35:42.364712Z"
    }
   },
   "outputs": [
    {
     "name": "stdout",
     "output_type": "stream",
     "text": [
      "Percentage of positive target = 0.248%\n"
     ]
    }
   ],
   "source": [
    "# Inspect data size\n",
    "nclick_total =len(df)\n",
    "percentage_pos = (df['is_attributed'].sum()) / nclick_total * 100\n",
    "print('Percentage of positive target = {:.3f}%'.format(percentage_pos))"
   ]
  },
  {
   "cell_type": "markdown",
   "metadata": {},
   "source": [
    "**[CAUTION] Class imbalance**<br>\n",
    "Given that only __<span class=\"mark\">~0.2%</span>__ of the records has positive target values (`df['is_attributed'] == 1`), we have **an extreme case of class imbalance** at hand.\n",
    "\n",
    "### 2.2 Convert datetime variable to usable form\n",
    "Among the datetime fields such as month, day, and hour-of-the-day, we only keep hour-of-day and name it as `click_hour` for subsequent processing."
   ]
  },
  {
   "cell_type": "code",
   "execution_count": 13,
   "metadata": {
    "ExecuteTime": {
     "end_time": "2018-07-30T05:35:46.714692Z",
     "start_time": "2018-07-30T05:35:46.358115Z"
    }
   },
   "outputs": [],
   "source": [
    "# 1. Extract hour of the day\n",
    "df['click_hour'] = df['click_time'].dt.hour\n",
    "\n",
    "# 2. Drop raw `click_time`\n",
    "df.drop(columns=['click_time'], inplace=True)"
   ]
  },
  {
   "cell_type": "code",
   "execution_count": 14,
   "metadata": {
    "ExecuteTime": {
     "end_time": "2018-07-30T05:35:48.152407Z",
     "start_time": "2018-07-30T05:35:48.101978Z"
    }
   },
   "outputs": [
    {
     "data": {
      "text/html": [
       "<div>\n",
       "<style scoped>\n",
       "    .dataframe tbody tr th:only-of-type {\n",
       "        vertical-align: middle;\n",
       "    }\n",
       "\n",
       "    .dataframe tbody tr th {\n",
       "        vertical-align: top;\n",
       "    }\n",
       "\n",
       "    .dataframe thead th {\n",
       "        text-align: right;\n",
       "    }\n",
       "</style>\n",
       "<table border=\"1\" class=\"dataframe\">\n",
       "  <thead>\n",
       "    <tr style=\"text-align: right;\">\n",
       "      <th></th>\n",
       "      <th>ip</th>\n",
       "      <th>app</th>\n",
       "      <th>device</th>\n",
       "      <th>os</th>\n",
       "      <th>channel</th>\n",
       "      <th>is_attributed</th>\n",
       "      <th>click_hour</th>\n",
       "    </tr>\n",
       "  </thead>\n",
       "  <tbody>\n",
       "    <tr>\n",
       "      <th>0</th>\n",
       "      <td>143257</td>\n",
       "      <td>3</td>\n",
       "      <td>1</td>\n",
       "      <td>15</td>\n",
       "      <td>379</td>\n",
       "      <td>0</td>\n",
       "      <td>23</td>\n",
       "    </tr>\n",
       "    <tr>\n",
       "      <th>1</th>\n",
       "      <td>186555</td>\n",
       "      <td>3</td>\n",
       "      <td>1</td>\n",
       "      <td>13</td>\n",
       "      <td>379</td>\n",
       "      <td>0</td>\n",
       "      <td>23</td>\n",
       "    </tr>\n",
       "    <tr>\n",
       "      <th>2</th>\n",
       "      <td>119289</td>\n",
       "      <td>3</td>\n",
       "      <td>1</td>\n",
       "      <td>13</td>\n",
       "      <td>379</td>\n",
       "      <td>0</td>\n",
       "      <td>23</td>\n",
       "    </tr>\n",
       "  </tbody>\n",
       "</table>\n",
       "</div>"
      ],
      "text/plain": [
       "       ip  app  device  os  channel  is_attributed  click_hour\n",
       "0  143257    3       1  15      379              0          23\n",
       "1  186555    3       1  13      379              0          23\n",
       "2  119289    3       1  13      379              0          23"
      ]
     },
     "execution_count": 14,
     "metadata": {},
     "output_type": "execute_result"
    }
   ],
   "source": [
    "df.head(3)"
   ]
  },
  {
   "cell_type": "markdown",
   "metadata": {},
   "source": [
    "### 2.3 Train-test split, and set aside testing data"
   ]
  },
  {
   "cell_type": "code",
   "execution_count": 15,
   "metadata": {
    "ExecuteTime": {
     "end_time": "2018-07-30T05:35:54.019723Z",
     "start_time": "2018-07-30T05:35:53.749336Z"
    }
   },
   "outputs": [
    {
     "name": "stdout",
     "output_type": "stream",
     "text": [
      "Training data (pos%): 0.24962799171151626\n",
      "Testing data (pos%): 0.2449919958464933\n"
     ]
    }
   ],
   "source": [
    "# Split the original dataframe into in-sample training and testing sets\n",
    "df_train, df_test = train_test_split(df, test_size=0.3, random_state=42)\n",
    "\n",
    "# Double check class ratios after train-test split\n",
    "print(\n",
    "    'Training data (pos%):',\n",
    "    100 * df_train['is_attributed'].sum() / len(df_train)\n",
    ")\n",
    "print(\n",
    "    'Testing data (pos%):',\n",
    "    100 * df_test['is_attributed'].sum() / len(df_test)\n",
    ")"
   ]
  },
  {
   "cell_type": "markdown",
   "metadata": {},
   "source": [
    "### 2.4 Inspect variable distributions of training data"
   ]
  },
  {
   "cell_type": "code",
   "execution_count": 16,
   "metadata": {
    "ExecuteTime": {
     "end_time": "2018-07-30T05:35:56.229091Z",
     "start_time": "2018-07-30T05:35:56.111732Z"
    }
   },
   "outputs": [
    {
     "data": {
      "text/html": [
       "<div>\n",
       "<style scoped>\n",
       "    .dataframe tbody tr th:only-of-type {\n",
       "        vertical-align: middle;\n",
       "    }\n",
       "\n",
       "    .dataframe tbody tr th {\n",
       "        vertical-align: top;\n",
       "    }\n",
       "\n",
       "    .dataframe thead th {\n",
       "        text-align: right;\n",
       "    }\n",
       "</style>\n",
       "<table border=\"1\" class=\"dataframe\">\n",
       "  <thead>\n",
       "    <tr style=\"text-align: right;\">\n",
       "      <th></th>\n",
       "      <th>ip</th>\n",
       "      <th>app</th>\n",
       "      <th>device</th>\n",
       "      <th>os</th>\n",
       "      <th>channel</th>\n",
       "      <th>is_attributed</th>\n",
       "      <th>click_hour</th>\n",
       "    </tr>\n",
       "  </thead>\n",
       "  <tbody>\n",
       "    <tr>\n",
       "      <th>n_unique</th>\n",
       "      <td>87459.000000</td>\n",
       "      <td>309.000000</td>\n",
       "      <td>503.000000</td>\n",
       "      <td>204.000000</td>\n",
       "      <td>174.000000</td>\n",
       "      <td>2.000000</td>\n",
       "      <td>24.000000</td>\n",
       "    </tr>\n",
       "    <tr>\n",
       "      <th>n_unique (%)</th>\n",
       "      <td>6.757108</td>\n",
       "      <td>0.023873</td>\n",
       "      <td>0.038862</td>\n",
       "      <td>0.015761</td>\n",
       "      <td>0.013443</td>\n",
       "      <td>0.000155</td>\n",
       "      <td>0.001854</td>\n",
       "    </tr>\n",
       "  </tbody>\n",
       "</table>\n",
       "</div>"
      ],
      "text/plain": [
       "                        ip         app      device          os     channel  \\\n",
       "n_unique      87459.000000  309.000000  503.000000  204.000000  174.000000   \n",
       "n_unique (%)      6.757108    0.023873    0.038862    0.015761    0.013443   \n",
       "\n",
       "              is_attributed  click_hour  \n",
       "n_unique           2.000000   24.000000  \n",
       "n_unique (%)       0.000155    0.001854  "
      ]
     },
     "execution_count": 16,
     "metadata": {},
     "output_type": "execute_result"
    }
   ],
   "source": [
    "# Count the amount of unique values\n",
    "df_counts = pd.DataFrame()\n",
    "df_counts['n_unique'] = df_train.nunique()\n",
    "df_counts['n_unique (%)'] = 100 * df_counts['n_unique'] / len(df_train)\n",
    "df_counts.T"
   ]
  },
  {
   "cell_type": "markdown",
   "metadata": {},
   "source": [
    "**[TAKE AWAY]**<br>\n",
    "* Without exception, the total number of unique values for each of these variables is markedly smaller than the total number of clicks. This indicates that many-to-one mapping is typical between clicks and attributes such as `ip`, `app`, and `device`. This is reasonable given that a single user can generate multiple clicks.\n",
    "* The categorical features at hand are of very high cardinality. Feature engineering is going to be critical in preparing the data for machine learning."
   ]
  },
  {
   "cell_type": "markdown",
   "metadata": {},
   "source": [
    "### 2.5 Apply rare label imputation and target-guided encoding to categorical features"
   ]
  },
  {
   "cell_type": "code",
   "execution_count": 17,
   "metadata": {
    "ExecuteTime": {
     "end_time": "2018-07-30T05:36:02.459597Z",
     "start_time": "2018-07-30T05:35:59.925811Z"
    }
   },
   "outputs": [],
   "source": [
    "feature_list = [x for x in df_train.columns if x != 'is_attributed']\n",
    "\n",
    "# 1. Rare label imputation\n",
    "df_train, df_test = preprocessing.df_rarelabel_imputer(\n",
    "    df_train, df_test, cols=feature_list, thresh_percentage=0.05\n",
    ")\n",
    "\n",
    "# 2. Categorical label encoding\n",
    "df_train, df_test = preprocessing.df_label2num_encoding(\n",
    "    df_train, df_test, cols=feature_list\n",
    ")"
   ]
  },
  {
   "cell_type": "markdown",
   "metadata": {},
   "source": [
    "### 2.6 Visualize features' correlation coefficients"
   ]
  },
  {
   "cell_type": "code",
   "execution_count": 18,
   "metadata": {
    "ExecuteTime": {
     "end_time": "2018-07-30T05:36:05.546954Z",
     "start_time": "2018-07-30T05:36:04.403572Z"
    }
   },
   "outputs": [
    {
     "data": {
      "image/png": "[encoded data removed]",
      "text/plain": [
       "<Figure size 500x500 with 1 Axes>"
      ]
     },
     "metadata": {
      "image/png": {
       "height": 517,
       "width": 517
      }
     },
     "output_type": "display_data"
    }
   ],
   "source": [
    "# Plot Pearson's correlation coefficients\n",
    "utils.plot_corrmat(df_train, figsize=(5, 5))"
   ]
  },
  {
   "cell_type": "markdown",
   "metadata": {},
   "source": [
    "### 2.7 Check dataframes after encoding\n",
    "\n",
    "Note that mapping used for encoding is generated with training data and then propagated to testing data. \n",
    "Because there are non-overlap variables between training and testing data, and encoded testing data are going to have missing values. Let's have a look:"
   ]
  },
  {
   "cell_type": "code",
   "execution_count": 19,
   "metadata": {
    "ExecuteTime": {
     "end_time": "2018-07-30T05:36:08.412996Z",
     "start_time": "2018-07-30T05:36:07.980965Z"
    }
   },
   "outputs": [
    {
     "data": {
      "text/html": [
       "<div>\n",
       "<style scoped>\n",
       "    .dataframe tbody tr th:only-of-type {\n",
       "        vertical-align: middle;\n",
       "    }\n",
       "\n",
       "    .dataframe tbody tr th {\n",
       "        vertical-align: top;\n",
       "    }\n",
       "\n",
       "    .dataframe thead th {\n",
       "        text-align: right;\n",
       "    }\n",
       "</style>\n",
       "<table border=\"1\" class=\"dataframe\">\n",
       "  <thead>\n",
       "    <tr style=\"text-align: right;\">\n",
       "      <th></th>\n",
       "      <th>is_attributed</th>\n",
       "      <th>risk_ip</th>\n",
       "      <th>count_ip</th>\n",
       "      <th>risk_app</th>\n",
       "      <th>count_app</th>\n",
       "      <th>risk_device</th>\n",
       "      <th>count_device</th>\n",
       "      <th>risk_os</th>\n",
       "      <th>count_os</th>\n",
       "      <th>risk_channel</th>\n",
       "      <th>count_channel</th>\n",
       "      <th>risk_click_hour</th>\n",
       "      <th>count_click_hour</th>\n",
       "    </tr>\n",
       "  </thead>\n",
       "  <tbody>\n",
       "    <tr>\n",
       "      <th>nan_train(%)</th>\n",
       "      <td>0.0</td>\n",
       "      <td>0.000000</td>\n",
       "      <td>0.000000</td>\n",
       "      <td>0.000000</td>\n",
       "      <td>0.000000</td>\n",
       "      <td>0.000000</td>\n",
       "      <td>0.000000</td>\n",
       "      <td>0.000000</td>\n",
       "      <td>0.000000</td>\n",
       "      <td>0.00000</td>\n",
       "      <td>0.00000</td>\n",
       "      <td>0.0</td>\n",
       "      <td>0.0</td>\n",
       "    </tr>\n",
       "    <tr>\n",
       "      <th>nan_test(%)</th>\n",
       "      <td>0.0</td>\n",
       "      <td>1.869979</td>\n",
       "      <td>1.869979</td>\n",
       "      <td>0.003065</td>\n",
       "      <td>0.003065</td>\n",
       "      <td>0.020731</td>\n",
       "      <td>0.020731</td>\n",
       "      <td>0.002524</td>\n",
       "      <td>0.002524</td>\n",
       "      <td>0.00018</td>\n",
       "      <td>0.00018</td>\n",
       "      <td>0.0</td>\n",
       "      <td>0.0</td>\n",
       "    </tr>\n",
       "  </tbody>\n",
       "</table>\n",
       "</div>"
      ],
      "text/plain": [
       "              is_attributed   risk_ip  count_ip  risk_app  count_app  \\\n",
       "nan_train(%)            0.0  0.000000  0.000000  0.000000   0.000000   \n",
       "nan_test(%)             0.0  1.869979  1.869979  0.003065   0.003065   \n",
       "\n",
       "              risk_device  count_device   risk_os  count_os  risk_channel  \\\n",
       "nan_train(%)     0.000000      0.000000  0.000000  0.000000       0.00000   \n",
       "nan_test(%)      0.020731      0.020731  0.002524  0.002524       0.00018   \n",
       "\n",
       "              count_channel  risk_click_hour  count_click_hour  \n",
       "nan_train(%)        0.00000              0.0               0.0  \n",
       "nan_test(%)         0.00018              0.0               0.0  "
      ]
     },
     "execution_count": 19,
     "metadata": {},
     "output_type": "execute_result"
    }
   ],
   "source": [
    "# Check presence of missing value after encoding\n",
    "df_nulls = pd.DataFrame()\n",
    "df_nulls['nan_train(%)'] = 100 * (df_train.isnull().sum() / len(df_train))\n",
    "df_nulls['nan_test(%)'] = 100 * (df_test.isnull().sum() / len(df_test))\n",
    "df_nulls.T"
   ]
  },
  {
   "cell_type": "markdown",
   "metadata": {},
   "source": [
    "---\n",
    "## 3. Machine learning\n",
    "### 3.1 Data preparation\n",
    "Extract features matrix `X` and target array `y` for traing and testing data."
   ]
  },
  {
   "cell_type": "code",
   "execution_count": 20,
   "metadata": {
    "ExecuteTime": {
     "end_time": "2018-07-30T05:36:11.221656Z",
     "start_time": "2018-07-30T05:36:11.086297Z"
    }
   },
   "outputs": [
    {
     "name": "stdout",
     "output_type": "stream",
     "text": [
      "List of features being used:\n",
      " ['risk_ip', 'count_ip', 'risk_app', 'count_app', 'risk_device', 'count_device', 'risk_os', 'count_os', 'risk_channel', 'count_channel', 'risk_click_hour', 'count_click_hour']\n"
     ]
    }
   ],
   "source": [
    "target_col = 'is_attributed'\n",
    "feature_cols = [x for x in df_train.columns if x != target_col]\n",
    "print('List of features being used:\\n', feature_cols)\n",
    "\n",
    "X_train, y_train = preprocessing.df_to_Xy(\n",
    "    df_train, target_col=target_col, feature_cols=feature_cols\n",
    ")\n",
    "X_test, y_test = preprocessing.df_to_Xy(\n",
    "    df_test, target_col=target_col, feature_cols=feature_cols\n",
    ")"
   ]
  },
  {
   "cell_type": "code",
   "execution_count": 21,
   "metadata": {
    "ExecuteTime": {
     "end_time": "2018-07-30T05:36:13.142427Z",
     "start_time": "2018-07-30T05:36:13.098679Z"
    }
   },
   "outputs": [
    {
     "data": {
      "text/plain": [
       "(1294326, 12)"
      ]
     },
     "execution_count": 21,
     "metadata": {},
     "output_type": "execute_result"
    }
   ],
   "source": [
    "X_train.shape"
   ]
  },
  {
   "cell_type": "code",
   "execution_count": 22,
   "metadata": {
    "ExecuteTime": {
     "end_time": "2018-07-30T05:36:14.742773Z",
     "start_time": "2018-07-30T05:36:14.697215Z"
    }
   },
   "outputs": [
    {
     "data": {
      "text/plain": [
       "(1294326,)"
      ]
     },
     "execution_count": 22,
     "metadata": {},
     "output_type": "execute_result"
    }
   ],
   "source": [
    "y_train.shape"
   ]
  },
  {
   "cell_type": "markdown",
   "metadata": {},
   "source": [
    "### 3.2 Model evaluation\n",
    "List of models to be evaluated:\n",
    "* Logistic regression\n",
    "* Random forest\n",
    "* Stack ensemble\n",
    "* Extreme gradient boosting\n",
    "* Light gradient boosting"
   ]
  },
  {
   "cell_type": "code",
   "execution_count": 23,
   "metadata": {
    "ExecuteTime": {
     "end_time": "2018-07-30T05:36:16.755592Z",
     "start_time": "2018-07-30T05:36:16.710324Z"
    }
   },
   "outputs": [],
   "source": [
    "# Initialize book keeping for ROC curve, precision-recall curve,\n",
    "# confusion matrixes, and feature importance ranking\n",
    "model_list = ([\n",
    "    'LogisticRegression', 'RandomForest', 'StackEnsemble',\n",
    "    'XGBoost', 'LightGBM'\n",
    "])\n",
    "roc_val = dict.fromkeys(model_list)\n",
    "prec_recall_val = dict.fromkeys(model_list)\n",
    "confmat = dict.fromkeys(model_list)\n",
    "ft_importance = dict.fromkeys(model_list)"
   ]
  },
  {
   "cell_type": "markdown",
   "metadata": {},
   "source": [
    "#### (1) Benchmark: Logistic regression\n",
    "1. Examine the effects of regularization `C`<br>\n",
    "`C` is the inverse of the regularization strenght. The smaller `C` is, the stronger the regularization is. Here eight values varying between $1 \\times 10^{-1}$ and 1 are tested. "
   ]
  },
  {
   "cell_type": "code",
   "execution_count": null,
   "metadata": {
    "ExecuteTime": {
     "start_time": "2018-07-30T05:36:18.137Z"
    }
   },
   "outputs": [
    {
     "name": "stdout",
     "output_type": "stream",
     "text": [
      "logisticregression\n",
      "fit runtime = 28.92 s\n"
     ]
    }
   ],
   "source": [
    "model_name = 'LogisticRegression'\n",
    "\n",
    "# Check effects of regularization\n",
    "C_list = np.logspace(-7, 0, 8)\n",
    "auc_train, auc_test = (np.zeros(C_list.size), np.zeros(C_list.size))\n",
    "\n",
    "for i, C in enumerate(C_list):\n",
    "    estimator = LogisticRegression(class_weight='balanced', C=C)\n",
    "    model = modeling.Classifier(gridsearch=False)\n",
    "    model.fit(estimator, X_train, y_train, cv=5)\n",
    "    y_pred = model.predict(X_test)\n",
    "    test_score = roc_auc_score(y_test, y_pred)\n",
    "\n",
    "    # Score keeping\n",
    "    df_scores_temp = utils.ml_performance_summary(\n",
    "        model.train_score, test_score, model_name=model_name\n",
    "    )\n",
    "    auc_train[i] = df_scores_temp['auc_train']\n",
    "    auc_test[i] = df_scores_temp['auc_test']\n",
    "\n",
    "# Visualize model performance as a function of regularization term (C)\n",
    "utils.plot_scores_vs_regparams(\n",
    "    regparams=C_list, scores_train=auc_train, scores_test=auc_test,\n",
    "    xlabel='C', xscale='log'\n",
    ")"
   ]
  },
  {
   "cell_type": "markdown",
   "metadata": {},
   "source": [
    "From the graph above we can see that the best C value for logistic regression is around $1\\times10^{-6}$."
   ]
  },
  {
   "cell_type": "markdown",
   "metadata": {},
   "source": [
    "2. Modeling with the best C value"
   ]
  },
  {
   "cell_type": "code",
   "execution_count": null,
   "metadata": {
    "ExecuteTime": {
     "end_time": "2018-07-30T05:33:00.661808Z",
     "start_time": "2018-07-30T05:32:59.334Z"
    }
   },
   "outputs": [],
   "source": [
    "model_name = 'LogisticRegression'\n",
    "\n",
    "# Use the best C value\n",
    "estimator = LogisticRegression(class_weight='balanced', C=1e-6)\n",
    "model = modeling.Classifier(gridsearch=False)\n",
    "model.fit(estimator, X_train, y_train, cv=5)\n",
    "y_pred = model.predict(X_test)\n",
    "y_pred_proba = model.predict_proba(X_test) \n",
    "test_score = roc_auc_score(y_test, y_pred)\n",
    "\n",
    "# plot ROC curve\n",
    "roc_val[model_name] = utils.plot_roc_curve(\n",
    "    y_test, y_pred_proba, figsize=(4, 4), c='crimson', lw=3\n",
    ")\n",
    "# plot precision_vs_recall curve\n",
    "prec_recall_val[model_name] = utils.plot_precision_vs_recall(\n",
    "    y_test, y_pred_proba, figsize=(4, 4), c='darkblue', lw=3\n",
    ")\n",
    "# plot confusion matrix\n",
    "confmat[model_name] = utils.plot_confusion_matrix(\n",
    "    y_test, y_pred, figsize=(3, 3)\n",
    ")\n",
    "\n",
    "# Score keeping\n",
    "df_scores = utils.ml_performance_summary(\n",
    "    model.train_score, test_score, model_name=model_name\n",
    ")\n",
    "display(df_scores)\n",
    "\n",
    "ft_importance[model_name] = utils.plot_feature_importance(\n",
    "    model, feature_list=feature_cols, model_name=model_name, figsize=(3, 5)\n",
    ");"
   ]
  },
  {
   "cell_type": "markdown",
   "metadata": {},
   "source": [
    "**[Logistic regression performance]** The noticeable difference between training and testing scores indicate overfitting, but both scores are above 0.9 and the training time is very short. The shapes of the ROC curve and precision-recall curve imply low false negative values and high false positive values."
   ]
  },
  {
   "cell_type": "markdown",
   "metadata": {},
   "source": [
    "#### (2) Bagging ensemble: Random forest\n",
    "1. Check the effects of `max_depth` values"
   ]
  },
  {
   "cell_type": "code",
   "execution_count": null,
   "metadata": {
    "ExecuteTime": {
     "end_time": "2018-07-30T05:33:00.662825Z",
     "start_time": "2018-07-30T05:32:59.336Z"
    }
   },
   "outputs": [],
   "source": [
    "model_name = 'RandomForest'\n",
    "\n",
    "# Check effects of regularization\n",
    "depth_list = np.array([1, 2, 3])\n",
    "auc_train, auc_test = (np.zeros(depth_list.size), np.zeros(depth_list.size))\n",
    "\n",
    "for i, depth in enumerate(depth_list):\n",
    "    estimator = RandomForestClassifier(\n",
    "        class_weight='balanced', max_depth=depth, n_estimators=50,\n",
    "        random_state=42\n",
    "    )\n",
    "    model = modeling.Classifier(gridsearch=False)\n",
    "    model.fit(estimator, X_train, y_train, cv=5)\n",
    "    y_pred = model.predict(X_test)\n",
    "    test_score = roc_auc_score(y_test, y_pred)\n",
    "\n",
    "    # Score keeping\n",
    "    df_scores_temp = utils.ml_performance_summary(\n",
    "        model.train_score, test_score, model_name=model_name\n",
    "    )\n",
    "    auc_train[i] = df_scores_temp['auc_train']\n",
    "    auc_test[i] = df_scores_temp['auc_test']\n",
    "\n",
    "# Visualize model performance as a function of regularization term (C)\n",
    "utils.plot_scores_vs_regparams(\n",
    "    regparams=depth_list, scores_train=auc_train, scores_test=auc_test,\n",
    "    xlabel='max_depth', xscale='linear'\n",
    ")"
   ]
  },
  {
   "cell_type": "markdown",
   "metadata": {},
   "source": [
    "From the graph above we can see that the best `max_depth` value for random forest is 1."
   ]
  },
  {
   "cell_type": "markdown",
   "metadata": {},
   "source": [
    "2. Modeling with the best `max_depth` value"
   ]
  },
  {
   "cell_type": "code",
   "execution_count": null,
   "metadata": {
    "ExecuteTime": {
     "end_time": "2018-07-30T05:33:00.664150Z",
     "start_time": "2018-07-30T05:32:59.338Z"
    }
   },
   "outputs": [],
   "source": [
    "model_name = 'RandomForest'\n",
    "\n",
    "# Use the best max_depth value\n",
    "estimator = RandomForestClassifier(\n",
    "    class_weight='balanced', max_depth=1, n_estimators=50,\n",
    "    random_state=42\n",
    ")\n",
    "model = modeling.Classifier(gridsearch=False)\n",
    "model.fit(estimator, X_train, y_train, cv=5)\n",
    "y_pred = model.predict(X_test)\n",
    "y_pred_proba = model.predict_proba(X_test)\n",
    "test_score = roc_auc_score(y_test, y_pred)\n",
    "\n",
    "# ROC curve demo\n",
    "roc_val[model_name] = utils.plot_roc_curve(\n",
    "    y_test, y_pred_proba, figsize=(4, 4), c='crimson', lw=3\n",
    ")\n",
    "# plot precision_vs_recall curve\n",
    "prec_recall_val[model_name] = utils.plot_precision_vs_recall(\n",
    "    y_test, y_pred_proba, figsize=(4, 4), c='darkblue', lw=3\n",
    ")\n",
    "# plot confusion matrix\n",
    "confmat[model_name] = utils.plot_confusion_matrix(\n",
    "    y_test, y_pred, figsize=(3, 3)\n",
    ")\n",
    "\n",
    "# Score keeping\n",
    "df_scores = df_scores.append(utils.ml_performance_summary(\n",
    "    model.train_score, test_score, model_name=model_name\n",
    ")).reset_index(drop=True)\n",
    "display(df_scores)\n",
    "\n",
    "ft_importance[model_name] = utils.plot_feature_importance(\n",
    "    model, feature_list=feature_cols, model_name=model_name, figsize=(3, 5)\n",
    ");"
   ]
  },
  {
   "cell_type": "markdown",
   "metadata": {},
   "source": [
    "**[Random forest performance]** The difference between training and testing score is smaller than that of logistic regression, which highlights the advantage of bagging ensemble in reducing overfitting. The testing score is similar to that of logistic regression, but the required training time is 4 times longer."
   ]
  },
  {
   "cell_type": "markdown",
   "metadata": {},
   "source": [
    "#### (3) Stacking ensemble: Random forest + logistic regression\n",
    "Two layer stack:\n",
    "* Base learners: Random forest and Naive Bayes\n",
    "* Meta learner (also known as *blender*): logistic regression"
   ]
  },
  {
   "cell_type": "code",
   "execution_count": null,
   "metadata": {
    "ExecuteTime": {
     "end_time": "2018-07-30T05:33:00.665879Z",
     "start_time": "2018-07-30T05:32:59.341Z"
    }
   },
   "outputs": [],
   "source": [
    "model_name = 'StackEnsemble'\n",
    "estimator = SuperLearner(random_state=42, verbose=0)\n",
    "import copy\n",
    "\n",
    "def stacking_wrapper(estimator, proba=True):\n",
    "    estimator.add([\n",
    "        RandomForestClassifier(\n",
    "            class_weight='balanced', max_depth=1, n_estimators=50,\n",
    "            random_state=42\n",
    "        ), GaussianNB()\n",
    "    ], proba=proba);\n",
    "    estimator.add_meta(\n",
    "        LogisticRegression(class_weight='balanced'), proba=proba\n",
    "    );\n",
    "    \n",
    "    model = modeling.Classifier(gridsearch=False)\n",
    "    model.fit(estimator, X_train, y_train, cv=None)\n",
    "    print(model.train_score)\n",
    "    model_out = copy.deepcopy(model)\n",
    "    y_pred_proba = model.predict(X_test)\n",
    "    y_pred = (y_pred_proba[:, 1] >= 0.5).astype(float)\n",
    "    return (y_pred, y_pred_proba, model_out)\n",
    "    \n",
    "\n",
    "# y_pred = wrapper(estimator, proba=False)\n",
    "y_pred, y_pred_proba, model = stacking_wrapper(estimator, proba=True)\n",
    "test_score = roc_auc_score(y_test, y_pred)\n",
    "\n",
    "# ROC curve demo\n",
    "roc_val[model_name] = utils.plot_roc_curve(\n",
    "    y_test, y_pred_proba, figsize=(4, 4), c='crimson', lw=3\n",
    ")\n",
    "# plot precision_vs_recall curve\n",
    "prec_recall_val[model_name] = utils.plot_precision_vs_recall(\n",
    "    y_test, y_pred_proba, figsize=(4, 4), c='darkblue', lw=3\n",
    ")\n",
    "# plot confusion matrix\n",
    "confmat[model_name] = utils.plot_confusion_matrix(\n",
    "    y_test, y_pred, figsize=(3, 3)\n",
    ")\n",
    "\n",
    "# Score keeping\n",
    "df_scores = df_scores.append(utils.ml_performance_summary(\n",
    "    model.train_score, test_score, model_name=model_name\n",
    ")).reset_index(drop=True)\n",
    "display(df_scores)\n",
    "\n",
    "# ft_importance[model_name] = utils.plot_feature_importance(\n",
    "#     model, feature_list=feature_cols, model_name=model_name, figsize=(3, 5)\n",
    "# );"
   ]
  },
  {
   "cell_type": "markdown",
   "metadata": {},
   "source": [
    "**[Stack ensemble performance]** The training and testing scores show almost no difference. The slightly better testing score should not have occurred and could have resulted from noise in the data. Note that once we increase the data size in the `aux` notebook, testing score is worse than the training data. Because of the API being used, we did not carry out cross validation in this evaluation, which explains the faster computing speed despite the inclusion of the random forest model."
   ]
  },
  {
   "cell_type": "markdown",
   "metadata": {},
   "source": [
    "#### (4) Boosting ensemble: extreme gradient boosting with tree base learner"
   ]
  },
  {
   "cell_type": "code",
   "execution_count": null,
   "metadata": {
    "ExecuteTime": {
     "end_time": "2018-07-30T05:33:00.667110Z",
     "start_time": "2018-07-30T05:32:59.343Z"
    }
   },
   "outputs": [],
   "source": [
    "model_name = 'XGBoost'\n",
    "\n",
    "# xgb scikit-learn API\n",
    "estimator = xgb.XGBClassifier(\n",
    "    max_depth=1, n_estimators=50, random_state=42\n",
    ")\n",
    "model = modeling.Classifier(gridsearch=False)\n",
    "model.fit(estimator, X_train, y_train, cv=5)\n",
    "y_pred = model.predict(X_test)\n",
    "y_pred_proba = model.predict_proba(X_test)\n",
    "test_score = roc_auc_score(y_test, y_pred)\n",
    "\n",
    "# ROC curve demo\n",
    "roc_val[model_name] = utils.plot_roc_curve(\n",
    "    y_test, y_pred_proba, figsize=(4, 4), c='crimson', lw=3\n",
    ")\n",
    "# plot precision_vs_recall curve\n",
    "prec_recall_val[model_name] = utils.plot_precision_vs_recall(\n",
    "    y_test, y_pred_proba, figsize=(4, 4), c='darkblue', lw=3\n",
    ")\n",
    "# plot confusion matrix\n",
    "confmat[model_name] = utils.plot_confusion_matrix(\n",
    "    y_test, y_pred, figsize=(3, 3)\n",
    ")\n",
    "\n",
    "# Score keeping\n",
    "df_scores = df_scores.append(utils.ml_performance_summary(\n",
    "    model.train_score, test_score, model_name=model_name\n",
    ")).reset_index(drop=True)\n",
    "display(df_scores)\n",
    "\n",
    "ft_importance[model_name] = utils.plot_feature_importance(\n",
    "    model, feature_list=feature_cols, model_name=model_name, figsize=(3, 5)\n",
    ");"
   ]
  },
  {
   "cell_type": "markdown",
   "metadata": {},
   "source": [
    "**[Extreme gradient boosting performance]** Despite only using one split in the base tree learners, XGBoost shows the largest extent of overfitting. The feature importance ranking shows a markedly smaller set of useful features that those of logistic regression and random forest. Although boosting algorithm is inherently sequential, the training time of XGBoost is not much slower than parallel ensemble random forest. This reflects the superb computational efficiency of XGBoost (via efficient use of memory and parallelization of tree constructions)."
   ]
  },
  {
   "cell_type": "markdown",
   "metadata": {},
   "source": [
    "#### (5) Boosting ensemble: Light gradient boosting"
   ]
  },
  {
   "cell_type": "code",
   "execution_count": null,
   "metadata": {
    "ExecuteTime": {
     "end_time": "2018-07-30T05:33:00.669208Z",
     "start_time": "2018-07-30T05:32:59.346Z"
    }
   },
   "outputs": [],
   "source": [
    "model_name = 'LightGBM'\n",
    "\n",
    "# lightgbm scikit-learn API\n",
    "estimator = lgb.LGBMClassifier(\n",
    "    max_depth=1, n_estimators=50, random_state=42\n",
    ")\n",
    "model = modeling.Classifier(gridsearch=False)\n",
    "model.fit(estimator, X_train, y_train, cv=5)\n",
    "y_pred = model.predict(X_test)\n",
    "y_pred_proba = model.predict_proba(X_test)\n",
    "test_score = roc_auc_score(y_test, y_pred)\n",
    "\n",
    "# ROC curve demo\n",
    "roc_val[model_name] = utils.plot_roc_curve(\n",
    "    y_test, y_pred_proba, figsize=(4, 4), c='crimson', lw=3\n",
    ")\n",
    "# plot precision_vs_recall curve\n",
    "prec_recall_val[model_name] = utils.plot_precision_vs_recall(\n",
    "    y_test, y_pred_proba, figsize=(4, 4), c='darkblue', lw=3\n",
    ")\n",
    "# plot confusion matrix\n",
    "confmat[model_name] = utils.plot_confusion_matrix(\n",
    "    y_test, y_pred, figsize=(3, 3)\n",
    ")\n",
    "\n",
    "# Score keeping\n",
    "df_scores = df_scores.append(utils.ml_performance_summary(\n",
    "    model.train_score, test_score, model_name=model_name\n",
    ")).reset_index(drop=True)\n",
    "display(df_scores)\n",
    "\n",
    "\n",
    "ft_importance[model_name] = utils.plot_feature_importance(\n",
    "    model, feature_list=feature_cols, model_name=model_name, figsize=(3, 5)\n",
    ");"
   ]
  },
  {
   "cell_type": "markdown",
   "metadata": {},
   "source": [
    "**[Light gradient boosting performance]** It is interesting to see that both the performances and feature importance rankings of XGBoost and LightGBM are nearly identical, but LigthGBM is about three times faster than XGBoost."
   ]
  },
  {
   "cell_type": "markdown",
   "metadata": {},
   "source": [
    "### 3.3 Model comparison\n",
    "#### (1) ROC curve"
   ]
  },
  {
   "cell_type": "code",
   "execution_count": null,
   "metadata": {
    "ExecuteTime": {
     "end_time": "2018-07-30T05:33:00.670363Z",
     "start_time": "2018-07-30T05:32:59.348Z"
    }
   },
   "outputs": [],
   "source": [
    "# ROC curve comparison\n",
    "fig, ax = plt.subplots(figsize=(4, 4))\n",
    "ax.set_prop_cycle(cycler('color', linecolors))\n",
    "for model in roc_val:\n",
    "    ax.plot(\n",
    "        roc_val[model][0], roc_val[model][1], lw=3, label=model, alpha=0.7\n",
    "    )\n",
    "ax.set(\n",
    "    xlim=(0, 1), ylim=(0, 1),\n",
    "    xlabel='False positive rate', ylabel='True positive rate'\n",
    ")\n",
    "ax.legend(loc='lower right')\n",
    "plt.show();"
   ]
  },
  {
   "cell_type": "markdown",
   "metadata": {},
   "source": [
    "ROC curves of all the tested models have the desired shapes that indicate good performance and low false negative rates. \n",
    "\n",
    "#### (2) Precision-recall curve"
   ]
  },
  {
   "cell_type": "code",
   "execution_count": null,
   "metadata": {
    "ExecuteTime": {
     "end_time": "2018-07-30T05:33:00.671793Z",
     "start_time": "2018-07-30T05:32:59.350Z"
    }
   },
   "outputs": [],
   "source": [
    "# Precision-recall curve comparison\n",
    "fig, ax = plt.subplots(figsize=(4, 4))\n",
    "ax.set_prop_cycle(cycler('color', linecolors))\n",
    "for model in roc_val:\n",
    "    ax.plot(\n",
    "        prec_recall_val[model][0], prec_recall_val[model][1], lw=3,\n",
    "        label=model, alpha=0.7\n",
    "    )\n",
    "ax.set(\n",
    "    xlim=(0, 1), ylim=(0, 1), xlabel='Recall', ylabel='Precision'\n",
    ")\n",
    "ax.legend(loc='upper right')\n",
    "plt.show();"
   ]
  },
  {
   "cell_type": "markdown",
   "metadata": {},
   "source": [
    "Because the positive class is very rare, none of the precision-recall curves have the ideal shape. The curve of LightGBM has the best shape, but its diagonal shape indicates a high false positive rate.\n",
    "\n",
    "#### (3) Confusion matrixes"
   ]
  },
  {
   "cell_type": "code",
   "execution_count": null,
   "metadata": {
    "ExecuteTime": {
     "end_time": "2018-07-30T05:33:00.673582Z",
     "start_time": "2018-07-30T05:32:59.352Z"
    }
   },
   "outputs": [],
   "source": [
    "# Confusion matrix comparison\n",
    "fig, ax = plt.subplots(\n",
    "    nrows=1, ncols=4, figsize=(10, 3), sharex=True, sharey=True\n",
    ")\n",
    "for model, axi in zip(confmat, ax.flatten()):\n",
    "    cm = confmat[model].values\n",
    "    labels = np.array([\n",
    "        ['TN: {:d}'.format(cm[0][0]), 'FP: {:d}'.format(cm[0][1])],\n",
    "        ['FN: {:d}'.format(cm[1][0]), 'TP: {:d}'.format(cm[1][1])]\n",
    "    ])\n",
    "    sns.heatmap(\n",
    "        confmat[model], annot=labels, cmap='Blues', square=True,\n",
    "        linewidths=.5, cbar=False, fmt='', ax=axi\n",
    "    )\n",
    "    axi.set(title=model)\n",
    "plt.show();"
   ]
  },
  {
   "cell_type": "markdown",
   "metadata": {},
   "source": [
    "All models show small false negative rate but high false positive rate, which explains the shapes of the ROC curves and precision-recall curves we have shown earlier.\n",
    "\n",
    "#### (4) Feature importances"
   ]
  },
  {
   "cell_type": "code",
   "execution_count": null,
   "metadata": {
    "ExecuteTime": {
     "end_time": "2018-07-30T05:33:00.674593Z",
     "start_time": "2018-07-30T05:32:59.355Z"
    }
   },
   "outputs": [],
   "source": [
    "# Feature importance ranking comparison\n",
    "model_list_ftimportance = [x for x in model_list if x is not 'StackEnsemble']\n",
    "df_ft_importance = pd.DataFrame(\n",
    "    index=ft_importance[model][0], columns=model_list_ftimportance\n",
    ")\n",
    "for model in model_list_ftimportance:\n",
    "    df_ft_importance[model] = pd.DataFrame(\n",
    "        index=ft_importance[model][0],\n",
    "        data=abs(ft_importance[model][1])\n",
    "    )\n",
    "    df_ft_importance[model] = (\n",
    "        df_ft_importance[model] / np.max(abs(df_ft_importance[model]))\n",
    "    )\n",
    "\n",
    "fig, ax = plt.subplots(figsize=(4, 6))\n",
    "df_ft_importance.plot(kind='barh', ax=ax, width=0.7, edgecolor='k')\n",
    "ax.set(xlim=(0, 2), xlabel='Feature importance\\n(normalized absolute values)')\n",
    "ax.legend(loc='lower right')\n",
    "plt.show();"
   ]
  },
  {
   "cell_type": "markdown",
   "metadata": {},
   "source": [
    "Among all the features used in this project, both `*_ip` and `*_click_hour` features have relatively low importance values whereas `risck_channel`, `risk_app`, and `risk_os` are assigned high importances across all models. This indicates that app downloads have a closer tie to the content and nature of the mobile app, and factors such as IP and click time have almost no predicting power to app downloads.\n",
    "\n",
    "\n",
    "## 4. Conclusion\n",
    "---\n",
    "We select light gradient boosting as the preferred model, and  results in the companion jupyter notebook that were obtained from a larger dataset also demonstrate the robustness of the selected model."
   ]
  }
 ],
 "metadata": {
  "gist": {
   "data": {
    "description": "MLNDcapstone_pipeline.ipynb",
    "public": false
   },
   "id": ""
  },
  "kernelspec": {
   "display_name": "Python 3",
   "language": "python",
   "name": "python3"
  },
  "language_info": {
   "codemirror_mode": {
    "name": "ipython",
    "version": 3
   },
   "file_extension": ".py",
   "mimetype": "text/x-python",
   "name": "python",
   "nbconvert_exporter": "python",
   "pygments_lexer": "ipython3",
   "version": "3.6.6"
  },
  "toc": {
   "base_numbering": 1,
   "nav_menu": {},
   "number_sections": true,
   "sideBar": true,
   "skip_h1_title": false,
   "title_cell": "Table of Contents",
   "title_sidebar": "Contents",
   "toc_cell": false,
   "toc_position": {
    "height": "calc(100% - 180px)",
    "left": "10px",
    "top": "150px",
    "width": "278px"
   },
   "toc_section_display": true,
   "toc_window_display": true
  }
 },
 "nbformat": 4,
 "nbformat_minor": 2
}
